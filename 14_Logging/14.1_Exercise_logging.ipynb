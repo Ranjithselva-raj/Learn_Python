{
 "cells": [
  {
   "cell_type": "markdown",
   "metadata": {},
   "source": [
    "# Module: Logging Exercise\n",
    "### 1: Basic Logging\n",
    "\n",
    "1. Write a Python function to create a basic logger that logs messages to a file named `app2.log`."
   ]
  },
  {
   "cell_type": "code",
   "execution_count": 1,
   "metadata": {},
   "outputs": [],
   "source": [
    "import logging"
   ]
  },
  {
   "cell_type": "code",
   "execution_count": 5,
   "metadata": {},
   "outputs": [
    {
     "name": "stderr",
     "output_type": "stream",
     "text": [
      "DEBUG:root:This is a debug message\n",
      "INFO:root:This is an info message\n",
      "WARNING:root:This is a warning message\n",
      "ERROR:root:This is an error message\n",
      "CRITICAL:root:This s is a critical message\n",
      "INFO:root:Program Execution Completed\n"
     ]
    },
    {
     "name": "stdout",
     "output_type": "stream",
     "text": [
      "Program Execution Completed\n"
     ]
    }
   ],
   "source": [
    "#configure a logger settings\n",
    "\n",
    "def basic_logger():\n",
    "    try:\n",
    "        logging.basicConfig(level=logging.DEBUG,handlers=[logging.FileHandler('app2.log'), logging.StreamHandler()])\n",
    "        logging.debug(\"This is a debug message\")\n",
    "        logging.info(\"This is an info message\")\n",
    "        logging.warning(\"This is a warning message\")\n",
    "        logging.error(\"This is an error message\")\n",
    "        logging.critical(\"This s is a critical message\")\n",
    "    except Exception as e:\n",
    "        print(e)\n",
    "    finally:\n",
    "        logging.info(\"Program Execution Completed\")\n",
    "        print(\"Program Execution Completed\")\n",
    "\n",
    "basic_logger()      \n",
    "\n",
    "       "
   ]
  },
  {
   "cell_type": "markdown",
   "metadata": {},
   "source": [
    "### 2: Logging with Different Handlers\n",
    "\n",
    "1. Write a Python function to create a logger that logs messages to both a file named `app2.log` and the console."
   ]
  },
  {
   "cell_type": "code",
   "execution_count": 8,
   "metadata": {},
   "outputs": [
    {
     "name": "stderr",
     "output_type": "stream",
     "text": [
      "2024-08-31 11:13:43,035 - my_logger - DEBUG - This is a debug message\n",
      "2024-08-31 11:13:43,035 - my_logger - DEBUG - This is a debug message\n",
      "2024-08-31 11:13:43,035 - my_logger - DEBUG - This is a debug message\n",
      "DEBUG:my_logger:This is a debug message\n"
     ]
    },
    {
     "name": "stderr",
     "output_type": "stream",
     "text": [
      "2024-08-31 11:13:43,047 - my_logger - INFO - This is an info message\n",
      "2024-08-31 11:13:43,047 - my_logger - INFO - This is an info message\n",
      "2024-08-31 11:13:43,047 - my_logger - INFO - This is an info message\n",
      "INFO:my_logger:This is an info message\n",
      "2024-08-31 11:13:43,049 - my_logger - WARNING - This is a warning message\n",
      "2024-08-31 11:13:43,049 - my_logger - WARNING - This is a warning message\n",
      "2024-08-31 11:13:43,049 - my_logger - WARNING - This is a warning message\n",
      "WARNING:my_logger:This is a warning message\n",
      "2024-08-31 11:13:43,052 - my_logger - ERROR - This is an error message\n",
      "2024-08-31 11:13:43,052 - my_logger - ERROR - This is an error message\n",
      "2024-08-31 11:13:43,052 - my_logger - ERROR - This is an error message\n",
      "ERROR:my_logger:This is an error message\n",
      "2024-08-31 11:13:43,054 - my_logger - CRITICAL - This is a critical message\n",
      "2024-08-31 11:13:43,054 - my_logger - CRITICAL - This is a critical message\n",
      "2024-08-31 11:13:43,054 - my_logger - CRITICAL - This is a critical message\n",
      "CRITICAL:my_logger:This is a critical message\n"
     ]
    }
   ],
   "source": [
    "def logger_with_handlers():\n",
    "    logger = logging.getLogger('my_logger')\n",
    "    logger.setLevel(logging.DEBUG)\n",
    "    \n",
    "    file_handler = logging.FileHandler('app2.log')\n",
    "    console_handler = logging.StreamHandler()\n",
    "    \n",
    "    file_handler.setLevel(logging.DEBUG)\n",
    "    console_handler.setLevel(logging.DEBUG)\n",
    "    \n",
    "    formatter = logging.Formatter('%(asctime)s - %(name)s - %(levelname)s - %(message)s')\n",
    "    file_handler.setFormatter(formatter)\n",
    "    console_handler.setFormatter(formatter)\n",
    "    \n",
    "    logger.addHandler(file_handler)\n",
    "    logger.addHandler(console_handler)\n",
    "    \n",
    "    logger.debug('This is a debug message')\n",
    "    logger.info('This is an info message')\n",
    "    logger.warning('This is a warning message')\n",
    "    logger.error('This is an error message')\n",
    "    logger.critical('This is a critical message')\n",
    "\n",
    "# Test the function\n",
    "logger_with_handlers()"
   ]
  },
  {
   "cell_type": "markdown",
   "metadata": {},
   "source": [
    "### 3: Formatting Log Messages\n",
    "\n",
    "1. Write a Python function to create a logger with a custom log message format that includes the timestamp, logging level, and message."
   ]
  },
  {
   "cell_type": "code",
   "execution_count": 9,
   "metadata": {},
   "outputs": [
    {
     "name": "stderr",
     "output_type": "stream",
     "text": [
      "2024-08-31 11:18:39,553 - custom_logger - DEBUG - This is a debug message\n",
      "DEBUG:custom_logger:This is a debug message\n",
      "2024-08-31 11:18:39,555 - custom_logger - INFO - This is an info message\n",
      "INFO:custom_logger:This is an info message\n",
      "2024-08-31 11:18:39,556 - custom_logger - WARNING - This is a warning message\n",
      "WARNING:custom_logger:This is a warning message\n",
      "2024-08-31 11:18:39,557 - custom_logger - ERROR - This is an error message\n",
      "ERROR:custom_logger:This is an error message\n",
      "2024-08-31 11:18:39,558 - custom_logger - CRITICAL - This is a critical message\n",
      "CRITICAL:custom_logger:This is a critical message\n"
     ]
    }
   ],
   "source": [
    "def logger_with_custom_format():\n",
    "    logger = logging.getLogger('custom_logger')\n",
    "    logger.setLevel(logging.DEBUG)\n",
    "\n",
    "    file_handler = logging.FileHandler('custom_app.log')\n",
    "    console_handler = logging.StreamHandler()\n",
    "\n",
    "    formatter = logging.Formatter('%(asctime)s - %(name)s - %(levelname)s - %(message)s')\n",
    "    file_handler.setFormatter(formatter)\n",
    "    console_handler.setFormatter(formatter)\n",
    "\n",
    "    logger.addHandler(file_handler)\n",
    "    logger.addHandler(console_handler)\n",
    "\n",
    "    logger.debug('This is a debug message')\n",
    "    logger.info('This is an info message')\n",
    "    logger.warning('This is a warning message')\n",
    "    logger.error('This is an error message')\n",
    "    logger.critical('This is a critical message')\n",
    "\n",
    "# Test the function\n",
    "logger_with_custom_format()\n"
   ]
  },
  {
   "cell_type": "markdown",
   "metadata": {},
   "source": [
    "2. Modify the function to use different formats for the file and console handlers."
   ]
  },
  {
   "cell_type": "code",
   "execution_count": 11,
   "metadata": {},
   "outputs": [
    {
     "name": "stderr",
     "output_type": "stream",
     "text": [
      "DEBUG - This is a debug message\n",
      "DEBUG:multi_format_logger:This is a debug message\n",
      "INFO - This is an info message\n",
      "INFO:multi_format_logger:This is an info message\n",
      "WARNING - This is a warning message\n",
      "WARNING:multi_format_logger:This is a warning message\n",
      "ERROR - This is an error message\n",
      "ERROR:multi_format_logger:This is an error message\n",
      "CRITICAL - This is a critical message\n",
      "CRITICAL:multi_format_logger:This is a critical message\n"
     ]
    }
   ],
   "source": [
    "def logger_with_different_format():\n",
    "    logger = logging.getLogger('multi_format_logger')\n",
    "    logger.setLevel(logging.DEBUG)\n",
    "\n",
    "    file_handler = logging.FileHandler('multi_format_app.log')\n",
    "    console_handler = logging.StreamHandler()\n",
    "\n",
    "    file_formatter = logging.Formatter('%(asctime)s - %(name)s - %(levelname)s - %(message)s')\n",
    "    console_formatter = logging.Formatter('%(levelname)s - %(message)s')\n",
    "    file_handler.setFormatter(file_formatter)\n",
    "    console_handler.setFormatter(console_formatter)\n",
    "\n",
    "    logger.addHandler(file_handler)\n",
    "    logger.addHandler(console_handler)\n",
    "\n",
    "    logger.debug('This is a debug message')\n",
    "    logger.info('This is an info message')\n",
    "    logger.warning('This is a warning message')\n",
    "    logger.error('This is an error message')\n",
    "    logger.critical('This is a critical message')\n",
    "\n",
    "# Test the function\n",
    "logger_with_different_format()"
   ]
  },
  {
   "cell_type": "markdown",
   "metadata": {},
   "source": [
    "### 4: Rotating Log Files\n",
    "\n",
    "1. Write a Python function to create a logger that uses a rotating file handler, which creates a new log file when the current log file reaches a certain size. # The modification is already included in the function with backupCount=5."
   ]
  },
  {
   "cell_type": "code",
   "execution_count": 2,
   "metadata": {},
   "outputs": [],
   "source": [
    "from logging.handlers import RotatingFileHandler\n",
    "\n",
    "def logger_with_rotating_file_handler():\n",
    "    try:\n",
    "        logger = logging.getLogger('rotating_file_logger')\n",
    "        logger.setLevel(logging.DEBUG)\n",
    "\n",
    "        rotating_handler = RotatingFileHandler('rotating_app.log', maxBytes=2000, backupCount=5)\n",
    "        formatter = logging.Formatter('%(asctime)s - %(name)s - %(levelname)s - %(message)s')\n",
    "        rotating_handler.setFormatter(formatter)\n",
    "\n",
    "        logger.addHandler(rotating_handler)\n",
    "        try:\n",
    "            for i in range(100):\n",
    "                logger.debug('This is a debug message number {}'.format(i))\n",
    "        except Exception as e:\n",
    "            print(e)\n",
    "    except Exception as e:\n",
    "        print(e)\n",
    "\n",
    "# Test the function\n",
    "logger_with_rotating_file_handler()"
   ]
  },
  {
   "cell_type": "markdown",
   "metadata": {},
   "source": [
    "### Assignment 5: Logging Exceptions\n",
    "\n",
    "1. Write a Python function that logs an exception stack trace to a log file when an exception occurs. And the function to log the stack trace at the ERROR level."
   ]
  },
  {
   "cell_type": "code",
   "execution_count": 4,
   "metadata": {},
   "outputs": [],
   "source": [
    "def log_exception():\n",
    "    try:\n",
    "        logger = logging.getLogger('exception_logger')\n",
    "        logger.setLevel(logging.DEBUG)\n",
    "\n",
    "        file_handler = logging.FileHandler('exception_app.log')\n",
    "        formatter = logging.Formatter('%(asctime)s - %(name)s - %(levelname)s - %(message)s')\n",
    "        file_handler.setFormatter(formatter)\n",
    "\n",
    "        logger.addHandler(file_handler)\n",
    "\n",
    "        try:\n",
    "            x = 1 / 0\n",
    "        except Exception as e:\n",
    "            logger.exception(e)\n",
    "\n",
    "    except Exception as e:\n",
    "        logger.exception(e)\n",
    "\n",
    "# Test the function\n",
    "log_exception()"
   ]
  },
  {
   "cell_type": "markdown",
   "metadata": {},
   "source": [
    "### 6: Contextual Logging\n",
    "\n",
    "1. Write a Python function to create a logger that includes contextual information (e.g., function name, line number) in the log messages."
   ]
  },
  {
   "cell_type": "code",
   "execution_count": 4,
   "metadata": {},
   "outputs": [],
   "source": [
    "def logger_with_context():\n",
    "    try:\n",
    "\n",
    "        logger = logging.getLogger('context_logger')\n",
    "        logger.setLevel(logging.DEBUG)\n",
    "\n",
    "        file_handler = logging.FileHandler('context_app.log') \n",
    "        formatter =logging.Formatter('%(asctime)s - %(name)s - %(levelname)s - %(message)s - %(funcName)s - %(lineno)d')\n",
    "        file_handler.setFormatter(formatter)\n",
    "\n",
    "        logger.addHandler(file_handler)\n",
    "\n",
    "        try:\n",
    "            def test_func():\n",
    "                logger.debug('This is a debug message')\n",
    "                logger.info('This is an info message')\n",
    "                logger.warning('This is a warning message')\n",
    "                logger.error('This is an error message')\n",
    "                logger.critical('This is a critical message')\n",
    "        except Exception as e:\n",
    "            logger.exception(e)\n",
    "        test_func()\n",
    "        \n",
    "    except Exception as e:\n",
    "        logger.exception(e)\n",
    "\n",
    "# Test the function\n",
    "logger_with_context()                                     "
   ]
  },
  {
   "cell_type": "markdown",
   "metadata": {},
   "source": [
    "2. Modify the function to include additional contextual information (e.g., user ID, session ID)."
   ]
  },
  {
   "cell_type": "code",
   "execution_count": 2,
   "metadata": {},
   "outputs": [],
   "source": [
    "def logger_with_additional_context(user_id, session_id):\n",
    "    try:\n",
    "\n",
    "        logger = logging.getLogger('additional_context_logger')\n",
    "        logger.setLevel(logging.DEBUG)\n",
    "\n",
    "        file_handler = logging.FileHandler('additional_context_app.log') \n",
    "        formatter =logging.Formatter('%(asctime)s - %(name)s - %(levelname)s - %(message)s - %(funcName)s - %(lineno)d -UserID: %(user_id)s - SessionID: %(session_id)s')\n",
    "        file_handler.setFormatter(formatter)\n",
    "\n",
    "        logger.addHandler(file_handler)\n",
    "\n",
    "        extra = {'user_id': user_id, 'session_id': session_id}\n",
    "\n",
    "        try:\n",
    "            def test_func():\n",
    "                logger.debug('This is a debug message', extra=extra)\n",
    "                logger.info('This is an info message', extra=extra)\n",
    "                logger.warning('This is a warning message', extra=extra)\n",
    "                logger.error('This is an error message', extra=extra)\n",
    "                logger.critical('This is a critical message', extra=extra)\n",
    "        except Exception as e:\n",
    "            logger.exception(e)\n",
    "        test_func()\n",
    "        \n",
    "    except Exception as e:\n",
    "        logger.exception(e)\n",
    "\n",
    "# Test the function\n",
    "logger_with_additional_context('user123', 'session456')       "
   ]
  },
  {
   "cell_type": "markdown",
   "metadata": {},
   "source": [
    "### 7: Configuring Logging with a Dictionary\n",
    "\n",
    "1. Write a Python function to configure logging using a dictionary. The configuration should include handlers for both file and console logging."
   ]
  },
  {
   "cell_type": "code",
   "execution_count": null,
   "metadata": {},
   "outputs": [],
   "source": []
  }
 ],
 "metadata": {
  "kernelspec": {
   "display_name": "Python 3",
   "language": "python",
   "name": "python3"
  },
  "language_info": {
   "codemirror_mode": {
    "name": "ipython",
    "version": 3
   },
   "file_extension": ".py",
   "mimetype": "text/x-python",
   "name": "python",
   "nbconvert_exporter": "python",
   "pygments_lexer": "ipython3",
   "version": "3.10.0"
  }
 },
 "nbformat": 4,
 "nbformat_minor": 2
}
