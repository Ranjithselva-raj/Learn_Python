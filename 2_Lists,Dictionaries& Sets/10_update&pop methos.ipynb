{
 "cells": [
  {
   "cell_type": "code",
   "execution_count": 1,
   "metadata": {},
   "outputs": [],
   "source": [
    "Prices = {\n",
    "    \"banana\": 4,\n",
    "    \"apple\": 2,\n",
    "    \"orange\": 1.5,\n",
    "    \"pear\": 3\n",
    "}"
   ]
  },
  {
   "cell_type": "code",
   "execution_count": 2,
   "metadata": {},
   "outputs": [],
   "source": [
    "new_prices = {\n",
    "    \"banana\": 5,\n",
    "    \"apple\": 2.5,\n",
    "    \"orange\": 2,\n",
    "    \"kiwi\": 3\n",
    "}"
   ]
  },
  {
   "cell_type": "code",
   "execution_count": 12,
   "metadata": {},
   "outputs": [
    {
     "data": {
      "text/plain": [
       "{'banana': 5, 'orange': 2, 'pear': 3, 'kiwi': 3, 'apple': 2.5}"
      ]
     },
     "execution_count": 12,
     "metadata": {},
     "output_type": "execute_result"
    }
   ],
   "source": [
    "#update the dictionary prices with new_prices dictionary\n",
    "Prices.update(new_prices)\n",
    "Prices"
   ]
  },
  {
   "cell_type": "code",
   "execution_count": 13,
   "metadata": {},
   "outputs": [
    {
     "data": {
      "text/plain": [
       "{'banana': 5, 'orange': 2, 'pear': 3, 'kiwi': 3}"
      ]
     },
     "execution_count": 13,
     "metadata": {},
     "output_type": "execute_result"
    }
   ],
   "source": [
    "#remove the key \"apple\" from the dictionary prices\n",
    "Prices.pop(\"apple\")\n",
    "Prices"
   ]
  },
  {
   "cell_type": "code",
   "execution_count": null,
   "metadata": {},
   "outputs": [],
   "source": []
  }
 ],
 "metadata": {
  "kernelspec": {
   "display_name": "base",
   "language": "python",
   "name": "python3"
  },
  "language_info": {
   "codemirror_mode": {
    "name": "ipython",
    "version": 3
   },
   "file_extension": ".py",
   "mimetype": "text/x-python",
   "name": "python",
   "nbconvert_exporter": "python",
   "pygments_lexer": "ipython3",
   "version": "3.11.5"
  }
 },
 "nbformat": 4,
 "nbformat_minor": 2
}
