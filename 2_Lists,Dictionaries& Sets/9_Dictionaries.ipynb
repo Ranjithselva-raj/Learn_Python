{
 "cells": [
  {
   "cell_type": "code",
   "execution_count": 1,
   "metadata": {},
   "outputs": [],
   "source": [
    "#dictionaries are more comprehensive data structures\n",
    "#dictionaries are used to store data in key value pairs"
   ]
  },
  {
   "cell_type": "code",
   "execution_count": 2,
   "metadata": {},
   "outputs": [],
   "source": [
    "#creating a dictionary using {}\n",
    "Customers = {\n",
    "    \n",
    "    \"name\" : \"John\",\n",
    "    \"age\" : 36,\n",
    "    \"country\" : \"India\"\n",
    "    \n",
    "}"
   ]
  },
  {
   "cell_type": "code",
   "execution_count": 3,
   "metadata": {},
   "outputs": [
    {
     "data": {
      "text/plain": [
       "{'name': 'John', 'age': 36, 'country': 'India'}"
      ]
     },
     "execution_count": 3,
     "metadata": {},
     "output_type": "execute_result"
    }
   ],
   "source": [
    "Customers"
   ]
  },
  {
   "cell_type": "code",
   "execution_count": 4,
   "metadata": {},
   "outputs": [
    {
     "data": {
      "text/plain": [
       "'John'"
      ]
     },
     "execution_count": 4,
     "metadata": {},
     "output_type": "execute_result"
    }
   ],
   "source": [
    "Customers[\"name\"]"
   ]
  },
  {
   "cell_type": "code",
   "execution_count": 7,
   "metadata": {},
   "outputs": [],
   "source": [
    "car_id = {\n",
    "    1: \"BMW\",\n",
    "    2: \"Mercedes\",\n",
    "    3: \"Audi\"\n",
    "    \n",
    "}"
   ]
  },
  {
   "cell_type": "code",
   "execution_count": 6,
   "metadata": {},
   "outputs": [
    {
     "data": {
      "text/plain": [
       "'Mercedes'"
      ]
     },
     "execution_count": 6,
     "metadata": {},
     "output_type": "execute_result"
    }
   ],
   "source": [
    "car_id[2]"
   ]
  },
  {
   "cell_type": "code",
   "execution_count": 2,
   "metadata": {},
   "outputs": [],
   "source": [
    "#creating a dictionary using dict()\n",
    "people =dict(\n",
    "    name = \"John\", \n",
    "    age = 36, \n",
    "    country = \"India\"\n",
    "    )"
   ]
  },
  {
   "cell_type": "code",
   "execution_count": 3,
   "metadata": {},
   "outputs": [
    {
     "data": {
      "text/plain": [
       "{'name': 'John', 'age': 36, 'country': 'India'}"
      ]
     },
     "execution_count": 3,
     "metadata": {},
     "output_type": "execute_result"
    }
   ],
   "source": [
    "people"
   ]
  },
  {
   "cell_type": "code",
   "execution_count": 4,
   "metadata": {},
   "outputs": [
    {
     "data": {
      "text/plain": [
       "{'name': 'Ragav', 'age': 36, 'country': 'India'}"
      ]
     },
     "execution_count": 4,
     "metadata": {},
     "output_type": "execute_result"
    }
   ],
   "source": [
    "#modify a key value\n",
    "people['name']=\"Ragav\"\n",
    "\n",
    "people"
   ]
  },
  {
   "cell_type": "code",
   "execution_count": 5,
   "metadata": {},
   "outputs": [
    {
     "data": {
      "text/plain": [
       "{'name': 'Ragav', 'country': 'India'}"
      ]
     },
     "execution_count": 5,
     "metadata": {},
     "output_type": "execute_result"
    }
   ],
   "source": [
    "#delete a key\n",
    "del people['age']\n",
    "people"
   ]
  },
  {
   "cell_type": "code",
   "execution_count": 9,
   "metadata": {},
   "outputs": [
    {
     "data": {
      "text/plain": [
       "'BMW'"
      ]
     },
     "execution_count": 9,
     "metadata": {},
     "output_type": "execute_result"
    }
   ],
   "source": [
    "car_id.get(1)"
   ]
  },
  {
   "cell_type": "code",
   "execution_count": 8,
   "metadata": {},
   "outputs": [],
   "source": [
    "#using get method to check if key is present if not it will return none by default\n",
    "car_id.get(4)"
   ]
  },
  {
   "cell_type": "code",
   "execution_count": 1,
   "metadata": {},
   "outputs": [],
   "source": [
    "##accessing dictionary elements\n",
    "student = {\n",
    "    \"name\" : \"John\",\n",
    "    \"score\" : 80,\n",
    "    \"age\" : 36\n",
    "}"
   ]
  },
  {
   "cell_type": "code",
   "execution_count": 3,
   "metadata": {},
   "outputs": [
    {
     "name": "stdout",
     "output_type": "stream",
     "text": [
      "{'name': 'John', 'score': 80, 'age': 36}\n",
      "John\n",
      "80\n"
     ]
    }
   ],
   "source": [
    "print(student)\n",
    "print(student[\"name\"])\n",
    "print(student[\"score\"])"
   ]
  },
  {
   "cell_type": "code",
   "execution_count": 4,
   "metadata": {},
   "outputs": [
    {
     "data": {
      "text/plain": [
       "36"
      ]
     },
     "execution_count": 4,
     "metadata": {},
     "output_type": "execute_result"
    }
   ],
   "source": [
    "##accessing dictionary elements using get()\n",
    "student = {\n",
    "    \"name\" : \"John\",\n",
    "    \"score\" : 80,\n",
    "    \"age\" : 36\n",
    "}\n",
    "student.get(\"name\")\n",
    "student.get(\"score\")\n",
    "student.get(\"age\")"
   ]
  },
  {
   "cell_type": "code",
   "execution_count": 5,
   "metadata": {},
   "outputs": [
    {
     "name": "stdout",
     "output_type": "stream",
     "text": [
      "{'name': 'Ragav', 'score': 80, 'age': 36}\n",
      "{'name': 'Ragav', 'score': 80, 'age': 36, 'address': 'india'}\n"
     ]
    }
   ],
   "source": [
    "##modyfying dictionary elements\n",
    "# dictionary are mutable, so you can add,update or delete elements\n",
    "\n",
    "student = {\n",
    "    \"name\" : \"John\",\n",
    "    \"score\" : 80,\n",
    "    \"age\" : 36\n",
    "}\n",
    "student[\"name\"] = \"Ragav\" #update\n",
    "print(student) \n",
    "\n",
    "student[\"address\"] = \"india\" #add new element\n",
    "print(student)"
   ]
  },
  {
   "cell_type": "code",
   "execution_count": 6,
   "metadata": {},
   "outputs": [
    {
     "name": "stdout",
     "output_type": "stream",
     "text": [
      "{'name': 'Ragav', 'score': 80, 'address': 'india'}\n"
     ]
    }
   ],
   "source": [
    "#deleting dictionary elements\n",
    "\n",
    "del student[\"age\"]\n",
    "print(student)"
   ]
  },
  {
   "cell_type": "code",
   "execution_count": 7,
   "metadata": {},
   "outputs": [
    {
     "name": "stdout",
     "output_type": "stream",
     "text": [
      "dict_keys(['name', 'score', 'address'])\n",
      "dict_values(['Ragav', 80, 'india'])\n",
      "dict_items([('name', 'Ragav'), ('score', 80), ('address', 'india')])\n"
     ]
    }
   ],
   "source": [
    "#dictionary methods\n",
    "\n",
    "keys = student.keys()\n",
    "print(keys)\n",
    "\n",
    "values = student.values()\n",
    "print(values)\n",
    "\n",
    "items = student.items()\n",
    "print(items)"
   ]
  },
  {
   "cell_type": "code",
   "execution_count": 8,
   "metadata": {},
   "outputs": [
    {
     "name": "stdout",
     "output_type": "stream",
     "text": [
      "{'name': 'Ragav', 'score': 80, 'address': 'india'}\n"
     ]
    }
   ],
   "source": [
    "## shallow copy\n",
    "\n",
    "student_copy = student.copy() #shallow copy provides different memory location\n",
    "print(student_copy)"
   ]
  },
  {
   "cell_type": "code",
   "execution_count": 9,
   "metadata": {},
   "outputs": [
    {
     "name": "stdout",
     "output_type": "stream",
     "text": [
      "name\n",
      "score\n",
      "address\n"
     ]
    }
   ],
   "source": [
    "## iterating over dictionaries\n",
    "## you can use loops to iterate over dictionaries, keys,values, or items\n",
    "\n",
    "#iterating over keys\n",
    "\n",
    "for key in student.keys():\n",
    "    print(key)"
   ]
  },
  {
   "cell_type": "code",
   "execution_count": 10,
   "metadata": {},
   "outputs": [
    {
     "name": "stdout",
     "output_type": "stream",
     "text": [
      "Ragav\n",
      "80\n",
      "india\n"
     ]
    }
   ],
   "source": [
    "for value in student.values():\n",
    "    print(value)"
   ]
  },
  {
   "cell_type": "code",
   "execution_count": 11,
   "metadata": {},
   "outputs": [
    {
     "name": "stdout",
     "output_type": "stream",
     "text": [
      "name Ragav\n",
      "score 80\n",
      "address india\n"
     ]
    }
   ],
   "source": [
    "##iterate over key value pairs\n",
    "for key,value in student.items():\n",
    "    print(key,value)"
   ]
  },
  {
   "cell_type": "code",
   "execution_count": 16,
   "metadata": {},
   "outputs": [
    {
     "name": "stdout",
     "output_type": "stream",
     "text": [
      "{'student1': {'name': 'John', 'score': 80, 'age': 36}, 'student2': {'name': 'Jane', 'score': 90, 'age': 35}, 'student3': {'name': 'Ragav', 'score': 100, 'age': 34}}\n"
     ]
    }
   ],
   "source": [
    "##nested dictionaries\n",
    "\n",
    "students = {\n",
    "    \"student1\" : {\n",
    "        \"name\" : \"John\",\n",
    "        \"score\" : 80,\n",
    "        \"age\" : 36\n",
    "    },\n",
    "    \"student2\" : {\n",
    "        \"name\" : \"Jane\",\n",
    "        \"score\" : 90,\n",
    "        \"age\" : 35\n",
    "    },\n",
    "    \"student3\" : {\n",
    "        \"name\" : \"Ragav\",\n",
    "        \"score\" : 100,\n",
    "        \"age\" : 34\n",
    "    }\n",
    "}\n",
    "\n",
    "print(students)"
   ]
  },
  {
   "cell_type": "code",
   "execution_count": 17,
   "metadata": {},
   "outputs": [
    {
     "name": "stdout",
     "output_type": "stream",
     "text": [
      "John\n",
      "80\n",
      "36\n"
     ]
    }
   ],
   "source": [
    "## acccess nested dictionaries\n",
    "print(students['student1']['name'])\n",
    "print(students['student1']['score'])\n",
    "print(students['student1']['age'])"
   ]
  },
  {
   "cell_type": "code",
   "execution_count": 19,
   "metadata": {},
   "outputs": [
    {
     "name": "stdout",
     "output_type": "stream",
     "text": [
      "student1 {'name': 'John', 'score': 80, 'age': 36}\n",
      "student2 {'name': 'Jane', 'score': 90, 'age': 35}\n",
      "student3 {'name': 'Ragav', 'score': 100, 'age': 34}\n"
     ]
    }
   ],
   "source": [
    "##iterate over key value pairs\n",
    "for id,info in students.items():\n",
    "    print(id,info)\n",
    "    "
   ]
  },
  {
   "cell_type": "code",
   "execution_count": 20,
   "metadata": {},
   "outputs": [
    {
     "name": "stdout",
     "output_type": "stream",
     "text": [
      "student1 {'name': 'John', 'score': 80, 'age': 36}\n",
      "name John\n",
      "score 80\n",
      "age 36\n",
      "student2 {'name': 'Jane', 'score': 90, 'age': 35}\n",
      "name Jane\n",
      "score 90\n",
      "age 35\n",
      "student3 {'name': 'Ragav', 'score': 100, 'age': 34}\n",
      "name Ragav\n",
      "score 100\n",
      "age 34\n"
     ]
    }
   ],
   "source": [
    "##iterate over key value pairs\n",
    "for id,info in students.items():\n",
    "    print(id,info)\n",
    "    for key,value in info.items():\n",
    "        print(key,value)\n",
    "    "
   ]
  },
  {
   "cell_type": "code",
   "execution_count": 21,
   "metadata": {},
   "outputs": [
    {
     "name": "stdout",
     "output_type": "stream",
     "text": [
      "{0: 0, 1: 1, 2: 4, 3: 9, 4: 16}\n"
     ]
    }
   ],
   "source": [
    "# dictionary comprehension\n",
    "\n",
    "squares = {i: i**2 for i in range(5)}\n",
    "\n",
    "print(squares)"
   ]
  },
  {
   "cell_type": "code",
   "execution_count": 22,
   "metadata": {},
   "outputs": [
    {
     "name": "stdout",
     "output_type": "stream",
     "text": [
      "{0: 0, 2: 4, 4: 16, 6: 36, 8: 64}\n"
     ]
    }
   ],
   "source": [
    "##conditional dictionary comprehension\n",
    "\n",
    "squares = {i: i**2 for i in range(10) if i%2==0}\n",
    "\n",
    "print(squares)"
   ]
  },
  {
   "cell_type": "code",
   "execution_count": 2,
   "metadata": {},
   "outputs": [
    {
     "name": "stdout",
     "output_type": "stream",
     "text": [
      "{10: 1, 1: 9, 2: 9, 3: 9, 4: 9, 5: 9, 6: 9, 7: 9, 8: 9, 9: 9}\n"
     ]
    }
   ],
   "source": [
    "## use a dictionary to count the frequency of elements in list\n",
    "\n",
    "numbers = [10,1,2,3,4,5,6,7,8,9,1,2,3,4,5,6,7,8,9,1,2,3,4,5,6,7,8,9,1,2,3,4,5,6,7,8,9,1,2,3,4,5,6,7,8,9,1,2,3,4,5,6,7,8,9,1,2,3,4,5,6,7,8,9,1,2,3,4,5,6,7,8,9,1,2,3,4,5,6,7,8,9]\n",
    "\n",
    "frequency = {i:numbers.count(i) for i in numbers}\n",
    "\n",
    "print(frequency)"
   ]
  },
  {
   "cell_type": "code",
   "execution_count": 25,
   "metadata": {},
   "outputs": [
    {
     "name": "stdout",
     "output_type": "stream",
     "text": [
      "{1: 9, 2: 9, 3: 9, 4: 9, 5: 9, 6: 9, 7: 9, 8: 9, 9: 9}\n"
     ]
    }
   ],
   "source": [
    "freq ={}\n",
    "for number in numbers:\n",
    "    if number in freq:\n",
    "        freq[number] += 1\n",
    "    else:\n",
    "        freq[number] = 1\n",
    "print(freq)"
   ]
  },
  {
   "cell_type": "code",
   "execution_count": 26,
   "metadata": {},
   "outputs": [
    {
     "name": "stdout",
     "output_type": "stream",
     "text": [
      "{'a': 1, 'b': 2, 'c': 3, 'd': 4}\n"
     ]
    }
   ],
   "source": [
    "##merge two dictionaries into one\n",
    "\n",
    "dict1 = {'a': 1, 'b': 2}\n",
    "dict2 = {'c': 3, 'd': 4}\n",
    "dict3 = {**dict1, **dict2}\n",
    "print(dict3)"
   ]
  }
 ],
 "metadata": {
  "kernelspec": {
   "display_name": "base",
   "language": "python",
   "name": "python3"
  },
  "language_info": {
   "codemirror_mode": {
    "name": "ipython",
    "version": 3
   },
   "file_extension": ".py",
   "mimetype": "text/x-python",
   "name": "python",
   "nbconvert_exporter": "python",
   "pygments_lexer": "ipython3",
   "version": "3.10.0"
  }
 },
 "nbformat": 4,
 "nbformat_minor": 2
}
