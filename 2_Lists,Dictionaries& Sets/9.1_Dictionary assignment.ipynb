{
 "cells": [
  {
   "cell_type": "code",
   "execution_count": 1,
   "metadata": {},
   "outputs": [
    {
     "name": "stdout",
     "output_type": "stream",
     "text": [
      "{1: 1, 2: 4, 3: 9, 4: 16, 5: 25, 6: 36, 7: 49, 8: 64, 9: 81, 10: 100}\n"
     ]
    }
   ],
   "source": [
    "\n",
    "# Dictionaries\n",
    "# 1: Creating and Accessing Dictionaries\n",
    "# Create a dictionary with the first 10 positive integers as keys and their squares as values. Print the dictionary.\n",
    "\n",
    "squares ={i:i**2 for i in range(1,11)}\n",
    "print(squares)"
   ]
  },
  {
   "cell_type": "code",
   "execution_count": 3,
   "metadata": {},
   "outputs": [
    {
     "name": "stdout",
     "output_type": "stream",
     "text": [
      "25\n",
      "dict_keys([1, 2, 3, 4, 5, 6, 7, 8, 9, 10])\n"
     ]
    }
   ],
   "source": [
    "### 2: Accessing Dictionary Elements\n",
    "#Print the value of the key 5 and the keys of the dictionary created in question 1.\n",
    "\n",
    "print(squares[5])\n",
    "print(squares.keys())"
   ]
  },
  {
   "cell_type": "code",
   "execution_count": 4,
   "metadata": {},
   "outputs": [
    {
     "name": "stdout",
     "output_type": "stream",
     "text": [
      "{2: 4, 3: 9, 4: 16, 5: 25, 6: 36, 7: 49, 8: 64, 9: 81, 10: 100, 11: 121}\n"
     ]
    }
   ],
   "source": [
    "### 3: Dictionary Methods\n",
    "\n",
    "#Add a new key-value pair (11, 121) to the dictionary created in question 1 and then remove the key-value pair with key 1. \n",
    "# Print the modified dictionary.\n",
    "\n",
    "squares[11]=121\n",
    "squares.pop(1)\n",
    "print(squares)\n",
    "\n"
   ]
  },
  {
   "cell_type": "code",
   "execution_count": 5,
   "metadata": {},
   "outputs": [
    {
     "name": "stdout",
     "output_type": "stream",
     "text": [
      "2:4\n",
      "3:9\n",
      "4:16\n",
      "5:25\n",
      "6:36\n",
      "7:49\n",
      "8:64\n",
      "9:81\n",
      "10:100\n",
      "11:121\n"
     ]
    }
   ],
   "source": [
    "### 4: Iterating Over Dictionaries\n",
    "#Iterate over the dictionary created in question 1 and print each key-value pair.\n",
    "\n",
    "for key,value in squares.items():\n",
    "    print(f\"{key}:{value}\")"
   ]
  },
  {
   "cell_type": "code",
   "execution_count": 6,
   "metadata": {},
   "outputs": [
    {
     "name": "stdout",
     "output_type": "stream",
     "text": [
      "{1: 1, 2: 8, 3: 27, 4: 64, 5: 125, 6: 216, 7: 343, 8: 512, 9: 729, 10: 1000}\n"
     ]
    }
   ],
   "source": [
    "###  5: Dictionary Comprehensions\n",
    "#Create a new dictionary containing the cubes of the first 10 positive integers using a dictionary comprehension. Print the new dictionary.\n",
    "\n",
    "cube ={i:i**3 for i in range(1,11)}\n",
    "print(cube)\n"
   ]
  },
  {
   "cell_type": "code",
   "execution_count": 7,
   "metadata": {},
   "outputs": [
    {
     "name": "stdout",
     "output_type": "stream",
     "text": [
      "{1: 1, 2: 4, 3: 9, 4: 16, 5: 25, 6: 36, 7: 49, 8: 64, 9: 81, 10: 100}\n"
     ]
    }
   ],
   "source": [
    "###  6: Merging Dictionaries\n",
    "#Create two dictionaries: one with keys as the first 5 positive integers and values as their squares, and another with keys\n",
    "# as the next 5 positive integers and values as their squares. Merge these dictionaries into a \n",
    "# single dictionary and print it.\n",
    "\n",
    "square1 ={i:i**2 for i in range(1,6)}\n",
    "square2 ={i:i**2 for i in range(6,11)}\n",
    "merged_sq ={**square1,**square2} # square1.update(square2) and then print(square1)\n",
    "print(merged_sq)\n",
    "\n",
    "\n"
   ]
  },
  {
   "cell_type": "code",
   "execution_count": 9,
   "metadata": {},
   "outputs": [
    {
     "name": "stdout",
     "output_type": "stream",
     "text": [
      "{'name': 'john', 'age': 36, 'grades': {'math': 80, 'science': 90, 'english': 100}}\n"
     ]
    }
   ],
   "source": [
    "### 7: Nested Dictionaries\n",
    "#Create a nested dictionary representing a student with keys 'name', 'age', 'grades', where 'grades' is another dictionary with \n",
    "# keys 'math', 'science', and 'english'. Print the nested dictionary.\n",
    "\n",
    "\n",
    "student ={\n",
    "    'name':'john',\n",
    "    'age' : 36,\n",
    "    'grades':{\n",
    "        'math':80,\n",
    "        'science':90,\n",
    "        'english':100\n",
    "    } \n",
    "}\n",
    "\n",
    "print(student)"
   ]
  },
  {
   "cell_type": "code",
   "execution_count": 12,
   "metadata": {},
   "outputs": [
    {
     "name": "stdout",
     "output_type": "stream",
     "text": [
      "{1: [1, 2, 3, 4, 5], 2: [2, 4, 6, 8, 10], 3: [3, 6, 9, 12, 15], 4: [4, 8, 12, 16, 20], 5: [5, 10, 15, 20, 25]}\n"
     ]
    }
   ],
   "source": [
    "###  8: Dictionary of Lists\n",
    "#Create a dictionary where the keys are the first 5 positive integers and the values are lists containing the first 5 multiples of the key. \n",
    "# Print the dictionary.\n",
    "dict_multiples ={i: [i*j for j in range(1,6)] for i in range(1,6)}\n",
    "\n",
    "print(dict_multiples)\n"
   ]
  },
  {
   "cell_type": "code",
   "execution_count": 13,
   "metadata": {},
   "outputs": [
    {
     "name": "stdout",
     "output_type": "stream",
     "text": [
      "{1: [1, 2, 3, 4, 5], 2: [2, 4, 6, 8, 10], 3: [3, 6, 9, 12, 15], 4: [4, 8, 12, 16, 20], 5: [5, 10, 15, 20, 25]}\n"
     ]
    }
   ],
   "source": [
    "dict_multi = {}\n",
    "for i in range(1,6):\n",
    "    multiples =[]\n",
    "    for j in range(1,6):\n",
    "        multiples.append(i*j)\n",
    "    dict_multi[i]=multiples\n",
    "print(dict_multi)"
   ]
  },
  {
   "cell_type": "code",
   "execution_count": 15,
   "metadata": {},
   "outputs": [
    {
     "name": "stdout",
     "output_type": "stream",
     "text": [
      "{1: (1, 1), 2: (2, 4), 3: (3, 9), 4: (4, 16), 5: (5, 25)}\n"
     ]
    }
   ],
   "source": [
    "###9: Dictionary of Tuples\n",
    "#Create a dictionary where the keys are the first 5 positive integers and the values are tuples containing the key and its square.\n",
    "#Print the dictionary.\n",
    "\n",
    "dict_square = { i:(i,i**2) for i in range(1,6)}\n",
    "\n",
    "print(dict_square)\n"
   ]
  },
  {
   "cell_type": "code",
   "execution_count": 17,
   "metadata": {},
   "outputs": [
    {
     "name": "stdout",
     "output_type": "stream",
     "text": [
      "[(1, 1), (2, 4), (3, 9), (4, 16), (5, 25)]\n"
     ]
    }
   ],
   "source": [
    "###10: Dictionary and List Conversion\n",
    "#Create a dictionary with the first 5 positive integers as keys and their squares as values. Convert the dictionary to a list of tuples \n",
    "# and print it.\n",
    "\n",
    "dictionary = { i: i**2 for i  in range(1,6)}\n",
    "tuple_list=list(dictionary.items())\n",
    "print(tuple_list)\n"
   ]
  },
  {
   "cell_type": "code",
   "execution_count": 18,
   "metadata": {},
   "outputs": [
    {
     "name": "stdout",
     "output_type": "stream",
     "text": [
      "{1: 1, 2: 4, 3: 9, 4: 16, 5: 25}\n"
     ]
    }
   ],
   "source": [
    "dict_from_tuple = dict(tuple_list)\n",
    "print(dict_from_tuple)"
   ]
  },
  {
   "cell_type": "code",
   "execution_count": 20,
   "metadata": {},
   "outputs": [
    {
     "name": "stdout",
     "output_type": "stream",
     "text": [
      "{2: 4, 4: 16, 6: 36, 8: 64, 10: 100}\n"
     ]
    }
   ],
   "source": [
    "###11: Dictionary Filtering\n",
    "#Create a dictionary with the first 10 positive integers as keys and their squares as values. \n",
    "# Create a new dictionary containing only the key-value pairs where the key is even. Print the new dictionary.\n",
    "\n",
    "even_square ={ i:i**2 for i in range(1,11) if i%2==0}\n",
    "\n",
    "print(even_square)\n"
   ]
  },
  {
   "cell_type": "code",
   "execution_count": 21,
   "metadata": {},
   "outputs": [
    {
     "name": "stdout",
     "output_type": "stream",
     "text": [
      "{1: 1, 4: 2, 9: 3, 16: 4, 25: 5}\n"
     ]
    }
   ],
   "source": [
    "###12: Dictionary Key and Value Transformation\n",
    "\n",
    "#Create a dictionary with the first 5 positive integers as keys and their squares as values. \n",
    "# Create a new dictionary with keys and values swapped. Print the new dictionary.\n",
    "\n",
    "\n",
    "square = {i:i**2 for i in range(1,6)}\n",
    "swapped = {value:key for key,value in square.items()}\n",
    "\n",
    "print(swapped)\n",
    "\n"
   ]
  },
  {
   "cell_type": "code",
   "execution_count": 22,
   "metadata": {},
   "outputs": [
    {
     "name": "stdout",
     "output_type": "stream",
     "text": [
      "defaultdict(<class 'list'>, {'a': [1, 2], 'b': [3]})\n"
     ]
    }
   ],
   "source": [
    "###13: Default Dictionary\n",
    "#Create a default dictionary where each key has a default value of an empty list. Add some elements to the lists and print the dictionary.\n",
    "\n",
    "from collections import defaultdict\n",
    "\n",
    "default_dict = defaultdict(list)\n",
    "default_dict['a'].append(1)\n",
    "default_dict['a'].append(2)\n",
    "default_dict['b'].append(3)\n",
    "print(default_dict)"
   ]
  },
  {
   "cell_type": "code",
   "execution_count": 23,
   "metadata": {},
   "outputs": [
    {
     "name": "stdout",
     "output_type": "stream",
     "text": [
      "{'h': 1, 'e': 1, 'l': 2, 'o': 1}\n"
     ]
    }
   ],
   "source": [
    "###14: Counting with Dictionaries\n",
    "#Write a function that takes a string and returns a dictionary with the count of each character in the string. Print the dictionary.\n",
    "\n",
    "def count_char(text):\n",
    "    d={}\n",
    "    for char in text:\n",
    "        if char in d:\n",
    "            d[char]+=1\n",
    "        else:\n",
    "            d[char] =1\n",
    "    return d\n",
    "print(count_char(\"hello\"))\n"
   ]
  },
  {
   "cell_type": "code",
   "execution_count": 24,
   "metadata": {},
   "outputs": [
    {
     "name": "stdout",
     "output_type": "stream",
     "text": [
      "{\"title\": \"harry potter\", \"author\": \"j.k Rowling\", \"year\": 1997, \"genre\": \"fantasy\"}\n"
     ]
    }
   ],
   "source": [
    "###15: Dictionary and JSON\n",
    "\n",
    "#Create a dictionary representing a book with keys 'title', 'author', 'year', and 'genre'. \n",
    "#Convert the dictionary to a JSON string and print it.\n",
    "\n",
    "book ={\n",
    "    'title':'harry potter',\n",
    "    'author':'j.k Rowling',\n",
    "    'year':1997,\n",
    "    'genre':'fantasy'\n",
    "}\n",
    "import json\n",
    "json_string = json.dumps(book)\n",
    "print(json_string)"
   ]
  }
 ],
 "metadata": {
  "kernelspec": {
   "display_name": "base",
   "language": "python",
   "name": "python3"
  },
  "language_info": {
   "codemirror_mode": {
    "name": "ipython",
    "version": 3
   },
   "file_extension": ".py",
   "mimetype": "text/x-python",
   "name": "python",
   "nbconvert_exporter": "python",
   "pygments_lexer": "ipython3",
   "version": "3.11.5"
  }
 },
 "nbformat": 4,
 "nbformat_minor": 2
}
