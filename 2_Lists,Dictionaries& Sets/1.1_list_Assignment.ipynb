{
 "cells": [
  {
   "cell_type": "code",
   "execution_count": 3,
   "metadata": {},
   "outputs": [
    {
     "name": "stdout",
     "output_type": "stream",
     "text": [
      "[1, 2, 3, 4, 5, 6, 7, 8, 9, 10, 11, 12, 13, 14, 15, 16, 17, 18, 19, 20]\n"
     ]
    }
   ],
   "source": [
    "#1. Creating and accessing list\n",
    "\n",
    "b = [i for i in range(1,21)]\n",
    "print(b)"
   ]
  },
  {
   "cell_type": "code",
   "execution_count": 4,
   "metadata": {},
   "outputs": [
    {
     "name": "stdout",
     "output_type": "stream",
     "text": [
      "1\n",
      "11\n",
      "20\n"
     ]
    }
   ],
   "source": [
    "#2.Accessing list elements\n",
    "#print the first, middle and last elements of the list created in question 1.\n",
    "\n",
    "print(b[0])\n",
    "print(b[10])\n",
    "print(b[-1])"
   ]
  },
  {
   "cell_type": "code",
   "execution_count": 9,
   "metadata": {},
   "outputs": [
    {
     "name": "stdout",
     "output_type": "stream",
     "text": [
      "[1, 2, 3, 4, 5]\n",
      "[16, 17, 18, 19, 20]\n",
      "[6, 7, 8, 9, 10, 11, 12, 13, 14, 15]\n"
     ]
    }
   ],
   "source": [
    "#3. list slicing\n",
    "#slice the list from index 5 to 15\n",
    "print(b[0:5])\n",
    "print(b[-5:])\n",
    "print(b[5:15])"
   ]
  },
  {
   "cell_type": "code",
   "execution_count": 10,
   "metadata": {},
   "outputs": [
    {
     "name": "stdout",
     "output_type": "stream",
     "text": [
      "[1, 4, 9, 16, 25, 36, 49, 64, 81, 100]\n"
     ]
    }
   ],
   "source": [
    "#4 list comprehensions\n",
    "#create a new list containig the sqaures of the first 10 positive integers using a list comprehension.\n",
    "\n",
    "squares = [i**2 for i in range(1,11)]\n",
    "print(squares)\n"
   ]
  },
  {
   "cell_type": "code",
   "execution_count": 11,
   "metadata": {},
   "outputs": [
    {
     "name": "stdout",
     "output_type": "stream",
     "text": [
      "[2, 4, 6, 8, 10, 12, 14, 16, 18, 20]\n"
     ]
    }
   ],
   "source": [
    "#5 filtering lists\n",
    "#create a list containing only the even numbers from the list created in question 1.\n",
    "\n",
    "print([i for i in b if i%2==0])"
   ]
  },
  {
   "cell_type": "code",
   "execution_count": 2,
   "metadata": {},
   "outputs": [
    {
     "name": "stdout",
     "output_type": "stream",
     "text": [
      "[11, 15, 66, 59, 25, 34, 1, 79, 8, 7, 81, 58, 19, 73, 64, 97, 73, 24, 97, 13]\n",
      "[1, 7, 8, 11, 13, 15, 19, 24, 25, 34, 58, 59, 64, 66, 73, 73, 79, 81, 97, 97]\n",
      "[64, 1, 34, 66, 97, 7, 8, 73, 11, 13, 15, 79, 81, 19, 24, 25, 58, 59]\n",
      "[1, 7, 8, 11, 13, 15, 19, 24, 25, 34, 58, 59, 64, 66, 73, 79, 81, 97]\n"
     ]
    }
   ],
   "source": [
    "#6. list methods\n",
    "#create a list random numbers and sort it in ascending order. remove the duplicates from the list and print the modified list.\n",
    "\n",
    "import random\n",
    "a = [random.randint(1,100) for i in range(20)]\n",
    "print(a)\n",
    "a.sort()\n",
    "print(a)\n",
    "a = list(set(a))\n",
    "print(a)\n",
    "a.sort()\n",
    "print(a)"
   ]
  },
  {
   "cell_type": "code",
   "execution_count": 4,
   "metadata": {},
   "outputs": [
    {
     "name": "stdout",
     "output_type": "stream",
     "text": [
      "[[1, 2, 3], [4, 5, 6], [7, 8, 9]]\n",
      "6\n"
     ]
    }
   ],
   "source": [
    "#7. Nested lists\n",
    "#create a nested list representing a 3*3 matrix and print the matrix. access and print the element at the second row and third column.\n",
    "\n",
    "matrix = [[1,2,3],[4,5,6],[7,8,9]]\n",
    "print(matrix)\n",
    "print(matrix[1][2])\n"
   ]
  },
  {
   "cell_type": "code",
   "execution_count": 6,
   "metadata": {},
   "outputs": [
    {
     "name": "stdout",
     "output_type": "stream",
     "text": [
      "[{'name': 'Bob', 'score': 70}, {'name': 'John', 'score': 80}, {'name': 'Alice', 'score': 85}, {'name': 'Jane', 'score': 90}]\n"
     ]
    }
   ],
   "source": [
    "#8. List of dictionaries\n",
    "#create a list of dictionaries where each dictionary represents a student with keys 'name' and 'score'. sort the list dictionaries by the \n",
    "# score in decending order amd print the sorted list.\n",
    "\n",
    "\n",
    "students = [\n",
    "    {'name': 'John', 'score': 80},\n",
    "    {'name': 'Jane', 'score': 90},\n",
    "    {'name': 'Bob', 'score': 70},\n",
    "    {'name': 'Alice', 'score': 85}\n",
    "]\n",
    "\n",
    "sorted_students = sorted(students, key=lambda x: x['score'], reverse=False)\n",
    "\n",
    "print(sorted_students)\n"
   ]
  },
  {
   "cell_type": "code",
   "execution_count": 9,
   "metadata": {},
   "outputs": [
    {
     "name": "stdout",
     "output_type": "stream",
     "text": [
      "[[1, 2, 3], [4, 5, 6], [7, 8, 9]]\n",
      "[[1, 4, 7], [2, 5, 8], [3, 6, 9]]\n"
     ]
    }
   ],
   "source": [
    "#9. Matrix Transposition\n",
    "#write a function that takes 3*3 matrix (nested list) as input and returns its transposed matrix. print the original and transposed matrix.\n",
    "\n",
    "def transpose(matrix):\n",
    "    transposed = []\n",
    "    for i in range(len(matrix[0])):\n",
    "        transposed_row = []\n",
    "        for row in matrix:\n",
    "            transposed_row.append(row[i])\n",
    "        transposed.append(transposed_row)\n",
    "    return transposed\n",
    "\n",
    "matrix = [[1,2,3],[4,5,6],[7,8,9]]\n",
    "print(matrix)\n",
    "print(transpose(matrix))"
   ]
  },
  {
   "cell_type": "code",
   "execution_count": 10,
   "metadata": {},
   "outputs": [
    {
     "name": "stdout",
     "output_type": "stream",
     "text": [
      "[[1, 2, 3], [4, 5, 6], [7, 8, 9]]\n",
      "[1, 2, 3, 4, 5, 6, 7, 8, 9]\n"
     ]
    }
   ],
   "source": [
    "#10. flattening a nested list\n",
    "#write a function that takes a nested list and flattens it into a single list. print the original and flattened lists.\n",
    "\n",
    "def flatten(nested_list):\n",
    "    flattened = []\n",
    "    for sublist in nested_list:\n",
    "        for item in sublist:\n",
    "            flattened.append(item)\n",
    "    return flattened\n",
    "\n",
    "nested_list = [[1, 2, 3], [4, 5, 6], [7, 8, 9]]\n",
    "print(nested_list)\n",
    "print(flatten(nested_list))"
   ]
  },
  {
   "cell_type": "code",
   "execution_count": 18,
   "metadata": {},
   "outputs": [
    {
     "name": "stdout",
     "output_type": "stream",
     "text": [
      "[1, 2, 3, 4, 5, 6, 7, 8, 9, 10]\n",
      "[7, 5, 3]\n",
      "[1, 2, 4, 6, 8, 99, 9, 10]\n"
     ]
    }
   ],
   "source": [
    "#11. list manipiulation\n",
    "#create a list of the first 10 positive integers. remove the elements at indicies 2,4, and 6, and insert the element '99' at index 5. print the modified list.\n",
    "\n",
    "a = [i for i in range(1,11)]\n",
    "print(a)\n",
    "indices_to_remove = [6,4,2]\n",
    "rem_list =[]\n",
    "for index in sorted(indices_to_remove, reverse=True):\n",
    "    rem_list.append(a.pop(index))\n",
    "print(rem_list)\n",
    "a.insert(5,99)\n",
    "print(a)"
   ]
  },
  {
   "cell_type": "code",
   "execution_count": 19,
   "metadata": {},
   "outputs": [
    {
     "name": "stdout",
     "output_type": "stream",
     "text": [
      "[(1, 'a'), (2, 'b'), (3, 'c'), (4, 'd'), (5, 'e')]\n",
      "[('a', 1), ('b', 2), ('c', 3), ('d', 4), ('e', 5)]\n",
      "[(1, 'a', 'a'), (2, 'b', 'b'), (3, 'c', 'c'), (4, 'd', 'd'), (5, 'e', 'e')]\n"
     ]
    }
   ],
   "source": [
    "#12.list zipping\n",
    "#create two lists of same length. use the zip function to combine these lists into list of tuples and print the result.\n",
    "\n",
    "a = [1, 2, 3, 4, 5]\n",
    "b = ['a', 'b', 'c', 'd', 'e']\n",
    "print(list(zip(a, b)))\n",
    "print(list(zip(b, a)))\n",
    "print(list(zip(a, b, b)))"
   ]
  },
  {
   "cell_type": "code",
   "execution_count": 20,
   "metadata": {},
   "outputs": [
    {
     "name": "stdout",
     "output_type": "stream",
     "text": [
      "[1, 2, 3, 4, 5]\n",
      "[5, 4, 3, 2, 1]\n"
     ]
    }
   ],
   "source": [
    "#13. list reversal\n",
    "#write a function that takes a list and returns a new list with the elements in reverse order. print the original and reversed lists.\n",
    "\n",
    "def reverse_list(lst):\n",
    "    return lst[::-1]\n",
    "\n",
    "lst = [1, 2, 3, 4, 5]\n",
    "print(lst)\n",
    "print(reverse_list(lst))"
   ]
  },
  {
   "cell_type": "code",
   "execution_count": 22,
   "metadata": {},
   "outputs": [
    {
     "name": "stdout",
     "output_type": "stream",
     "text": [
      "[1, 2, 3, 4, 5]\n",
      "[4, 5, 1, 2, 3]\n"
     ]
    }
   ],
   "source": [
    "#14. list rotation\n",
    "#write a function that rotates a list by n position. print the original and rotated lists.\n",
    "\n",
    "def rotate_list(lst, n):\n",
    "    return lst[n:] + lst[:n]\n",
    "\n",
    "lst = [1, 2, 3, 4, 5]\n",
    "print(lst)\n",
    "print(rotate_list(lst, 3))"
   ]
  },
  {
   "cell_type": "code",
   "execution_count": 25,
   "metadata": {},
   "outputs": [
    {
     "name": "stdout",
     "output_type": "stream",
     "text": [
      "[1, 2, 3, 4, 5]\n",
      "[3, 4, 5, 6, 7]\n",
      "Intersection: [3, 4, 5]\n"
     ]
    }
   ],
   "source": [
    "#15 list intersection\n",
    "#write a function that takes two lists and returns a new list with the common elements between the lists. print the result.\n",
    "\n",
    "def intersection(lst1, lst2):\n",
    "    return list(set(lst1) & set(lst2))\n",
    "\n",
    "lst1 = [1, 2, 3, 4, 5]\n",
    "lst2 = [3, 4, 5, 6, 7]\n",
    "print(lst1)\n",
    "print(lst2)\n",
    "print(f\"Intersection: {intersection(lst1, lst2)}\")"
   ]
  }
 ],
 "metadata": {
  "kernelspec": {
   "display_name": "base",
   "language": "python",
   "name": "python3"
  },
  "language_info": {
   "codemirror_mode": {
    "name": "ipython",
    "version": 3
   },
   "file_extension": ".py",
   "mimetype": "text/x-python",
   "name": "python",
   "nbconvert_exporter": "python",
   "pygments_lexer": "ipython3",
   "version": "3.11.5"
  }
 },
 "nbformat": 4,
 "nbformat_minor": 2
}
