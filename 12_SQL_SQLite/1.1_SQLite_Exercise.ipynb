{
 "cells": [
  {
   "cell_type": "markdown",
   "metadata": {},
   "source": [
    "# Module: SQLite3 Assignments\n",
    "### 1: Creating and Connecting to a Database\n",
    "\n",
    "1. Write a Python function to create a new SQLite3 database named `sample.db`."
   ]
  },
  {
   "cell_type": "code",
   "execution_count": 1,
   "metadata": {},
   "outputs": [],
   "source": [
    "import sqlite3"
   ]
  },
  {
   "cell_type": "code",
   "execution_count": 42,
   "metadata": {},
   "outputs": [],
   "source": [
    "#Write a Python function to create a new SQLite3 database named `sample.db`.\n",
    "\n",
    "def create_db(sample_db):\n",
    "    try:\n",
    "        with sqlite3.connect(sample_db):\n",
    "            pass\n",
    "    except sqlite3.OperationalError:\n",
    "        print(\"Database already exists\")\n",
    "        \n",
    "\n",
    "create_db(\"trial.db\")\n"
   ]
  },
  {
   "cell_type": "markdown",
   "metadata": {},
   "source": [
    "2. Write a Python function to create a table named `employees` with columns `id` (integer), `name` (text), `age` (integer), and `department` (text) in the `sample.db` database."
   ]
  },
  {
   "cell_type": "code",
   "execution_count": 43,
   "metadata": {},
   "outputs": [
    {
     "name": "stdout",
     "output_type": "stream",
     "text": [
      "Table created successfully\n"
     ]
    }
   ],
   "source": [
    "def create_table():\n",
    "    try:\n",
    "        with sqlite3.connect(\"trial.db\") as connection:\n",
    "            cursor =connection.cursor()\n",
    "            cursor.execute(\"CREATE TABLE IF NOT EXISTS employees(id INTEGER PRIMARY KEY, name TEXT, age INTEGER, department TEXT)\")\n",
    "            connection.commit()\n",
    "            print(\"Table created successfully\")\n",
    "    except sqlite3.OperationalError:\n",
    "        print(\"Table already exists\")\n",
    "\n",
    "create_table()"
   ]
  },
  {
   "cell_type": "markdown",
   "metadata": {},
   "source": [
    "### 2: Inserting Data\n",
    "\n",
    "1. Write a Python function to insert a new employee into the `employees` table."
   ]
  },
  {
   "cell_type": "code",
   "execution_count": 44,
   "metadata": {},
   "outputs": [
    {
     "name": "stdout",
     "output_type": "stream",
     "text": [
      "Data inserted successfully\n"
     ]
    }
   ],
   "source": [
    "def insert_employees(id, name, age, department):\n",
    "    try:\n",
    "        with sqlite3.connect(\"trial.db\") as connection:\n",
    "            cursor =connection.cursor()\n",
    "            cursor.execute(\"\"\"\n",
    "            INSERT INTO employees(id, name, age, department) VALUES(?,?,?,?)\"\"\",(id, name, age, department))\n",
    "            connection.commit()\n",
    "            print(\"Data inserted successfully\")\n",
    "    except sqlite3.OperationalError:\n",
    "        print(\"Data already exists\")\n",
    "#test the function\n",
    "insert_employees(1,\"John\", 25, \"HR\")\n",
    "    "
   ]
  },
  {
   "cell_type": "markdown",
   "metadata": {},
   "source": [
    "2. Insert at least 5 different employees into the `employees` table."
   ]
  },
  {
   "cell_type": "code",
   "execution_count": 45,
   "metadata": {},
   "outputs": [
    {
     "name": "stdout",
     "output_type": "stream",
     "text": [
      "Data inserted successfully\n",
      "Data inserted successfully\n",
      "Data inserted successfully\n",
      "Data inserted successfully\n"
     ]
    }
   ],
   "source": [
    "insert_employees(2, 'Bob', 25, 'Engineering')\n",
    "insert_employees(3, 'Charlie', 28, 'Sales')\n",
    "insert_employees(4, 'David', 35, 'Marketing')\n",
    "insert_employees(5, 'Eve', 22, 'HR')"
   ]
  },
  {
   "cell_type": "markdown",
   "metadata": {},
   "source": [
    "### 3: Querying Data\n",
    "\n",
    "1. Write a Python function to fetch and display all records from the `employees` table."
   ]
  },
  {
   "cell_type": "code",
   "execution_count": 82,
   "metadata": {},
   "outputs": [
    {
     "name": "stdout",
     "output_type": "stream",
     "text": [
      "(1, 'John', 37, 'Management', None)\n",
      "(2, 'John', 25, 'HR', None)\n",
      "(3, 'Charlie', 31, 'Sales', None)\n",
      "(4, 'David', 40, 'Marketing', None)\n",
      "(6, 'John', 25, 'HR', None)\n",
      "(7, 'Bob', 29, 'Engineering', None)\n",
      "(8, 'Charlie', 28, 'Sales', None)\n",
      "(9, 'David', 35, 'Marketing', None)\n",
      "(10, 'Eve', 22, 'HR', None)\n",
      "(11, 'Johny', 27, 'Sales', None)\n"
     ]
    }
   ],
   "source": [
    "def fetching_all_employees(table_name=\"employees\"):\n",
    "    try:\n",
    "        with sqlite3.connect(\"trial.db\") as connection:\n",
    "            cursor =connection.cursor()\n",
    "            cursor.execute(f\"SELECT * FROM {table_name}\")\n",
    "            rows = cursor.fetchall()\n",
    "            for row in rows:\n",
    "                print(row)\n",
    "    except sqlite3.OperationalError:\n",
    "        print(\"Data not found\")\n",
    "fetching_all_employees()"
   ]
  },
  {
   "cell_type": "markdown",
   "metadata": {},
   "source": [
    "2. Write a Python function to fetch and display all employees from a specific department."
   ]
  },
  {
   "cell_type": "code",
   "execution_count": 50,
   "metadata": {},
   "outputs": [
    {
     "name": "stdout",
     "output_type": "stream",
     "text": [
      "(3, 'Charlie', 28, 'Sales')\n"
     ]
    }
   ],
   "source": [
    "def fetching_employees_by_department(department):\n",
    "    try:\n",
    "        with sqlite3.connect(\"trial.db\") as connection:\n",
    "            cursor =connection.cursor()\n",
    "            cursor.execute(\"SELECT * FROM employees WHERE department = ?\", (department,))\n",
    "            rows = cursor.fetchall()\n",
    "            for row in rows:\n",
    "                print(row)\n",
    "    except sqlite3.OperationalError:\n",
    "        print(\"Data not found\")\n",
    "#test the function\n",
    "fetching_employees_by_department(\"Sales\")"
   ]
  },
  {
   "cell_type": "markdown",
   "metadata": {},
   "source": [
    "### 4: Updating Data\n",
    "\n",
    "1. Write a Python function to update the department of an employee based on their `id`."
   ]
  },
  {
   "cell_type": "code",
   "execution_count": 51,
   "metadata": {},
   "outputs": [
    {
     "name": "stdout",
     "output_type": "stream",
     "text": [
      "Employee department updated successfully please check below\n",
      "\n"
     ]
    }
   ],
   "source": [
    "def update_employees(id,departemnt):\n",
    "    try:\n",
    "        with sqlite3.connect(\"trial.db\") as connection:\n",
    "            cursor = connection.cursor()\n",
    "            cursor.execute(\"UPDATE employees SET department = ? WHERE id = ?\",(departemnt, id))\n",
    "            connection.commit()\n",
    "            print(\"Employee department updated successfully\\n\")\n",
    "    except sqlite3.OperationalError:\n",
    "        print(\"Data not found\")    \n",
    "    \n",
    "\n",
    "#test the function\n",
    "update_employees(1, \"Management\")"
   ]
  },
  {
   "cell_type": "markdown",
   "metadata": {},
   "source": [
    "2. Update the department of at least 2 employees and display the updated records."
   ]
  },
  {
   "cell_type": "code",
   "execution_count": 52,
   "metadata": {},
   "outputs": [
    {
     "name": "stdout",
     "output_type": "stream",
     "text": [
      "Employee department updated successfully please check below\n",
      "\n",
      "Employee department updated successfully please check below\n",
      "\n",
      "Employee department updated successfully please check below\n",
      "\n",
      "(1, 'John', 25, 'Management')\n",
      "(2, 'Bob', 25, 'Reception')\n",
      "(3, 'Charlie', 28, 'Sales')\n",
      "(4, 'David', 35, 'Marketing')\n",
      "(5, 'Eve', 22, 'HR')\n"
     ]
    }
   ],
   "source": [
    "update_employees(2, \"Reception\")\n",
    "update_employees(3, \"Sales\")\n",
    "update_employees(4, \"Marketing\")\n",
    "\n",
    "fetching_all_employees()"
   ]
  },
  {
   "cell_type": "markdown",
   "metadata": {},
   "source": [
    "###  5: Deleting Data\n",
    "\n",
    "1. Write a Python function to delete an employee from the `employees` table based on their `id`."
   ]
  },
  {
   "cell_type": "code",
   "execution_count": 54,
   "metadata": {},
   "outputs": [
    {
     "name": "stdout",
     "output_type": "stream",
     "text": [
      "Employee deleted successfully\n"
     ]
    }
   ],
   "source": [
    "def delete_employees(id):\n",
    "    try:\n",
    "        with sqlite3.connect(\"trial.db\") as connection:\n",
    "            cursor = connection.cursor()\n",
    "            cursor.execute(\"DELETE FROM employees WHERE id = ?\", (id,))\n",
    "            connection.commit()\n",
    "            print(\"Employee deleted successfully\")\n",
    "\n",
    "    except sqlite3.OperationalError:\n",
    "        print(\"Data not found\")\n",
    "#test the function\n",
    "delete_employees(2)\n"
   ]
  },
  {
   "cell_type": "markdown",
   "metadata": {},
   "source": [
    "2. Delete at least 1 employee and display the remaining records."
   ]
  },
  {
   "cell_type": "code",
   "execution_count": 56,
   "metadata": {},
   "outputs": [
    {
     "name": "stdout",
     "output_type": "stream",
     "text": [
      "(1, 'John', 25, 'Management')\n",
      "(3, 'Charlie', 28, 'Sales')\n",
      "(4, 'David', 35, 'Marketing')\n",
      "(5, 'Eve', 22, 'HR')\n",
      "Employee deleted successfully\n",
      "(1, 'John', 25, 'Management')\n",
      "(3, 'Charlie', 28, 'Sales')\n",
      "(4, 'David', 35, 'Marketing')\n"
     ]
    }
   ],
   "source": [
    "\n",
    "fetching_all_employees()\n",
    "delete_employees(5)\n",
    "fetching_all_employees()\n"
   ]
  },
  {
   "cell_type": "markdown",
   "metadata": {},
   "source": [
    "### 6: Advanced Queries\n",
    "\n",
    "1. Write a Python function to fetch and display employees older than a certain age."
   ]
  },
  {
   "cell_type": "code",
   "execution_count": 58,
   "metadata": {},
   "outputs": [
    {
     "name": "stdout",
     "output_type": "stream",
     "text": [
      "(3, 'Charlie', 28, 'Sales')\n",
      "(4, 'David', 35, 'Marketing')\n"
     ]
    }
   ],
   "source": [
    "def fetch_employees_older_than(age):\n",
    "    try:\n",
    "        with sqlite3.connect(\"trial.db\") as connection:\n",
    "            cursor = connection.cursor()\n",
    "            cursor.execute(\"SELECT * FROM employees WHERE age > ?\",(age,))\n",
    "            rows = cursor.fetchall()\n",
    "            for row in rows:\n",
    "                print(row)\n",
    "    except sqlite3.OperationalError:\n",
    "        print(\"Data not found\")\n",
    "\n",
    "#test the function\n",
    "fetch_employees_older_than(25)\n",
    "        "
   ]
  },
  {
   "cell_type": "markdown",
   "metadata": {},
   "source": [
    "2. Write a Python function to fetch and display employees whose names start with a specific letter."
   ]
  },
  {
   "cell_type": "code",
   "execution_count": 60,
   "metadata": {},
   "outputs": [
    {
     "name": "stdout",
     "output_type": "stream",
     "text": [
      "(1, 'John', 25, 'Management')\n"
     ]
    }
   ],
   "source": [
    "def fetch_employees_name_sarts_with(letter):\n",
    "    try:\n",
    "        with sqlite3.connect(\"trial.db\") as connection:\n",
    "            cursor = connection.cursor()\n",
    "            cursor.execute(\"SELECT * FROM employees WHERE name LIKE ?\",(letter + \"%\",))\n",
    "            records = cursor.fetchall()\n",
    "            for record in records:\n",
    "                print(record)\n",
    "    except sqlite3.OperationalError:\n",
    "        print(\"Data not found\")\n",
    "#test the function\n",
    "fetch_employees_name_sarts_with(\"J\")"
   ]
  },
  {
   "cell_type": "markdown",
   "metadata": {},
   "source": [
    "###  7: Handling Transactions\n",
    "\n",
    "1. Write a Python function to insert multiple employees into the `employees` table in a single transaction. Ensure that if any insertion fails, none of the insertions are committed."
   ]
  },
  {
   "cell_type": "code",
   "execution_count": 63,
   "metadata": {},
   "outputs": [
    {
     "name": "stdout",
     "output_type": "stream",
     "text": [
      "Data insertion failed, transaction rolled back\n",
      "UNIQUE constraint failed: employees.id\n"
     ]
    }
   ],
   "source": [
    "def insert_multiple_employees(employees):\n",
    "    try:\n",
    "        with sqlite3.connect(\"trial.db\") as connection:\n",
    "            cursor = connection.cursor()\n",
    "            cursor.executemany(\"INSERT INTO employees(id, name, age, department) VALUES(?,?,?,?)\", employees)\n",
    "            connection.commit()\n",
    "            print(\"Data inserted successfully\")\n",
    "    except Exception as e:\n",
    "        connection.rollback()\n",
    "        print(\"Data insertion failed, transaction rolled back\")\n",
    "        print(e)\n",
    "\n",
    "employees =[\n",
    "    (6, 'John', 25, 'HR'),\n",
    "    (7, 'Bob', 25, 'Engineering'),\n",
    "    (8, 'Charlie', 28, 'Sales'),\n",
    "    (9, 'David', 35, 'Marketing'),\n",
    "    (10, 'Eve', 22, 'HR')]\n",
    "\n",
    "insert_multiple_employees(employees)"
   ]
  },
  {
   "cell_type": "code",
   "execution_count": 66,
   "metadata": {},
   "outputs": [
    {
     "name": "stdout",
     "output_type": "stream",
     "text": [
      "(1, 'John', 32, 'Management')\n",
      "(3, 'Charlie', 33, 'Sales')\n",
      "(4, 'David', 41, 'Marketing')\n",
      "(6, 'John', 25, 'HR')\n",
      "(7, 'Bob', 25, 'Engineering')\n",
      "(8, 'Charlie', 28, 'Sales')\n",
      "(9, 'David', 35, 'Marketing')\n",
      "(10, 'Eve', 22, 'HR')\n"
     ]
    }
   ],
   "source": [
    "fetching_all_employees()"
   ]
  },
  {
   "cell_type": "markdown",
   "metadata": {},
   "source": [
    "2. Write a Python function to update the age of multiple employees in a single transaction. Ensure that if any update fails, none of the updates are committed."
   ]
  },
  {
   "cell_type": "code",
   "execution_count": 71,
   "metadata": {},
   "outputs": [
    {
     "name": "stdout",
     "output_type": "stream",
     "text": [
      "(1, 'John', 35, 'Management')\n",
      "(3, 'Charlie', 31, 'Sales')\n",
      "(4, 'David', 40, 'Marketing')\n",
      "(6, 'John', 25, 'HR')\n",
      "(7, 'Bob', 25, 'Engineering')\n",
      "(8, 'Charlie', 28, 'Sales')\n",
      "(9, 'David', 35, 'Marketing')\n",
      "(10, 'Eve', 22, 'HR')\n",
      "Employees ages updated successfully\n",
      "(1, 'John', 37, 'Management')\n",
      "(3, 'Charlie', 31, 'Sales')\n",
      "(4, 'David', 40, 'Marketing')\n",
      "(6, 'John', 25, 'HR')\n",
      "(7, 'Bob', 29, 'Engineering')\n",
      "(8, 'Charlie', 28, 'Sales')\n",
      "(9, 'David', 35, 'Marketing')\n",
      "(10, 'Eve', 22, 'HR')\n"
     ]
    }
   ],
   "source": [
    "def update_multiple_employees_age(updates):\n",
    "    connection = sqlite3.connect(\"trial.db\")\n",
    "    cursor = connection.cursor()\n",
    "    try:\n",
    "        cursor.executemany(\"UPDATE employees SET age = ? WHERE id = ?\", updates)\n",
    "        connection.commit()\n",
    "        print(\"Employees ages updated successfully\")\n",
    "    except Exception as e:\n",
    "        connection.rollback()\n",
    "        print(\"Data insertion failed, transaction rolled back\")\n",
    "        print(e)\n",
    "    finally:\n",
    "        cursor.close()\n",
    "        connection.close()\n",
    "\n",
    "# Test the function with valid and invalid data\n",
    "updates = [\n",
    "    (37, 1),\n",
    "    (28, 2),# Non-existing ID to cause an error\n",
    "    (31, 3),\n",
    "    (40, 4),  \n",
    "    (26, 5),# Non-existing ID to cause an error\n",
    "    (25, 6),\n",
    "    (29, 7)\n",
    "]\n",
    "fetching_all_employees()\n",
    "update_multiple_employees_age(updates)\n",
    "fetching_all_employees()"
   ]
  },
  {
   "cell_type": "markdown",
   "metadata": {},
   "source": [
    "### 8: Creating Relationships\n",
    "\n",
    "1. Create a new table named `departments` with columns `id` (integer) and `name` (text)."
   ]
  },
  {
   "cell_type": "code",
   "execution_count": 72,
   "metadata": {},
   "outputs": [
    {
     "name": "stdout",
     "output_type": "stream",
     "text": [
      "Table created successfully\n"
     ]
    }
   ],
   "source": [
    "def create_department_table():\n",
    "    try:\n",
    "        with sqlite3.connect(\"trial.db\") as connection:\n",
    "            cursor = connection.cursor()\n",
    "            cursor.execute(\"CREATE TABLE IF NOT EXISTS departments(id INTEGER PRIMARY KEY, name TEXT)\")\n",
    "            connection.commit()\n",
    "            print(\"Table created successfully\")\n",
    "    except sqlite3.OperationalError:\n",
    "        print(\"Table already exists\")\n",
    "    except Exception as e:\n",
    "        print(e)\n",
    "\n",
    "create_department_table()\n"
   ]
  },
  {
   "cell_type": "markdown",
   "metadata": {},
   "source": [
    "2. Modify the `employees` table to include a foreign key referencing the `id` column in the `departments` table."
   ]
  },
  {
   "cell_type": "code",
   "execution_count": 75,
   "metadata": {},
   "outputs": [
    {
     "name": "stdout",
     "output_type": "stream",
     "text": [
      "Foreign key added successfully\n"
     ]
    }
   ],
   "source": [
    "def add_department_foreign_key():\n",
    "    try:\n",
    "        with sqlite3.connect('trial.db') as connection:\n",
    "            cursor= connection.cursor()\n",
    "            cursor.execute(\"\"\"    PRAGMA foreign_keys = off;\"\"\")\n",
    "            cursor.execute(\"\"\"    BEGIN TRANSACTION;\"\"\")\n",
    "            cursor.execute(\"\"\"    ALTER TABLE employees RENAME TO old_employees;\"\"\")\n",
    "\n",
    "            cursor.execute(\"\"\"    CREATE TABLE employees(\n",
    "                    id INTEGER PRIMARY KEY,\n",
    "                    name TEXT,\n",
    "                    age INTEGER,\n",
    "                    department TEXT,\n",
    "                    department_id INTEGER,\n",
    "                    FOREIGN KEY(department_id) REFERENCES departments(id)\n",
    "                );\"\"\")\n",
    "            cursor.execute(\"\"\"    INSERT INTO employees(id, name, age, department)\n",
    "                SELECT id, name, age, department\n",
    "                FROM old_employees;\"\"\")\n",
    "            \n",
    "            cursor.execute(\"\"\"    DROP TABLE old_employees;\"\"\")\n",
    "            connection.commit()\n",
    "            cursor.execute(\"\"\"    PRAGMA foreign_keys = on;\"\"\")\n",
    "            \n",
    "            print(\"Foreign key added successfully\")\n",
    "    except Exception as e:\n",
    "        connection.rollback()\n",
    "        print(\"Foreign key addition failed, transaction rolled back\")\n",
    "        print(e)\n",
    "\n",
    "# Test the function\n",
    "add_department_foreign_key()"
   ]
  },
  {
   "cell_type": "markdown",
   "metadata": {},
   "source": [
    "3. Write a Python function to insert data into both the `departments` and `employees` tables, ensuring referential integrity."
   ]
  },
  {
   "cell_type": "code",
   "execution_count": 86,
   "metadata": {},
   "outputs": [
    {
     "name": "stdout",
     "output_type": "stream",
     "text": [
      "Data inserted successfully\n"
     ]
    }
   ],
   "source": [
    "def insert_department_and_employees(department_id,department_name,employee_id,name,age,department):\n",
    "    try:\n",
    "        with sqlite3.connect(\"trial.db\") as connection:\n",
    "            cursor = connection.cursor()\n",
    "            cursor.execute(\"INSERT INTO departments(id, name) VALUES(?,?)\",(department_id,department_name))\n",
    "            cursor.execute(\"INSERT INTO employees(id, name, age, department, department_id) VALUES(?,?,?,?,?)\",(employee_id,name,age,department,department_id))\n",
    "            connection.commit()\n",
    "            print(\"Data inserted successfully\")\n",
    "    except Exception as e:\n",
    "        connection.rollback()\n",
    "        print(\"Data insertion failed, transaction rolled back\")\n",
    "        print(e)\n",
    "\n",
    "# Test the function\n",
    "insert_department_and_employees(3,\"Marketing\",12,\"Johny_abrams\",27,\"Marketing\")"
   ]
  },
  {
   "cell_type": "code",
   "execution_count": 88,
   "metadata": {},
   "outputs": [
    {
     "name": "stdout",
     "output_type": "stream",
     "text": [
      "(1, 'HR')\n",
      "(2, 'Sales')\n",
      "(3, 'Marketing')\n"
     ]
    }
   ],
   "source": [
    "fetching_all_employees('departments')"
   ]
  },
  {
   "cell_type": "markdown",
   "metadata": {},
   "source": [
    "###  9: Indexing and Optimization\n",
    "\n",
    "1. Create an index on the `name` column of the `employees` table."
   ]
  },
  {
   "cell_type": "code",
   "execution_count": 89,
   "metadata": {},
   "outputs": [
    {
     "name": "stdout",
     "output_type": "stream",
     "text": [
      "Index created successfully\n"
     ]
    }
   ],
   "source": [
    "def create_index_name():\n",
    "    try:\n",
    "        with sqlite3.connect(\"trial.db\") as connection:\n",
    "            cursor = connection.cursor()\n",
    "            cursor.execute(\"CREATE INDEX IF NOT EXISTS name_index ON employees(name)\")\n",
    "            connection.commit()\n",
    "            print(\"Index created successfully\")\n",
    "    except Exception as e:\n",
    "        print(e)\n",
    "\n",
    "create_index_name()"
   ]
  },
  {
   "cell_type": "markdown",
   "metadata": {},
   "source": [
    "2. Write a Python function to fetch and display all employees whose names start with a specific letter. Compare the performance with and without the index."
   ]
  },
  {
   "cell_type": "code",
   "execution_count": 93,
   "metadata": {},
   "outputs": [
    {
     "name": "stdout",
     "output_type": "stream",
     "text": [
      "(3, 'Charlie', 31, 'Sales', None)\n",
      "(8, 'Charlie', 28, 'Sales', None)\n",
      "Execution time: 0.0010004043579101562 seconds\n"
     ]
    }
   ],
   "source": [
    "import time\n",
    "\n",
    "def fetch_all_employees_name_starts_with_performance(letter):\n",
    "    try:\n",
    "        start_time = time.time()\n",
    "        with sqlite3.connect(\"trial.db\") as connection:\n",
    "            cursor = connection.cursor()\n",
    "            cursor.execute(f\"SELECT * FROM employees WHERE name LIKE '{letter}%'\")\n",
    "            rows = cursor.fetchall()\n",
    "            for row in rows:\n",
    "                print(row)\n",
    "        end_time = time.time()\n",
    "        print(f\"Execution time: {end_time - start_time} seconds\")\n",
    "\n",
    "    except Exception as e:\n",
    "        print(e)\n",
    "\n",
    "\n",
    "# Test the function\n",
    "fetch_all_employees_name_starts_with_performance(\"C\")"
   ]
  },
  {
   "cell_type": "markdown",
   "metadata": {},
   "source": [
    "### 10: Backing Up and Restoring Data\n",
    "\n",
    "1. Write a Python function to back up the `trial.db` database to a file named `backup.db`."
   ]
  },
  {
   "cell_type": "code",
   "execution_count": 95,
   "metadata": {},
   "outputs": [
    {
     "name": "stdout",
     "output_type": "stream",
     "text": [
      "Database backup created successfully\n"
     ]
    }
   ],
   "source": [
    "import shutil\n",
    "\n",
    "def backup_database():\n",
    "    try:\n",
    "        shutil.copy(\"trial.db\", \"trial_backup.db\")\n",
    "        print(\"Database backup created successfully\")\n",
    "    except Exception as e:\n",
    "        print(e)\n",
    "\n",
    "backup_database()"
   ]
  },
  {
   "cell_type": "markdown",
   "metadata": {},
   "source": [
    "2. Write a Python function to restore the `trial.db` database from the `trial_backup.db` file."
   ]
  },
  {
   "cell_type": "code",
   "execution_count": 96,
   "metadata": {},
   "outputs": [
    {
     "name": "stdout",
     "output_type": "stream",
     "text": [
      "Database restored successfully\n"
     ]
    }
   ],
   "source": [
    "def restore_database():\n",
    "    try:\n",
    "        shutil.copy(\"trial_backup.db\", \"trial.db\")\n",
    "        print(\"Database restored successfully\")\n",
    "    except Exception as e:\n",
    "        print(e)\n",
    "\n",
    "restore_database()"
   ]
  },
  {
   "cell_type": "code",
   "execution_count": 97,
   "metadata": {},
   "outputs": [
    {
     "name": "stdout",
     "output_type": "stream",
     "text": [
      "(1, 'John', 37, 'Management', None)\n",
      "(2, 'John', 25, 'HR', None)\n",
      "(3, 'Charlie', 31, 'Sales', None)\n",
      "(4, 'David', 40, 'Marketing', None)\n",
      "(6, 'John', 25, 'HR', None)\n",
      "(7, 'Bob', 29, 'Engineering', None)\n",
      "(8, 'Charlie', 28, 'Sales', None)\n",
      "(9, 'David', 35, 'Marketing', None)\n",
      "(10, 'Eve', 22, 'HR', None)\n",
      "(11, 'Johny', 27, 'Sales', None)\n",
      "(12, 'Johny_abrams', 27, 'Marketing', 3)\n"
     ]
    }
   ],
   "source": [
    "fetching_all_employees()"
   ]
  }
 ],
 "metadata": {
  "kernelspec": {
   "display_name": "Python 3",
   "language": "python",
   "name": "python3"
  },
  "language_info": {
   "codemirror_mode": {
    "name": "ipython",
    "version": 3
   },
   "file_extension": ".py",
   "mimetype": "text/x-python",
   "name": "python",
   "nbconvert_exporter": "python",
   "pygments_lexer": "ipython3",
   "version": "3.10.0"
  }
 },
 "nbformat": 4,
 "nbformat_minor": 2
}
