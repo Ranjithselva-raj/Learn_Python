{
 "cells": [
  {
   "cell_type": "markdown",
   "metadata": {},
   "source": [
    "Functions examples\n",
    "ex 1: Temperature conversion "
   ]
  },
  {
   "cell_type": "code",
   "execution_count": 4,
   "metadata": {},
   "outputs": [
    {
     "name": "stdout",
     "output_type": "stream",
     "text": [
      "40.55555555555556\n",
      "104.9\n"
     ]
    }
   ],
   "source": [
    "#1.temprature conversion\n",
    "\n",
    "def conver_temprature(temp,unit):\n",
    "    \"\"\"This function is used to convert the temprature between celcius and farenheit\"\"\"\n",
    "    if unit == \"C\":\n",
    "        return (temp*9/5)+32 #celcius to farenheit\n",
    "    elif unit == \"F\":\n",
    "        return (temp-32)*5/9 #farenheit to celcius\n",
    "    else:\n",
    "        return \"Invalid input\"\n",
    "\n",
    "print(conver_temprature(105,\"F\"))\n",
    "print(conver_temprature(40.5,\"C\"))"
   ]
  },
  {
   "cell_type": "markdown",
   "metadata": {},
   "source": [
    "password strength checker"
   ]
  },
  {
   "cell_type": "code",
   "execution_count": 10,
   "metadata": {},
   "outputs": [
    {
     "name": "stdout",
     "output_type": "stream",
     "text": [
      "The password is strong\n"
     ]
    }
   ],
   "source": [
    "#2 password strength checker\n",
    "\n",
    "def password_check(password):\n",
    "    \"\"\"This function is used to check the strength of password\"\"\"\n",
    "    if len(password) < 8:\n",
    "        return \"The password is too short\"\n",
    "    elif not any(char.isdigit() for char in password):\n",
    "        return \"The password must contain at least one digit\"\n",
    "    elif not any(char.isupper() for char in password):\n",
    "        return \"The password must contain at least one uppercase letter\"\n",
    "    elif not any(char.islower() for char in password):\n",
    "        return \"The password must contain at least one lowercase letter\"\n",
    "    elif not any(char in \"!@#$%^&*()_+-=[]|;:,.<>/?`~\" for char in password):\n",
    "        return \"The password must contain at least one special character\"\n",
    "    else:\n",
    "        return \"The password is strong\"\n",
    "    \n",
    "password = input(\"Enter your password: \")\n",
    "print(password_check(password))"
   ]
  },
  {
   "cell_type": "code",
   "execution_count": 14,
   "metadata": {},
   "outputs": [
    {
     "name": "stdout",
     "output_type": "stream",
     "text": [
      "43\n"
     ]
    }
   ],
   "source": [
    "#3. Calculate the total cost of items in a shopping cart\n",
    "\n",
    "\n",
    "def calulate_total_cost(cart):\n",
    "    total = 0\n",
    "    for item in cart:\n",
    "        total += item[\"price\"] * item[\"quantity\"]\n",
    "    return total\n",
    "\n",
    "## example for cart date\n",
    "\n",
    "cart = [\n",
    "    {'name': 'apple', 'price': 10, 'quantity': 2 },\n",
    "    {'name': 'banana', 'price': 5, 'quantity': 3 },\n",
    "    {'name': 'orange', 'price': 8, 'quantity': 1 }\n",
    "]\n",
    "\n",
    "total_cost = calulate_total_cost(cart)\n",
    "\n",
    "print(total_cost)"
   ]
  },
  {
   "cell_type": "code",
   "execution_count": 15,
   "metadata": {},
   "outputs": [],
   "source": [
    "#4.check the string is palindrome or not\n",
    "\n",
    "def is_palindrome(string):\n",
    "    string = string.lower().replace(\" \", \"\")\n",
    "    if string == string[::-1]:\n",
    "        return \"This is a palindrome\"\n",
    "    else:\n",
    "        return \"This is not a palindrome\""
   ]
  },
  {
   "cell_type": "code",
   "execution_count": null,
   "metadata": {},
   "outputs": [],
   "source": [
    "#5 factorial of a number using recursion\n",
    "\n",
    "def fact(number):\n",
    "    if number == 1:\n",
    "        return 1\n",
    "    else:\n",
    "        return number*fact(number-1)"
   ]
  },
  {
   "cell_type": "code",
   "execution_count": null,
   "metadata": {},
   "outputs": [],
   "source": [
    "#6 a function to read a file and count the frequency of each word\n",
    "\n",
    "def count_words(filename):\n",
    "    with open(filename, 'r') as file:\n",
    "        text = file.read()\n",
    "        words = text.split()\n",
    "        word_count = {}\n",
    "        for word in words:\n",
    "            if word in word_count:\n",
    "                word_count[word] += 1\n",
    "            else:\n",
    "                word_count[word] = 1\n",
    "        return word_count\n",
    "    \n",
    "filename = \".txt\"\n",
    "word_count = count_words(filename)\n",
    "print(word_count)"
   ]
  },
  {
   "cell_type": "code",
   "execution_count": null,
   "metadata": {},
   "outputs": [],
   "source": [
    "#7. Validate email address\n",
    "\n",
    "import re\n",
    "\n",
    "text1 = input(\"Enter Email: \")\n",
    "pattern2 = r\"\\b[\\w._%-]+\\@[gmail]+\\.[a-z]{2,}\\b\"\n",
    "\n",
    "if re.match(pattern2, text1):\n",
    "    print(f\"{text1} is Valid Email\")\n",
    "\n",
    "else:\n",
    "    print(f\"{text1} is Invalid Email\")"
   ]
  },
  {
   "cell_type": "code",
   "execution_count": 28,
   "metadata": {},
   "outputs": [
    {
     "name": "stdout",
     "output_type": "stream",
     "text": [
      "devolp123@gmail.com is Valid Email\n"
     ]
    }
   ],
   "source": [
    "import re\n",
    "def is_valid_email(email):\n",
    "    pattern = r\"^[a-zA-Z0-9_.+-]+@[a-zA-Z0-9-]+\\.[a-zA-Z0-9-.]+$\"\n",
    "    return re.match(pattern, email)\n",
    "\n",
    "email = input(\"Enter Email: \")\n",
    "if is_valid_email(email):\n",
    "    print(f\"{email} is Valid Email\")\n",
    "else:\n",
    "    print(f\"{email} is Invalid Email\")"
   ]
  }
 ],
 "metadata": {
  "kernelspec": {
   "display_name": "base",
   "language": "python",
   "name": "python3"
  },
  "language_info": {
   "codemirror_mode": {
    "name": "ipython",
    "version": 3
   },
   "file_extension": ".py",
   "mimetype": "text/x-python",
   "name": "python",
   "nbconvert_exporter": "python",
   "pygments_lexer": "ipython3",
   "version": "3.11.5"
  }
 },
 "nbformat": 4,
 "nbformat_minor": 2
}
