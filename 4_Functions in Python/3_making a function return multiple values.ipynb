{
 "cells": [
  {
   "cell_type": "code",
   "execution_count": 1,
   "metadata": {},
   "outputs": [
    {
     "data": {
      "text/plain": [
       "(78.5, 31.400000000000002)"
      ]
     },
     "execution_count": 1,
     "metadata": {},
     "output_type": "execute_result"
    }
   ],
   "source": [
    "#making a function return multiple values\n",
    "def circle(radius):\n",
    "    area = 3.14 * radius * radius #pi * r * r\n",
    "    circumference = 2 * 3.14 * radius #2 * pi * r\n",
    "    return area, circumference\n",
    "\n",
    "circle(5)"
   ]
  },
  {
   "cell_type": "code",
   "execution_count": 9,
   "metadata": {},
   "outputs": [
    {
     "name": "stdout",
     "output_type": "stream",
     "text": [
      "Area of circle is 314.0 and circumference is,62.8\n"
     ]
    }
   ],
   "source": [
    "#function with multiple return and store in variables and round off for 1 decimals\n",
    "def circle(radius):\n",
    "    area = 3.14 * radius * radius #pi * r * r\n",
    "    circumference = 2 * 3.14 * radius #2 * pi * r\n",
    "    return area, circumference\n",
    "\n",
    "a,b=circle(10)\n",
    "print(f\"Area of circle is {a} and circumference is,{round(b,1)}\")"
   ]
  },
  {
   "cell_type": "code",
   "execution_count": null,
   "metadata": {},
   "outputs": [],
   "source": []
  }
 ],
 "metadata": {
  "kernelspec": {
   "display_name": "base",
   "language": "python",
   "name": "python3"
  },
  "language_info": {
   "codemirror_mode": {
    "name": "ipython",
    "version": 3
   },
   "file_extension": ".py",
   "mimetype": "text/x-python",
   "name": "python",
   "nbconvert_exporter": "python",
   "pygments_lexer": "ipython3",
   "version": "3.11.5"
  }
 },
 "nbformat": 4,
 "nbformat_minor": 2
}
