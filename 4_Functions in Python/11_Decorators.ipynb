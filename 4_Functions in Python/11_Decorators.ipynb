{
 "cells": [
  {
   "cell_type": "markdown",
   "metadata": {},
   "source": [
    "Decorators\n",
    "which is used to decorate a function\n",
    "decorators are modify the behavior of the existing function we have\n"
   ]
  },
  {
   "cell_type": "code",
   "execution_count": 1,
   "metadata": {},
   "outputs": [],
   "source": [
    "def chocolate():\n",
    "    print(\"I love chocolate\")"
   ]
  },
  {
   "cell_type": "code",
   "execution_count": 2,
   "metadata": {},
   "outputs": [
    {
     "name": "stdout",
     "output_type": "stream",
     "text": [
      "Wrapper up side\n",
      "I love chocolate\n",
      "Wrapper down side\n"
     ]
    }
   ],
   "source": [
    "#creating a decorator function which takes a function as an argument\n",
    "def decorator(function):\n",
    "    def wrapper():\n",
    "        print(\"Wrapper up side\")\n",
    "        function()\n",
    "        print(\"Wrapper down side\")\n",
    "    return wrapper\n",
    "\n",
    "decorated_chocolate = decorator(chocolate)\n",
    "decorated_chocolate()"
   ]
  },
  {
   "cell_type": "code",
   "execution_count": 3,
   "metadata": {},
   "outputs": [
    {
     "name": "stdout",
     "output_type": "stream",
     "text": [
      "Wrapper up side\n",
      "I love cake\n",
      "Wrapper down side\n"
     ]
    }
   ],
   "source": [
    "#invoking the decorator function on the function so that the wrapper function is invoked\n",
    "#Decorators in Python are a powerful and expressive feature, allowing you to modify or extend the behavior of functions or methods\n",
    "@decorator\n",
    "def cake():\n",
    "    print(\"I love cake\")\n",
    "\n",
    "cake()"
   ]
  },
  {
   "cell_type": "markdown",
   "metadata": {},
   "source": [
    "Decorating functions accepting arguments"
   ]
  },
  {
   "cell_type": "code",
   "execution_count": 4,
   "metadata": {},
   "outputs": [],
   "source": [
    "#if we want to pass an argument with function we call then we have to make changes to the wrapper function\n",
    "def decorator_wrapper(function):\n",
    "    def wrapper(*args, **kwargs): # so now we can pass any number of arguments with the functions we call\n",
    "        print(\"Wrapper up side\")\n",
    "        function(*args, **kwargs)\n",
    "        print(\"Wrapper down side\")\n",
    "    return wrapper"
   ]
  },
  {
   "cell_type": "code",
   "execution_count": 5,
   "metadata": {},
   "outputs": [
    {
     "name": "stdout",
     "output_type": "stream",
     "text": [
      "Wrapper up side\n",
      "I love BMW and color is Red\n",
      "Wrapper down side\n"
     ]
    }
   ],
   "source": [
    "@decorator_wrapper\n",
    "def car(name, color):\n",
    "    print(f\"I love {name} and color is {color}\")\n",
    "\n",
    "car(\"BMW\", \"Red\")"
   ]
  },
  {
   "cell_type": "code",
   "execution_count": null,
   "metadata": {},
   "outputs": [],
   "source": [
    "#but if we pass an argument with decorator function without changing the wrapper function we get an error\n",
    "@decorator\n",
    "def car(name, color):\n",
    "    print(f\"I love {name} and color is {color}\")\n",
    "\n",
    "car(\"BMW\", \"Red\")"
   ]
  },
  {
   "cell_type": "markdown",
   "metadata": {},
   "source": [
    "Decorators functions returning values       ##############################################################"
   ]
  },
  {
   "cell_type": "code",
   "execution_count": 1,
   "metadata": {},
   "outputs": [],
   "source": [
    "#creating a decorator function to give discount price based on season \n",
    "def summer_discount(func):\n",
    "    def wrapper(price):\n",
    "        func(price)\n",
    "        return (f\"After summer discount £{price * 0.5}\")\n",
    "    return wrapper\n",
    "\n",
    "def winter_discount(func):\n",
    "    def wrapper(price):\n",
    "        func(price)\n",
    "        return (f\"After winter discount £{price * 0.8}\")\n",
    "    return wrapper\n"
   ]
  },
  {
   "cell_type": "code",
   "execution_count": 2,
   "metadata": {},
   "outputs": [
    {
     "data": {
      "text/plain": [
       "'After summer discount £200.0'"
      ]
     },
     "execution_count": 2,
     "metadata": {},
     "output_type": "execute_result"
    }
   ],
   "source": [
    "@winter_discount\n",
    "def winter_season(price):\n",
    "    return price\n",
    "\n",
    "@summer_discount\n",
    "def summer_season(price):\n",
    "    return price\n",
    "\n",
    "summer_season(400)"
   ]
  },
  {
   "cell_type": "code",
   "execution_count": 30,
   "metadata": {},
   "outputs": [],
   "source": [
    "#creating a decorator function which takes list and single argument as an argument and returns wrapper\n",
    "def calc_division(func):\n",
    "    def wrapper(args, div):\n",
    "        \n",
    "        print(\"Wrapper up side\")\n",
    "        if  isinstance(args, list):\n",
    "            result = func(args)\n",
    "        else:\n",
    "            result = func([args])\n",
    "        \n",
    "        if div != 0:\n",
    "            result = result / div\n",
    "        else:\n",
    "            print(\"Can't divide by zero\")\n",
    "        print(\"Wrapper down side\")\n",
    "\n",
    "        return result\n",
    "    return wrapper"
   ]
  },
  {
   "cell_type": "code",
   "execution_count": 33,
   "metadata": {},
   "outputs": [
    {
     "name": "stdout",
     "output_type": "stream",
     "text": [
      "Wrapper up side\n",
      "Wrapper down side\n",
      "[0.5, 1.0, 1.5, 2.0, 2.5, 3.0, 3.5, 4.0, 4.5, 5.0]\n"
     ]
    }
   ],
   "source": [
    "l=[1,2,3,4,5,6,7,8,9,10]\n",
    "\n",
    "@calc_division\n",
    "def division(elements):\n",
    "    return elements \n",
    "\n",
    "print(division(l, div =2))"
   ]
  },
  {
   "cell_type": "code",
   "execution_count": 32,
   "metadata": {},
   "outputs": [
    {
     "name": "stdout",
     "output_type": "stream",
     "text": [
      "Wrapper up side\n",
      "Wrapper down side\n",
      "[2.5, 5.0, 7.5, 10.0, 12.5, 15.0, 17.5, 20.0, 22.5, 25.0]\n"
     ]
    }
   ],
   "source": [
    "def calc_division(func):\n",
    "    def wrapper(arg, div):\n",
    "        print(\"Wrapper up side\")\n",
    "\n",
    "        result = func(arg)  # Pass the entire list as a single argument\n",
    "\n",
    "        output=[]\n",
    "        if div != 0:\n",
    "            for i in result:\n",
    "                output.append(i / div)    \n",
    "        else:\n",
    "            print(\"Can't divide by zero\")\n",
    "        print(\"Wrapper down side\")\n",
    "        return output\n",
    "    return wrapper\n",
    "\n",
    "@calc_division\n",
    "def division(elements):\n",
    "    \"\"\"take a list and number you want to divide it by as argument and return the result in list\"\"\" \n",
    "    return elements\n",
    "\n",
    "l = [10, 20, 30, 40, 50, 60, 70, 80, 90, 100]\n",
    "print(division(l, div=4))  # \n"
   ]
  },
  {
   "cell_type": "code",
   "execution_count": null,
   "metadata": {},
   "outputs": [],
   "source": [
    "def multip(func):\n",
    "    def wrapper():\n",
    "        \n",
    "        func()\n",
    "\n",
    "    return wrapper"
   ]
  },
  {
   "cell_type": "code",
   "execution_count": 8,
   "metadata": {},
   "outputs": [],
   "source": [
    "#decorator function which takes a list as an argument and multiply with given number and returns wrapper\n",
    "\n",
    "def calc_multiplication(func):\n",
    "    def wrapper(arg,div):\n",
    "        print(\"Wrapper up side\")\n",
    "        \n",
    "        result=func(arg)\n",
    "        total =[]\n",
    "        if div!=0:\n",
    "            for  i in result:\n",
    "                total.append(i*div)\n",
    "        else:\n",
    "            for  i in result:\n",
    "                total.append(i*div)\n",
    "        print(\"Wrapper down side\")\n",
    "        return total\n",
    "    return wrapper\n"
   ]
  },
  {
   "cell_type": "code",
   "execution_count": 9,
   "metadata": {},
   "outputs": [],
   "source": [
    "\n",
    "@calc_multiplication\n",
    "def get(element):\n",
    "    return element\n"
   ]
  },
  {
   "cell_type": "code",
   "execution_count": 15,
   "metadata": {},
   "outputs": [
    {
     "name": "stdout",
     "output_type": "stream",
     "text": [
      "Wrapper up side\n",
      "Wrapper down side\n"
     ]
    },
    {
     "data": {
      "text/plain": [
       "[60, 115, 170, 225, 280, 335, 390, 445, 450]"
      ]
     },
     "execution_count": 15,
     "metadata": {},
     "output_type": "execute_result"
    }
   ],
   "source": [
    "carno=[12,23,34,45,56,67,78,89,90]\n",
    "\n",
    "get(carno,div=5)"
   ]
  },
  {
   "cell_type": "code",
   "execution_count": 17,
   "metadata": {},
   "outputs": [],
   "source": [
    "def substract(func):\n",
    "    def wrapper(arg,sub):\n",
    "        print(\"wrapper upside\")\n",
    "        result =func(arg)\n",
    "        \n",
    "        output =[]\n",
    "        if sub >= 0:\n",
    "            for i in result:\n",
    "                output.append(i-sub)\n",
    "        else:\n",
    "            for i in result:\n",
    "                output.append(i+sub)\n",
    "        print(\"wrapper downside\")\n",
    "        return output\n",
    "    return wrapper"
   ]
  },
  {
   "cell_type": "code",
   "execution_count": 18,
   "metadata": {},
   "outputs": [],
   "source": [
    "@substract\n",
    "def subs(element):\n",
    "    return element"
   ]
  },
  {
   "cell_type": "code",
   "execution_count": 19,
   "metadata": {},
   "outputs": [
    {
     "name": "stdout",
     "output_type": "stream",
     "text": [
      "wrapper upside\n",
      "wrapper downside\n"
     ]
    },
    {
     "data": {
      "text/plain": [
       "[7, 18, 29, 40, 51, 62, 73, 84, 85]"
      ]
     },
     "execution_count": 19,
     "metadata": {},
     "output_type": "execute_result"
    }
   ],
   "source": [
    "subs(carno,sub=5)"
   ]
  },
  {
   "cell_type": "code",
   "execution_count": 16,
   "metadata": {},
   "outputs": [],
   "source": [
    "#get a number and return the factorial of that number\n",
    "def factorial_element(func):\n",
    "    def wrapper(arg):\n",
    "        print('upside of wrapper')\n",
    "        result = func(arg)\n",
    "        def factorial(number):\n",
    "            if number == 0:\n",
    "                return 1\n",
    "            else:\n",
    "                return number * factorial(number - 1)\n",
    "        print('downside of wrapper')\n",
    "        return factorial(result)\n",
    "    return wrapper"
   ]
  },
  {
   "cell_type": "code",
   "execution_count": 17,
   "metadata": {},
   "outputs": [],
   "source": [
    "@factorial_element\n",
    "def get_factorial(element):\n",
    "    return element"
   ]
  },
  {
   "cell_type": "code",
   "execution_count": 39,
   "metadata": {},
   "outputs": [
    {
     "name": "stdout",
     "output_type": "stream",
     "text": [
      "upside of wrapper\n",
      "downside of wrapper\n"
     ]
    },
    {
     "data": {
      "text/plain": [
       "120"
      ]
     },
     "execution_count": 39,
     "metadata": {},
     "output_type": "execute_result"
    }
   ],
   "source": [
    "\n",
    "get_factorial(5)"
   ]
  },
  {
   "cell_type": "code",
   "execution_count": 21,
   "metadata": {},
   "outputs": [],
   "source": [
    "#get a list of numbers and return sum of factorial of each element in the list\n",
    "def factorial_element_list(func):\n",
    "    def wrapper(arg):\n",
    "        print('upside of wrapper')\n",
    "        result = func(arg)\n",
    "\n",
    "        if isinstance(result, list):\n",
    "            total = 0\n",
    "            for i in result:\n",
    "                def factorial(number):\n",
    "                    if number == 0:\n",
    "                        return 1\n",
    "                    else:\n",
    "                        return number * factorial(number - 1)\n",
    "                total += factorial(i)\n",
    "            return total\n",
    "        else:\n",
    "            print('Not a list')\n",
    "            \n",
    "    return wrapper"
   ]
  },
  {
   "cell_type": "code",
   "execution_count": 22,
   "metadata": {},
   "outputs": [],
   "source": [
    "@factorial_element_list\n",
    "def get_factorial_list(element):\n",
    "    return element"
   ]
  },
  {
   "cell_type": "code",
   "execution_count": 31,
   "metadata": {},
   "outputs": [
    {
     "name": "stdout",
     "output_type": "stream",
     "text": [
      "upside of wrapper\n"
     ]
    },
    {
     "data": {
      "text/plain": [
       "4037913"
      ]
     },
     "execution_count": 31,
     "metadata": {},
     "output_type": "execute_result"
    }
   ],
   "source": [
    "l=[1,2,3,4,5,6,7,8,9,10]\n",
    "get_factorial_list(l)"
   ]
  },
  {
   "cell_type": "code",
   "execution_count": 35,
   "metadata": {},
   "outputs": [],
   "source": [
    "#get a list and return list of factorial of each element in the list\n",
    "\n",
    "def factorial_return_list(func):\n",
    "    def wrapper(arg):\n",
    "        print('upside of wrapper')\n",
    "        result = func(arg)\n",
    "        #check the argument is list\n",
    "        if isinstance(result, list):\n",
    "            #stores the list after factorial\n",
    "            \n",
    "            total = []\n",
    "            for i in result:\n",
    "                def factorial(number):\n",
    "                    if number == 0:\n",
    "                        return 1\n",
    "                    else:\n",
    "                        return number * factorial(number - 1)\n",
    "                #call and append the factorial\n",
    "                total.append(factorial(i))\n",
    "            return total\n",
    "        else:\n",
    "            print('Not a list')\n",
    "            \n",
    "    return wrapper"
   ]
  },
  {
   "cell_type": "code",
   "execution_count": 36,
   "metadata": {},
   "outputs": [],
   "source": [
    "@factorial_return_list\n",
    "def get_fact_return_list(element):\n",
    "    return element"
   ]
  },
  {
   "cell_type": "code",
   "execution_count": 41,
   "metadata": {},
   "outputs": [
    {
     "name": "stdout",
     "output_type": "stream",
     "text": [
      "upside of wrapper\n"
     ]
    },
    {
     "data": {
      "text/plain": [
       "[1, 2, 6, 24, 120, 720, 5040, 40320, 362880, 3628800]"
      ]
     },
     "execution_count": 41,
     "metadata": {},
     "output_type": "execute_result"
    }
   ],
   "source": [
    "get_fact_return_list(l)"
   ]
  },
  {
   "cell_type": "code",
   "execution_count": 1,
   "metadata": {},
   "outputs": [],
   "source": [
    "def repeat(n):\n",
    "    def decorator(func):\n",
    "        def wrapper(*args, **kwargs):\n",
    "            for _ in range(n):\n",
    "                result = func(*args, **kwargs)\n",
    "            return result\n",
    "        return wrapper\n",
    "    return decorator\n",
    "        "
   ]
  },
  {
   "cell_type": "code",
   "execution_count": 4,
   "metadata": {},
   "outputs": [],
   "source": [
    "@repeat(3)\n",
    "def say_hello(name):\n",
    "    print(f'Hello {name}')"
   ]
  },
  {
   "cell_type": "code",
   "execution_count": 5,
   "metadata": {},
   "outputs": [
    {
     "name": "stdout",
     "output_type": "stream",
     "text": [
      "Hello Ranjeet\n",
      "Hello Ranjeet\n",
      "Hello Ranjeet\n"
     ]
    }
   ],
   "source": [
    "say_hello('Ranjeet')"
   ]
  }
 ],
 "metadata": {
  "kernelspec": {
   "display_name": "base",
   "language": "python",
   "name": "python3"
  },
  "language_info": {
   "codemirror_mode": {
    "name": "ipython",
    "version": 3
   },
   "file_extension": ".py",
   "mimetype": "text/x-python",
   "name": "python",
   "nbconvert_exporter": "python",
   "pygments_lexer": "ipython3",
   "version": "3.10.0"
  }
 },
 "nbformat": 4,
 "nbformat_minor": 2
}
