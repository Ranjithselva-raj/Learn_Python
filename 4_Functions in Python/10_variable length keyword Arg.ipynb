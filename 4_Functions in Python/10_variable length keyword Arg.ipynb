{
 "cells": [
  {
   "cell_type": "code",
   "execution_count": 6,
   "metadata": {},
   "outputs": [
    {
     "name": "stdout",
     "output_type": "stream",
     "text": [
      "product : shoes\n",
      "price : 1000\n"
     ]
    }
   ],
   "source": [
    "# variable length keyword argument in function always comes **kwargs\n",
    "\n",
    "def fun(**kwargs):\n",
    "    for key,value in kwargs.items():\n",
    "\n",
    "        print(f\"{key} : {value}\")\n",
    "\n",
    "\n",
    "fun(product=\"shoes\", price= 1000)\n",
    "\n",
    "\n",
    "\n"
   ]
  },
  {
   "cell_type": "code",
   "execution_count": 7,
   "metadata": {},
   "outputs": [
    {
     "name": "stdout",
     "output_type": "stream",
     "text": [
      "product : shoes\n",
      "price : 1000\n",
      "description : sneakers\n"
     ]
    }
   ],
   "source": [
    "fun(product=\"shoes\", price= 1000, description=\"sneakers\")"
   ]
  },
  {
   "cell_type": "code",
   "execution_count": null,
   "metadata": {},
   "outputs": [],
   "source": []
  }
 ],
 "metadata": {
  "kernelspec": {
   "display_name": "base",
   "language": "python",
   "name": "python3"
  },
  "language_info": {
   "codemirror_mode": {
    "name": "ipython",
    "version": 3
   },
   "file_extension": ".py",
   "mimetype": "text/x-python",
   "name": "python",
   "nbconvert_exporter": "python",
   "pygments_lexer": "ipython3",
   "version": "3.11.5"
  }
 },
 "nbformat": 4,
 "nbformat_minor": 2
}
