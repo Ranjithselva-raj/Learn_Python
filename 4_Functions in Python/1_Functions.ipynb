{
 "cells": [
  {
   "cell_type": "code",
   "execution_count": 4,
   "metadata": {},
   "outputs": [
    {
     "name": "stdout",
     "output_type": "stream",
     "text": [
      "Hi\n",
      "Hello\n",
      "Bye\n"
     ]
    }
   ],
   "source": [
    "#Functions\n",
    "def hello():\n",
    "    print(\"Hi\")\n",
    "    print(\"Hello\")\n",
    "    print(\"Bye\")\n",
    "\n",
    "hello()"
   ]
  },
  {
   "cell_type": "code",
   "execution_count": 7,
   "metadata": {},
   "outputs": [
    {
     "data": {
      "text/plain": [
       "12"
      ]
     },
     "execution_count": 7,
     "metadata": {},
     "output_type": "execute_result"
    }
   ],
   "source": [
    "#passing positional arguments to a function\n",
    "\n",
    "def add(a,b):\n",
    "    return a+b\n",
    "\n",
    "add(5,7)"
   ]
  },
  {
   "cell_type": "code",
   "execution_count": 9,
   "metadata": {},
   "outputs": [
    {
     "data": {
      "text/plain": [
       "'hello world'"
      ]
     },
     "execution_count": 9,
     "metadata": {},
     "output_type": "execute_result"
    }
   ],
   "source": [
    "add(\"hello \",\"world\")"
   ]
  },
  {
   "cell_type": "code",
   "execution_count": 10,
   "metadata": {},
   "outputs": [
    {
     "data": {
      "text/plain": [
       "5.0"
      ]
     },
     "execution_count": 10,
     "metadata": {},
     "output_type": "execute_result"
    }
   ],
   "source": [
    "#Keyword arguments \n",
    "\n",
    "def speed(distance,time):\n",
    "    return distance/time\n",
    "\n",
    "speed(10,2)\n"
   ]
  },
  {
   "cell_type": "code",
   "execution_count": 11,
   "metadata": {},
   "outputs": [
    {
     "data": {
      "text/plain": [
       "5.0"
      ]
     },
     "execution_count": 11,
     "metadata": {},
     "output_type": "execute_result"
    }
   ],
   "source": [
    "#key word arguments can be passed in any order\n",
    "speed(time=2,distance=10)\n"
   ]
  },
  {
   "cell_type": "code",
   "execution_count": 12,
   "metadata": {},
   "outputs": [
    {
     "data": {
      "text/plain": [
       "78.5"
      ]
     },
     "execution_count": 12,
     "metadata": {},
     "output_type": "execute_result"
    }
   ],
   "source": [
    "#default parameters\n",
    "#calculate area of a circle\n",
    "\n",
    "def area(pi,radius): #pi values is a default parameter and radius is a positional argument\n",
    "    return pi*radius*radius\n",
    "\n",
    "area(3.14,5)\n"
   ]
  },
  {
   "cell_type": "code",
   "execution_count": 13,
   "metadata": {},
   "outputs": [
    {
     "data": {
      "text/plain": [
       "78.5"
      ]
     },
     "execution_count": 13,
     "metadata": {},
     "output_type": "execute_result"
    }
   ],
   "source": [
    "#pi values is a default parameter and radius is a positional argument\n",
    "#positional arguments should come before default parameters\n",
    "\n",
    "def area(radius,pi=3.14): \n",
    "    return pi*radius*radius\n",
    "area(5)"
   ]
  },
  {
   "cell_type": "code",
   "execution_count": 14,
   "metadata": {},
   "outputs": [
    {
     "data": {
      "text/plain": [
       "78.75"
      ]
     },
     "execution_count": 14,
     "metadata": {},
     "output_type": "execute_result"
    }
   ],
   "source": [
    "#default parameters value can be overriden when we calling the function  \n",
    "\n",
    "def area(radius,pi=3.14): \n",
    "    return pi*radius*radius\n",
    "area(5,3.15)"
   ]
  },
  {
   "cell_type": "code",
   "execution_count": 2,
   "metadata": {},
   "outputs": [
    {
     "data": {
      "text/plain": [
       "628.0"
      ]
     },
     "execution_count": 2,
     "metadata": {},
     "output_type": "execute_result"
    }
   ],
   "source": [
    "#returning a value\n",
    "\n",
    "def area(radius,pi=3.14):\n",
    "    result = pi*radius*radius\n",
    "    return result\n",
    "def cost_of_painting(circle_area,cost_per_sqm):\n",
    "    result = circle_area*cost_per_sqm\n",
    "    return result\n",
    "calculated_area = area(int(input(\"Enter the radius of the circle: \")))\n",
    "total_cost = cost_of_painting(calculated_area,float(input(\"Enter the cost per square meter: \")))\n",
    "total_cost\n",
    "\n"
   ]
  },
  {
   "cell_type": "code",
   "execution_count": null,
   "metadata": {},
   "outputs": [],
   "source": []
  }
 ],
 "metadata": {
  "kernelspec": {
   "display_name": "base",
   "language": "python",
   "name": "python3"
  },
  "language_info": {
   "codemirror_mode": {
    "name": "ipython",
    "version": 3
   },
   "file_extension": ".py",
   "mimetype": "text/x-python",
   "name": "python",
   "nbconvert_exporter": "python",
   "pygments_lexer": "ipython3",
   "version": "3.11.5"
  }
 },
 "nbformat": 4,
 "nbformat_minor": 2
}
