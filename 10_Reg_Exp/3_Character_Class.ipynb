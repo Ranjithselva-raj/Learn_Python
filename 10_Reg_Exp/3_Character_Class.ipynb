{
 "cells": [
  {
   "cell_type": "markdown",
   "metadata": {},
   "source": [
    "[] Character class "
   ]
  },
  {
   "cell_type": "code",
   "execution_count": 9,
   "metadata": {},
   "outputs": [
    {
     "name": "stdout",
     "output_type": "stream",
     "text": [
      "Match not found\n"
     ]
    }
   ],
   "source": [
    "import re\n",
    "string = \"Python\" #this string is not matching with pattern as [p]ython\n",
    "pattern = r\"[p]ython\" \n",
    "if re.match(pattern, string):\n",
    "    print(\"Match found\")\n",
    "else:\n",
    "    print(\"Match not found\")"
   ]
  },
  {
   "cell_type": "code",
   "execution_count": 10,
   "metadata": {},
   "outputs": [
    {
     "name": "stdout",
     "output_type": "stream",
     "text": [
      "Match not found\n"
     ]
    }
   ],
   "source": [
    "string = \"Python\"\n",
    "pattern = r\"[p]ython\"\n",
    "if re.match(pattern, string):\n",
    "    print(\"Match found\")\n",
    "else:\n",
    "    print(\"Match not found\")"
   ]
  },
  {
   "cell_type": "code",
   "execution_count": 12,
   "metadata": {},
   "outputs": [
    {
     "name": "stdout",
     "output_type": "stream",
     "text": [
      "Match found\n"
     ]
    }
   ],
   "source": [
    "string = \"Python\"\n",
    "pattern = r\"[Pp]ython\"\n",
    "if re.match(pattern, string):\n",
    "    print(\"Match found\")\n",
    "else:\n",
    "    print(\"Match not found\")"
   ]
  },
  {
   "cell_type": "code",
   "execution_count": 13,
   "metadata": {},
   "outputs": [
    {
     "name": "stdout",
     "output_type": "stream",
     "text": [
      "Match found\n"
     ]
    }
   ],
   "source": [
    "string = \"PasdYfdgd\"\n",
    "pattern = r\"[a-zA-Z]\" #this will match all the alphabets from a to z and A to Z\n",
    "if re.match(pattern, string):\n",
    "    print(\"Match found\")\n",
    "else:\n",
    "    print(\"Match not found\")"
   ]
  }
 ],
 "metadata": {
  "kernelspec": {
   "display_name": "base",
   "language": "python",
   "name": "python3"
  },
  "language_info": {
   "codemirror_mode": {
    "name": "ipython",
    "version": 3
   },
   "file_extension": ".py",
   "mimetype": "text/x-python",
   "name": "python",
   "nbconvert_exporter": "python",
   "pygments_lexer": "ipython3",
   "version": "3.11.5"
  }
 },
 "nbformat": 4,
 "nbformat_minor": 2
}
