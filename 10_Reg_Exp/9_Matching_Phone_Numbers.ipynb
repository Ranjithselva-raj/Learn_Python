{
 "cells": [
  {
   "cell_type": "code",
   "execution_count": 1,
   "metadata": {},
   "outputs": [],
   "source": [
    "import re"
   ]
  },
  {
   "cell_type": "code",
   "execution_count": 14,
   "metadata": {},
   "outputs": [
    {
     "name": "stdout",
     "output_type": "stream",
     "text": [
      "['+91-123 456-7890', '+123 (123)-456-7890']\n"
     ]
    }
   ],
   "source": [
    "text = \"My phone number is +91-123 456-7890 or via my email at 9vz5t@example.com +123 (123)-456-7890\"\n",
    "\n",
    "pattern = r\"\\+?\\d{1,3}[-.\\s]?\\(?\\d{3}\\)?[-.\\s]?\\d{3}[-.\\s]?\\d{4}\"\n",
    "#\\s is a white space\n",
    "#\\d is a digit\n",
    "#? is optional\n",
    "#[] is class of characters to match\n",
    "matches = re.findall(pattern, text)\n",
    "\n",
    "print(matches)"
   ]
  }
 ],
 "metadata": {
  "kernelspec": {
   "display_name": "base",
   "language": "python",
   "name": "python3"
  },
  "language_info": {
   "codemirror_mode": {
    "name": "ipython",
    "version": 3
   },
   "file_extension": ".py",
   "mimetype": "text/x-python",
   "name": "python",
   "nbconvert_exporter": "python",
   "pygments_lexer": "ipython3",
   "version": "3.11.5"
  }
 },
 "nbformat": 4,
 "nbformat_minor": 2
}
