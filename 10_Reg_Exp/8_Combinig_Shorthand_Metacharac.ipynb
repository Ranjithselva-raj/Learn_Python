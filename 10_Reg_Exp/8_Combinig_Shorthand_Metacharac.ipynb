{
 "cells": [
  {
   "cell_type": "markdown",
   "metadata": {},
   "source": [
    "Combining Shorthand and Metacharacters"
   ]
  },
  {
   "cell_type": "code",
   "execution_count": 3,
   "metadata": {},
   "outputs": [
    {
     "name": "stdout",
     "output_type": "stream",
     "text": [
      "['Hellooooooooooo', 'python', 'awesomeeeeeeeeeee']\n"
     ]
    }
   ],
   "source": [
    "import re\n",
    "text = \"Hellooooooooooo, python is awesomeeeeeeeeeee\"\n",
    "#pattern = r\"alphanum o alphanum\"\n",
    "pattern = r\"\\w*o+\\w*\"\n",
    "#\\w : Matches zero or more alphanumeric characters\n",
    "#o+ : Matches one or more occurrences of letter o\n",
    "#\\w : Matches zero or more alphanumeric characters\n",
    "x = re.findall(pattern,text)\n",
    "print(x)\n",
    "\n",
    "#o \n",
    "#ao\n",
    "#aoo\n",
    "#aoooob\n"
   ]
  }
 ],
 "metadata": {
  "kernelspec": {
   "display_name": "base",
   "language": "python",
   "name": "python3"
  },
  "language_info": {
   "codemirror_mode": {
    "name": "ipython",
    "version": 3
   },
   "file_extension": ".py",
   "mimetype": "text/x-python",
   "name": "python",
   "nbconvert_exporter": "python",
   "pygments_lexer": "ipython3",
   "version": "3.11.5"
  }
 },
 "nbformat": 4,
 "nbformat_minor": 2
}
