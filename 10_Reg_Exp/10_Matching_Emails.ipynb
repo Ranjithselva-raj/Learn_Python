{
 "cells": [
  {
   "cell_type": "code",
   "execution_count": 14,
   "metadata": {},
   "outputs": [],
   "source": [
    "text =\"\"\"Last week, I reached out to several contacts for our upcoming project. I first emailed Alex at alex.jordan@example.com to discuss the marketing\n",
    "strategy. Then, I contacted Jamie from the design team at jamie.lee@exampledesign.co to finalize the visuals. Meanwhile, Chris, our tech lead,\n",
    "provided valuable insights via chris.techguru@innovatech.exa about the software integration. For project resources, I found a great supplier \n",
    "recommended in an industry newsletter; you can reach them at supplies@resourcehub.example.net. Lastly, for team collaboration and updates, \n",
    "we're all using the platform hosted at teamwork.platform@gmail.orga, which has significantly streamlined our communication.\"\"\""
   ]
  },
  {
   "cell_type": "code",
   "execution_count": 22,
   "metadata": {},
   "outputs": [
    {
     "name": "stdout",
     "output_type": "stream",
     "text": [
      "['alex.jordan@example.com', 'jamie.lee@exampledesign.co', 'chris.techguru@innovatech.exa', 'supplies@resourcehub.example.net', 'teamwork.platform@gmail.orga']\n"
     ]
    }
   ],
   "source": [
    "import re\n",
    "#jamie.lee@exampledesign.co\n",
    "\n",
    "pattern = r\"\\b[\\w._%-]+\\@[\\w._%-]+\\.[a-z]{2,4}\\b\"\n",
    "pattern2 = r\"\\b[\\w._%-]+\\@[gmail]+\\.[a-z]{2,}\\b\"\n",
    "\n",
    "#\\w = alphanumeric\n",
    "#{2,4} = min 2 and max 4\n",
    "\n",
    "matches = re.findall(pattern, text)\n",
    "\n",
    "print(matches)"
   ]
  },
  {
   "cell_type": "code",
   "execution_count": 26,
   "metadata": {},
   "outputs": [
    {
     "name": "stdout",
     "output_type": "stream",
     "text": [
      "demo@demo@gmail.com is Invalid Email\n"
     ]
    }
   ],
   "source": [
    "import re\n",
    "\n",
    "text1 = input(\"Enter Email: \")\n",
    "pattern2 = r\"\\b[\\w._%-]+\\@[gmail]+\\.[a-z]{2,}\\b\"\n",
    "\n",
    "if re.match(pattern2, text1):\n",
    "    print(f\"{text1} is Valid Email\")\n",
    "\n",
    "else:\n",
    "    print(f\"{text1} is Invalid Email\")\n"
   ]
  },
  {
   "cell_type": "code",
   "execution_count": 27,
   "metadata": {},
   "outputs": [],
   "source": [
    "word1 = \"abc\"\n",
    "word2 = \"pqr\""
   ]
  },
  {
   "cell_type": "code",
   "execution_count": 45,
   "metadata": {},
   "outputs": [],
   "source": [
    "class Solution:\n",
    "    def merge(self,word1, word2):\n",
    "        result =[]\n",
    "        i=0\n",
    "        while i<len(word1) or i<len(word2):\n",
    "            if i<len(word1):\n",
    "                result.append(word1[i])\n",
    "            if i<len(word2):\n",
    "                result.append(word2[i])\n",
    "            i+=1\n",
    "\n",
    "        return result\n",
    "sol = Solution()       \n"
   ]
  },
  {
   "cell_type": "code",
   "execution_count": 46,
   "metadata": {},
   "outputs": [
    {
     "data": {
      "text/plain": [
       "['a', 'p', 'b', 'q', 'c', 'r']"
      ]
     },
     "execution_count": 46,
     "metadata": {},
     "output_type": "execute_result"
    }
   ],
   "source": [
    "sol.merge(word1, word2)"
   ]
  }
 ],
 "metadata": {
  "kernelspec": {
   "display_name": "base",
   "language": "python",
   "name": "python3"
  },
  "language_info": {
   "codemirror_mode": {
    "name": "ipython",
    "version": 3
   },
   "file_extension": ".py",
   "mimetype": "text/x-python",
   "name": "python",
   "nbconvert_exporter": "python",
   "pygments_lexer": "ipython3",
   "version": "3.11.5"
  }
 },
 "nbformat": 4,
 "nbformat_minor": 2
}
