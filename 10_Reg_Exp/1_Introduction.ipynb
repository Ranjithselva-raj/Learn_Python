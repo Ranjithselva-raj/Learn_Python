{
 "cells": [
  {
   "cell_type": "markdown",
   "metadata": {},
   "source": [
    "Regular Expressions in python\n",
    "\n",
    "Is a sequence of characters that defined a search pattern"
   ]
  },
  {
   "cell_type": "code",
   "execution_count": 2,
   "metadata": {},
   "outputs": [],
   "source": [
    "rec= \"\"\"Last week, I reached out to several contacts for our upcoming project. I first emailed Alex at alex.jordan@example.com to discuss the marketing\n",
    "strategy. Then, I contacted Jamie from the design team at jamie.lee@exampledesign.co to finalize the visuals. Meanwhile, Chris, our tech lead,\n",
    "provided valuable insights via chris.techguru@innovatech.example about the software integration. For project resources, I found a great supplier \n",
    "recommended in an industry newsletter; you can reach them at supplies@resourcehub.example.net. Lastly, for team collaboration and updates, \n",
    "we're all using the platform hosted at teamwork.platform@example.org, which has significantly streamlined our communication.\"\"\""
   ]
  },
  {
   "cell_type": "code",
   "execution_count": 1,
   "metadata": {},
   "outputs": [],
   "source": [
    "import re"
   ]
  },
  {
   "cell_type": "markdown",
   "metadata": {},
   "source": [
    "Matches and searches"
   ]
  },
  {
   "cell_type": "code",
   "execution_count": 18,
   "metadata": {},
   "outputs": [
    {
     "name": "stdout",
     "output_type": "stream",
     "text": [
      "Match found\n"
     ]
    }
   ],
   "source": [
    "pattern = \"L\"\n",
    "#match function matches the pattern at the beginning of the string\n",
    "if re.match(pattern, rec):\n",
    "    print(\"Match found\")\n",
    "else:\n",
    "    print(\"Match not found\")"
   ]
  },
  {
   "cell_type": "code",
   "execution_count": 20,
   "metadata": {},
   "outputs": [
    {
     "name": "stdout",
     "output_type": "stream",
     "text": [
      "Match found\n"
     ]
    }
   ],
   "source": [
    "pattern1= \"week\"\n",
    "\n",
    "#search function matches the pattern anywhere in the string\n",
    "if re.search(pattern1, rec):\n",
    "    print(\"Match found\")\n",
    "else:\n",
    "    print(\"Match not found\")"
   ]
  },
  {
   "cell_type": "code",
   "execution_count": null,
   "metadata": {},
   "outputs": [],
   "source": []
  }
 ],
 "metadata": {
  "kernelspec": {
   "display_name": "base",
   "language": "python",
   "name": "python3"
  },
  "language_info": {
   "codemirror_mode": {
    "name": "ipython",
    "version": 3
   },
   "file_extension": ".py",
   "mimetype": "text/x-python",
   "name": "python",
   "nbconvert_exporter": "python",
   "pygments_lexer": "ipython3",
   "version": "3.11.5"
  }
 },
 "nbformat": 4,
 "nbformat_minor": 2
}
