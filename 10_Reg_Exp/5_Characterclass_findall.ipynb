{
 "cells": [
  {
   "cell_type": "markdown",
   "metadata": {},
   "source": [
    "Character class and find all"
   ]
  },
  {
   "cell_type": "code",
   "execution_count": 1,
   "metadata": {},
   "outputs": [],
   "source": [
    "import re\n",
    "rec= \"\"\"Last week, I reached out to several contacts for our upcoming project. I first emailed Alex at alex.jordan@example.com to discuss the marketing\n",
    "strategy. Then, I contacted Jamie from the design team at jamie.lee@exampledesign.co to finalize the visuals. Meanwhile, Chris, our tech lead,\n",
    "provided valuable insights via chris.techguru@innovatech.example about the software integration. For project resources, I found a great supplier \n",
    "recommended in an industry newsletter; you can reach them at supplies@resourcehub.example.net. Lastly, for team collaboration and updates, \n",
    "we're all using the platform hosted at teamwork.platform@example.org, which has significantly streamlined our communication.\"\"\""
   ]
  },
  {
   "cell_type": "code",
   "execution_count": 11,
   "metadata": {},
   "outputs": [
    {
     "name": "stdout",
     "output_type": "stream",
     "text": [
      "['the', 'the', 'the', 'the', 'the', 'the']\n"
     ]
    }
   ],
   "source": [
    "pattern =r\"the\"\n",
    "matches =re.findall(pattern,rec)\n",
    "print(matches)"
   ]
  },
  {
   "cell_type": "code",
   "execution_count": 9,
   "metadata": {},
   "outputs": [
    {
     "name": "stdout",
     "output_type": "stream",
     "text": [
      "['z']\n"
     ]
    }
   ],
   "source": [
    "pattern =r\"[zZ]\"\n",
    "matches =re.findall(pattern,rec)\n",
    "print(matches)"
   ]
  },
  {
   "cell_type": "code",
   "execution_count": 19,
   "metadata": {},
   "outputs": [
    {
     "name": "stdout",
     "output_type": "stream",
     "text": [
      "['L', 'I', 'I', 'A', 'T', 'I', 'J', 'M', 'C', 'F', 'I', 'L']\n"
     ]
    }
   ],
   "source": [
    "pattern =r\"[A-Z]\"\n",
    "matches =re.findall(pattern,rec)\n",
    "print(matches)"
   ]
  },
  {
   "cell_type": "markdown",
   "metadata": {},
   "source": [
    "Finding Vowels"
   ]
  },
  {
   "cell_type": "code",
   "execution_count": null,
   "metadata": {},
   "outputs": [],
   "source": [
    "pattern =r\"[A-Z]\"\n",
    "matches =re.findall(pattern,rec)\n",
    "print(matches)"
   ]
  }
 ],
 "metadata": {
  "kernelspec": {
   "display_name": "base",
   "language": "python",
   "name": "python3"
  },
  "language_info": {
   "codemirror_mode": {
    "name": "ipython",
    "version": 3
   },
   "file_extension": ".py",
   "mimetype": "text/x-python",
   "name": "python",
   "nbconvert_exporter": "python",
   "pygments_lexer": "ipython3",
   "version": "3.11.5"
  }
 },
 "nbformat": 4,
 "nbformat_minor": 2
}
