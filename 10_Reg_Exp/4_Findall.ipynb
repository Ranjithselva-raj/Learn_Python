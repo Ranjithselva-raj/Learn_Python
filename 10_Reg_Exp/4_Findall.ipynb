{
 "cells": [
  {
   "cell_type": "code",
   "execution_count": 1,
   "metadata": {},
   "outputs": [],
   "source": [
    "import re\n",
    "rec= \"\"\"Last week, I reached out to several contacts for our upcoming project. I first emailed Alex at alex.jordan@example.com to discuss the marketing\n",
    "strategy. Then, I contacted Jamie from the design team at jamie.lee@exampledesign.co to finalize the visuals. Meanwhile, Chris, our tech lead,\n",
    "provided valuable insights via chris.techguru@innovatech.example about the software integration. For project resources, I found a great supplier \n",
    "recommended in an industry newsletter; you can reach them at supplies@resourcehub.example.net. Lastly, for team collaboration and updates, \n",
    "we're all using the platform hosted at teamwork.platform@example.org, which has significantly streamlined our communication.\"\"\""
   ]
  },
  {
   "cell_type": "code",
   "execution_count": 2,
   "metadata": {},
   "outputs": [
    {
     "name": "stdout",
     "output_type": "stream",
     "text": [
      "['the', 'the', 'the', 'the', 'the', 'the']\n"
     ]
    }
   ],
   "source": [
    "pattern =r\"the\"\n",
    "matches =re.findall(pattern,rec)\n",
    "print(matches)"
   ]
  },
  {
   "cell_type": "code",
   "execution_count": 6,
   "metadata": {},
   "outputs": [],
   "source": [
    "import pandas as pd\n",
    "import numpy as np\n",
    "from datetime import datetime, timedelta\n",
    "import openpyxl\n",
    "\n",
    "# Function to generate the data frame for a given month and year\n",
    "def generate_monthly_table(year, month):\n",
    "    # Generate the date range for the entire month\n",
    "    start_date = datetime(year, month, 1)\n",
    "    if month == 12:\n",
    "        end_date = datetime(year + 1, 1, 1) - timedelta(days=1)\n",
    "    else:\n",
    "        end_date = datetime(year, month + 1, 1) - timedelta(days=1)\n",
    "    \n",
    "    date_range = pd.date_range(start=start_date, end=end_date)\n",
    "\n",
    "    # Generate week number based on the date\n",
    "    week_numbers = date_range.to_series().apply(lambda x: f'{(x.day - 1) // 7 + 1}st Week' if x.day <= 7 else\n",
    "                                                         (f'{(x.day - 1) // 7 + 1}nd Week' if x.day <= 14 else\n",
    "                                                          (f'{(x.day - 1) // 7 + 1}rd Week' if x.day <= 21 else\n",
    "                                                           f'{(x.day - 1) // 7 + 1}th Week')))\n",
    "\n",
    "    # Create the DataFrame\n",
    "    df = pd.DataFrame({\n",
    "        'Date': date_range.strftime('%d-%m-%Y'),\n",
    "        'Week': week_numbers,\n",
    "        'Vicky': np.nan,\n",
    "        'Selva': np.nan,\n",
    "        'Total': np.nan\n",
    "    })\n",
    "\n",
    "    # Setting the 'Week' as index\n",
    "    df.set_index(['Week', 'Date'], inplace=True)\n",
    "    \n",
    "    return df\n",
    "\n",
    "# Generate the table for September 2024\n",
    "september_table = generate_monthly_table(2024, 9)\n",
    "september_table.reset_index(inplace=True)\n",
    "\n",
    "september_table.to_excel('C:\\\\Users\\\\ranje\\\\OneDrive\\\\Selva&VIcky\\\\Ground_calc_month_wise\\\\september_table1.xlsx', index=False)"
   ]
  }
 ],
 "metadata": {
  "kernelspec": {
   "display_name": "base",
   "language": "python",
   "name": "python3"
  },
  "language_info": {
   "codemirror_mode": {
    "name": "ipython",
    "version": 3
   },
   "file_extension": ".py",
   "mimetype": "text/x-python",
   "name": "python",
   "nbconvert_exporter": "python",
   "pygments_lexer": "ipython3",
   "version": "3.10.0"
  }
 },
 "nbformat": 4,
 "nbformat_minor": 2
}
