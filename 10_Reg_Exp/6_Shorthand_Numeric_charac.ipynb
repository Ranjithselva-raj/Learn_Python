{
 "cells": [
  {
   "cell_type": "markdown",
   "metadata": {},
   "source": [
    "Shorthand characters for numeric"
   ]
  },
  {
   "cell_type": "code",
   "execution_count": 9,
   "metadata": {},
   "outputs": [],
   "source": [
    "import re\n",
    "rec= \"\"\"Last week, I reached out to several contacts for our upcoming project. I first emailed Alex at alex.jordan@example.com to 9 discuss the marketing\n",
    "strategy. Then, I contacted Jamie from the design team at jamie.lee@exampledesign.co to finalize the visuals. Meanwhile, Chris, our tech lead,\n",
    "provided valuable insights via chris.techguru@innovatech.example about the software integration. For project resources, I found a great supplier \n",
    "recommended in an industry newsletter; you can reach them at supplies@resourcehub.example.net. Lastly, for team collaboration and updates, \n",
    "we're all using the platform hosted at teamwork.platform@example.org, which has 200 significantly streamlined our communication.\"\"\""
   ]
  },
  {
   "cell_type": "code",
   "execution_count": 10,
   "metadata": {},
   "outputs": [
    {
     "name": "stdout",
     "output_type": "stream",
     "text": [
      "['9', '2', '0', '0']\n"
     ]
    }
   ],
   "source": [
    "pattern =r\"[0-9]\" # Normal way\n",
    "matches =re.findall(pattern,rec)\n",
    "print(matches)"
   ]
  },
  {
   "cell_type": "code",
   "execution_count": 15,
   "metadata": {},
   "outputs": [
    {
     "name": "stdout",
     "output_type": "stream",
     "text": [
      "['9', '2', '0', '0']\n"
     ]
    }
   ],
   "source": [
    "pattern =r\"\\d\" # Shorthand way for lower case d numeric\n",
    "matches =re.findall(pattern,rec)\n",
    "print(matches)"
   ]
  },
  {
   "cell_type": "code",
   "execution_count": 17,
   "metadata": {},
   "outputs": [
    {
     "name": "stdout",
     "output_type": "stream",
     "text": [
      "L a s t   w e e k ,   I   r e a c h e d   o u t   t o   s e v e r a l   c o n t a c t s   f o r   o u r   u p c o m i n g   p r o j e c t .   I   f i r s t   e m a i l e d   A l e x   a t   a l e x . j o r d a n @ e x a m p l e . c o m   t o     d i s c u s s   t h e   m a r k e t i n g \n",
      " s t r a t e g y .   T h e n ,   I   c o n t a c t e d   J a m i e   f r o m   t h e   d e s i g n   t e a m   a t   j a m i e . l e e @ e x a m p l e d e s i g n . c o   t o   f i n a l i z e   t h e   v i s u a l s .   M e a n w h i l e ,   C h r i s ,   o u r   t e c h   l e a d , \n",
      " p r o v i d e d   v a l u a b l e   i n s i g h t s   v i a   c h r i s . t e c h g u r u @ i n n o v a t e c h . e x a m p l e   a b o u t   t h e   s o f t w a r e   i n t e g r a t i o n .   F o r   p r o j e c t   r e s o u r c e s ,   I   f o u n d   a   g r e a t   s u p p l i e r   \n",
      " r e c o m m e n d e d   i n   a n   i n d u s t r y   n e w s l e t t e r ;   y o u   c a n   r e a c h   t h e m   a t   s u p p l i e s @ r e s o u r c e h u b . e x a m p l e . n e t .   L a s t l y ,   f o r   t e a m   c o l l a b o r a t i o n   a n d   u p d a t e s ,   \n",
      " w e ' r e   a l l   u s i n g   t h e   p l a t f o r m   h o s t e d   a t   t e a m w o r k . p l a t f o r m @ e x a m p l e . o r g ,   w h i c h   h a s     s i g n i f i c a n t l y   s t r e a m l i n e d   o u r   c o m m u n i c a t i o n .\n"
     ]
    }
   ],
   "source": [
    "pattern =r\"\\D\" # Shorthand way upper case D non-numeric\n",
    "matches =re.findall(pattern,rec)\n",
    "print(str.join(\" \",matches))"
   ]
  }
 ],
 "metadata": {
  "kernelspec": {
   "display_name": "base",
   "language": "python",
   "name": "python3"
  },
  "language_info": {
   "codemirror_mode": {
    "name": "ipython",
    "version": 3
   },
   "file_extension": ".py",
   "mimetype": "text/x-python",
   "name": "python",
   "nbconvert_exporter": "python",
   "pygments_lexer": "ipython3",
   "version": "3.11.5"
  }
 },
 "nbformat": 4,
 "nbformat_minor": 2
}
