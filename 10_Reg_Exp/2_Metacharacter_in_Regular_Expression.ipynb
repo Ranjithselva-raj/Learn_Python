{
 "cells": [
  {
   "cell_type": "markdown",
   "metadata": {},
   "source": [
    "Meta Characters \n",
    "\n",
    "Its a special set of characters which dont match themselves instead they create some pattern which should be matched\n",
    "\n",
    "Metacharacters :  *,+,{...}, . , ? , ^ ,"
   ]
  },
  {
   "cell_type": "markdown",
   "metadata": {},
   "source": [
    "Star Metacharacter in Regular Expression\n",
    "\n",
    "* makes sure that a particular character preceding it is present 0 or more times "
   ]
  },
  {
   "cell_type": "code",
   "execution_count": 11,
   "metadata": {},
   "outputs": [
    {
     "name": "stdout",
     "output_type": "stream",
     "text": [
      "Match found\n"
     ]
    }
   ],
   "source": [
    "import re\n",
    "\n",
    "string1 = \"Ranjittth Selva\" #this will match because t can present as many number of times as possible\n",
    "string2 = \"Ranjit Selva\" #this will not match because after t h is not present\n",
    "string3 = \"Ranjih Selva\" #this will match because t not need to present because of *\n",
    "pattern = r\"Ranjit*h Selva\"\n",
    "if re.match(pattern, string3):\n",
    "    print(\"Match found\")\n",
    "else:\n",
    "    print(\"Match not found\")"
   ]
  },
  {
   "cell_type": "markdown",
   "metadata": {},
   "source": [
    "+ Plus Metacharacter\n",
    "\n",
    "+ makes sure that a particular character preceding it must be present at least one time or more than one time\n"
   ]
  },
  {
   "cell_type": "code",
   "execution_count": 14,
   "metadata": {},
   "outputs": [
    {
     "name": "stdout",
     "output_type": "stream",
     "text": [
      "Match found\n"
     ]
    }
   ],
   "source": [
    "string3 = \"Ranjih Selva\" #this will not match beacuase t is not present in the string\n",
    "string2 = \"Ranjitttttth Selva\" #this will match because t can present as many number of times as possible because of + metacharacter\n",
    "pattern = r\"Ranjit+h Selva\"\n",
    "if re.match(pattern, string2):\n",
    "    print(\"Match found\")\n",
    "else:\n",
    "    print(\"Match not found\")"
   ]
  },
  {
   "cell_type": "markdown",
   "metadata": {},
   "source": [
    "Curly Braces {..} \n",
    "\n",
    "if you want to repeat a particular character at least x times.\n",
    "\n",
    "A curly brace, tells the computer to repeat the preceding character, as many number of times as the value inside the bracket.\n",
    "\n"
   ]
  },
  {
   "cell_type": "code",
   "execution_count": 23,
   "metadata": {},
   "outputs": [
    {
     "name": "stdout",
     "output_type": "stream",
     "text": [
      "Match not found\n"
     ]
    }
   ],
   "source": [
    "string1 = \"Ranjittth Selva\"#this string will match because t is present three times so pattern not matched \n",
    "string2 = \"Ranjitth Selva\"# this string will match because t is present two times so pattern matched \n",
    "pattern = r\"Ranjit{2}h Selva\"\n",
    "if re.match(pattern, string1):\n",
    "    print(\"Match found\")\n",
    "else:\n",
    "    print(\"Match not found\")"
   ]
  },
  {
   "cell_type": "markdown",
   "metadata": {},
   "source": [
    ". Wildcard metacharacter : (.)\n",
    "\n",
    "It states that the . symbol can take place of any other symbol"
   ]
  },
  {
   "cell_type": "code",
   "execution_count": 31,
   "metadata": {},
   "outputs": [
    {
     "name": "stdout",
     "output_type": "stream",
     "text": [
      "Match found\n"
     ]
    }
   ],
   "source": [
    "\n",
    "string1 =\"ab\" #this string will not match because between a and b there is no character\n",
    "string = \"adb\" #this string matches because between a and b there is one more character\n",
    "string2= \"acbb\" #this string matches because between a and b there is one more character\n",
    "pattern = r\"a.b\"\n",
    "if re.match(pattern, string2):\n",
    "    print(\"Match found\")\n",
    "else:\n",
    "    print(\"Match not found\")"
   ]
  },
  {
   "cell_type": "markdown",
   "metadata": {},
   "source": [
    "? The Optional metacharacter\n",
    "\n",
    "The character preceding ? is optional, i.e it may or may not be present"
   ]
  },
  {
   "cell_type": "code",
   "execution_count": 46,
   "metadata": {},
   "outputs": [
    {
     "name": "stdout",
     "output_type": "stream",
     "text": [
      "Match found\n"
     ]
    }
   ],
   "source": [
    "\n",
    "string1 =\"abc\" #this string will match because c is optional\n",
    "string =\"ab\" #this string will match because c is optional\n",
    "\n",
    "pattern = r\"abc?\"\n",
    "if re.match(pattern, string2):\n",
    "    print(\"Match found\")\n",
    "else:\n",
    "    print(\"Match not found\")"
   ]
  },
  {
   "cell_type": "code",
   "execution_count": 54,
   "metadata": {},
   "outputs": [
    {
     "name": "stdout",
     "output_type": "stream",
     "text": [
      "Match not found\n"
     ]
    }
   ],
   "source": [
    "string_1= \"pythonfil\" # this will not match string e is not present \n",
    "string=\"python file\" #this will match because space is optional\n",
    "pattern = r\"python-? ?file\"\n",
    "if re.match(pattern, string_1):\n",
    "    print(\"Match found\")\n",
    "else:\n",
    "    print(\"Match not found\")"
   ]
  },
  {
   "cell_type": "markdown",
   "metadata": {},
   "source": [
    "^ Caret Metacharacter"
   ]
  },
  {
   "cell_type": "code",
   "execution_count": 67,
   "metadata": {},
   "outputs": [
    {
     "name": "stdout",
     "output_type": "stream",
     "text": [
      "Match not found\n"
     ]
    }
   ],
   "source": [
    "string_2= \"458888888888\" #this will not match because 44 pattern is not present in start of the string\n",
    "string =\"448888888888\" #this will not match because 44 pattern is present in start of the string\n",
    "pattern = r\"^44\"\n",
    "if re.match(pattern, string_2):\n",
    "    print(\"Match found\")\n",
    "else:\n",
    "    print(\"Match not found\")"
   ]
  },
  {
   "cell_type": "code",
   "execution_count": 69,
   "metadata": {},
   "outputs": [
    {
     "name": "stdout",
     "output_type": "stream",
     "text": [
      "Match not found\n"
     ]
    }
   ],
   "source": [
    "string_2= \"argav\" #this will not match because ra pattern is not present in start of the string\n",
    "string =\"ragav\" #this will not match because ra pattern is present in start of the string\n",
    "pattern = r\"^ra\"\n",
    "if re.match(pattern, string_2):\n",
    "    print(\"Match found\")\n",
    "else:\n",
    "    print(\"Match not found\")"
   ]
  }
 ],
 "metadata": {
  "kernelspec": {
   "display_name": "base",
   "language": "python",
   "name": "python3"
  },
  "language_info": {
   "codemirror_mode": {
    "name": "ipython",
    "version": 3
   },
   "file_extension": ".py",
   "mimetype": "text/x-python",
   "name": "python",
   "nbconvert_exporter": "python",
   "pygments_lexer": "ipython3",
   "version": "3.11.5"
  }
 },
 "nbformat": 4,
 "nbformat_minor": 2
}
