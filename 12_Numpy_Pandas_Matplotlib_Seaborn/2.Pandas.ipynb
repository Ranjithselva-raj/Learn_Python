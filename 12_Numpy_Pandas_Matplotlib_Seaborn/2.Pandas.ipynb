{
 "cells": [
  {
   "cell_type": "markdown",
   "metadata": {},
   "source": [
    "Pandas-DataFrame and Series\n",
    "\n",
    "Pandas is powerfull data manipulation library in python, widely used for data analysis and data cleaning. It Provides two primary data structures: Series and DataFrame. A Series is a one-dimensional array-like object, while a DataFrame is a two-dimensional, size-mutable, and potentially hetrogeneous tabular data structure with labled axes(rows and columns)."
   ]
  },
  {
   "cell_type": "code",
   "execution_count": null,
   "metadata": {},
   "outputs": [],
   "source": []
  }
 ],
 "metadata": {
  "language_info": {
   "name": "python"
  }
 },
 "nbformat": 4,
 "nbformat_minor": 2
}
