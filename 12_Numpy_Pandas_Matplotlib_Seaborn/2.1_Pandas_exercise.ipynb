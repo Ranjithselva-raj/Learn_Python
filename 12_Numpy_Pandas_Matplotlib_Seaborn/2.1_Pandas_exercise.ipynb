{
 "cells": [
  {
   "cell_type": "markdown",
   "metadata": {},
   "source": [
    "# Module: Pandas Exercise\n",
    "### 1: DataFrame Creation and Indexing\n",
    "\n",
    "1. Create a Pandas DataFrame with 4 columns and 6 rows filled with random integers. Set the index to be the first column."
   ]
  },
  {
   "cell_type": "code",
   "execution_count": 1,
   "metadata": {},
   "outputs": [],
   "source": [
    "import pandas as pd\n",
    "import numpy as np"
   ]
  },
  {
   "cell_type": "code",
   "execution_count": 2,
   "metadata": {},
   "outputs": [
    {
     "name": "stdout",
     "output_type": "stream",
     "text": [
      "Original DataFrame\n",
      "     A   B   C   D\n",
      "0   2   2   6   5\n",
      "1   7   9   9   5\n",
      "2   5   8   2  10\n",
      "3  13  10   8   9\n",
      "4  15   6  15   4\n",
      "5   7   5   9   9\n",
      "DataFrame with new index\n",
      "      B   C   D\n",
      "A             \n",
      "2    2   6   5\n",
      "7    9   9   5\n",
      "5    8   2  10\n",
      "13  10   8   9\n",
      "15   6  15   4\n",
      "7    5   9   9\n"
     ]
    }
   ],
   "source": [
    "data =pd.DataFrame(np.random.randint(1,16, size=(6, 4)), columns=['A', 'B', 'C', 'D'])\n",
    "print(\"Original DataFrame\\n\",data)\n",
    "\n",
    "#Set the index to be the first column.\n",
    "data.set_index('A', inplace=True)\n",
    "print(\"DataFrame with new index\\n\",data)"
   ]
  },
  {
   "cell_type": "markdown",
   "metadata": {},
   "source": [
    "2. Create a Pandas DataFrame with columns 'A', 'B', 'C' and index 'X', 'Y', 'Z'. Fill the DataFrame with random integers and access the element at row 'Y' and column 'B'."
   ]
  },
  {
   "cell_type": "code",
   "execution_count": 5,
   "metadata": {},
   "outputs": [
    {
     "name": "stdout",
     "output_type": "stream",
     "text": [
      "Original DataFrame\n",
      "     A   B   C\n",
      "X  12   8  14\n",
      "Y   6  12   9\n",
      "Z  14  13   4\n",
      "\n",
      "Element at row 'Y' and column 'B'\n",
      " 12\n"
     ]
    }
   ],
   "source": [
    "array =pd.DataFrame(np.random.randint(1,16, size =(3,3)),columns=['A', 'B', 'C'],index=['X', 'Y', 'Z'])\n",
    "print(\"Original DataFrame\\n\",array)\n",
    "\n",
    "#access the element at row 'Y' and column 'B'\n",
    "element = array.at['Y', 'B']\n",
    "print(\"\\nElement at row 'Y' and column 'B'\\n\",element)"
   ]
  },
  {
   "cell_type": "markdown",
   "metadata": {},
   "source": [
    "### 2: DataFrame Operations\n",
    "\n",
    "1. Create a Pandas DataFrame with 3 columns and 5 rows filled with random integers. Add a new column that is the product of the first two columns."
   ]
  },
  {
   "cell_type": "code",
   "execution_count": 6,
   "metadata": {},
   "outputs": [
    {
     "name": "stdout",
     "output_type": "stream",
     "text": [
      "Original DataFrame\n",
      "    A   B   C\n",
      "0  1   7   5\n",
      "1  7   7   5\n",
      "2  8   6   9\n",
      "3  6  15  13\n",
      "4  1   2  15\n",
      "\n",
      "DataFrame with new column\n",
      "    A   B   C   D\n",
      "0  1   7   5   7\n",
      "1  7   7   5  49\n",
      "2  8   6   9  48\n",
      "3  6  15  13  90\n",
      "4  1   2  15   2\n"
     ]
    }
   ],
   "source": [
    "array =pd.DataFrame(np.random.randint(1,16, size =(5,3)),columns=['A', 'B', 'C'])\n",
    "print(\"Original DataFrame\\n\",array)\n",
    "\n",
    "#Add a new column that is the product of the first two columns\n",
    "\n",
    "array['D']=array['A']*array['B']\n",
    "print(\"\\nDataFrame with new column\\n\",array)\n"
   ]
  },
  {
   "cell_type": "markdown",
   "metadata": {},
   "source": [
    "2. Create a Pandas DataFrame with 3 columns and 4 rows filled with random integers. Compute the row-wise and column-wise sum."
   ]
  },
  {
   "cell_type": "code",
   "execution_count": 7,
   "metadata": {},
   "outputs": [
    {
     "name": "stdout",
     "output_type": "stream",
     "text": [
      "Original DataFrame\n",
      "     A   B   C\n",
      "0   8  12   3\n",
      "1  10   5  11\n",
      "2   7   8  15\n",
      "3   6  10  12\n",
      "\n",
      "sum of rows\n",
      " 0    23\n",
      "1    26\n",
      "2    30\n",
      "3    28\n",
      "dtype: int64\n",
      "\n",
      "sum of columns\n",
      " A    31\n",
      "B    35\n",
      "C    41\n",
      "dtype: int64\n"
     ]
    }
   ],
   "source": [
    "array =pd.DataFrame(np.random.randint(1,16, size =(4,3)),columns=['A', 'B', 'C'])\n",
    "print(\"Original DataFrame\\n\",array)\n",
    "\n",
    "#Compute the row-wise and column-wise sum\n",
    "\n",
    "row_sum = array.sum(axis=1)\n",
    "print(\"\\nsum of rows\\n\",row_sum)\n",
    "\n",
    "column_sum = array.sum(axis=0)\n",
    "print(\"\\nsum of columns\\n\",column_sum)"
   ]
  },
  {
   "cell_type": "markdown",
   "metadata": {},
   "source": [
    "### 3: Data Cleaning\n",
    "\n",
    "1. Create a Pandas DataFrame with 3 columns and 5 rows filled with random integers. Introduce some NaN values. Fill the NaN values with the mean of the respective columns."
   ]
  },
  {
   "cell_type": "code",
   "execution_count": 8,
   "metadata": {},
   "outputs": [
    {
     "name": "stdout",
     "output_type": "stream",
     "text": [
      "Original DataFrame\n",
      "     A  B   C\n",
      "0   5  6   4\n",
      "1   5  4  15\n",
      "2  12  3  15\n",
      "3   5  7  12\n",
      "4   9  2  14\n",
      "\n",
      "DataFrame with NaN\n",
      "      A  B     C\n",
      "0  NaN  6   4.0\n",
      "1  5.0  4   NaN\n",
      "2  NaN  3  15.0\n",
      "3  5.0  7  12.0\n",
      "4  9.0  2  14.0\n",
      "\n",
      "DataFrame with NaN filled with mean\n",
      "           A  B      C\n",
      "0  6.333333  6   4.00\n",
      "1  5.000000  4  11.25\n",
      "2  6.333333  3  15.00\n",
      "3  5.000000  7  12.00\n",
      "4  9.000000  2  14.00\n"
     ]
    }
   ],
   "source": [
    "array =pd.DataFrame(np.random.randint(1,16, size =(5,3)),columns=['A', 'B', 'C'])\n",
    "print(\"Original DataFrame\\n\",array)\n",
    "\n",
    "#Introduce some NaN values\n",
    "\n",
    "array.iloc[0, 0] = np.nan\n",
    "array.iloc[1, 2] = np.nan\n",
    "array.iloc[2, 0] = np.nan\n",
    "print(\"\\nDataFrame with NaN\\n\",array)\n",
    "\n",
    "#Fill the NaN values with the mean of the respective columns.\n",
    "\n",
    "array = array.fillna(array.mean())\n",
    "print(\"\\nDataFrame with NaN filled with mean\\n\",array)"
   ]
  }
 ],
 "metadata": {
  "kernelspec": {
   "display_name": "Python 3",
   "language": "python",
   "name": "python3"
  },
  "language_info": {
   "codemirror_mode": {
    "name": "ipython",
    "version": 3
   },
   "file_extension": ".py",
   "mimetype": "text/x-python",
   "name": "python",
   "nbconvert_exporter": "python",
   "pygments_lexer": "ipython3",
   "version": "3.10.0"
  }
 },
 "nbformat": 4,
 "nbformat_minor": 2
}
