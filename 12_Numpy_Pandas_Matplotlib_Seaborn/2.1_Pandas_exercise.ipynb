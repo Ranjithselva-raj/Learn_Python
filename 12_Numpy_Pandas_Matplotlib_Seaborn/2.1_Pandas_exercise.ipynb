{
 "cells": [
  {
   "cell_type": "markdown",
   "metadata": {},
   "source": [
    "# Module: Pandas Exercise\n",
    "### 1: DataFrame Creation and Indexing\n",
    "\n",
    "1. Create a Pandas DataFrame with 4 columns and 6 rows filled with random integers. Set the index to be the first column."
   ]
  },
  {
   "cell_type": "code",
   "execution_count": 1,
   "metadata": {},
   "outputs": [],
   "source": [
    "import pandas as pd\n",
    "import numpy as np"
   ]
  },
  {
   "cell_type": "code",
   "execution_count": 2,
   "metadata": {},
   "outputs": [
    {
     "name": "stdout",
     "output_type": "stream",
     "text": [
      "Original DataFrame\n",
      "     A   B   C   D\n",
      "0   2   2   6   5\n",
      "1   7   9   9   5\n",
      "2   5   8   2  10\n",
      "3  13  10   8   9\n",
      "4  15   6  15   4\n",
      "5   7   5   9   9\n",
      "DataFrame with new index\n",
      "      B   C   D\n",
      "A             \n",
      "2    2   6   5\n",
      "7    9   9   5\n",
      "5    8   2  10\n",
      "13  10   8   9\n",
      "15   6  15   4\n",
      "7    5   9   9\n"
     ]
    }
   ],
   "source": [
    "data =pd.DataFrame(np.random.randint(1,16, size=(6, 4)), columns=['A', 'B', 'C', 'D'])\n",
    "print(\"Original DataFrame\\n\",data)\n",
    "\n",
    "#Set the index to be the first column.\n",
    "data.set_index('A', inplace=True)\n",
    "print(\"DataFrame with new index\\n\",data)"
   ]
  },
  {
   "cell_type": "markdown",
   "metadata": {},
   "source": [
    "2. Create a Pandas DataFrame with columns 'A', 'B', 'C' and index 'X', 'Y', 'Z'. Fill the DataFrame with random integers and access the element at row 'Y' and column 'B'."
   ]
  },
  {
   "cell_type": "code",
   "execution_count": 5,
   "metadata": {},
   "outputs": [
    {
     "name": "stdout",
     "output_type": "stream",
     "text": [
      "Original DataFrame\n",
      "     A   B   C\n",
      "X  12   8  14\n",
      "Y   6  12   9\n",
      "Z  14  13   4\n",
      "\n",
      "Element at row 'Y' and column 'B'\n",
      " 12\n"
     ]
    }
   ],
   "source": [
    "array =pd.DataFrame(np.random.randint(1,16, size =(3,3)),columns=['A', 'B', 'C'],index=['X', 'Y', 'Z'])\n",
    "print(\"Original DataFrame\\n\",array)\n",
    "\n",
    "#access the element at row 'Y' and column 'B'\n",
    "element = array.at['Y', 'B']\n",
    "print(\"\\nElement at row 'Y' and column 'B'\\n\",element)"
   ]
  },
  {
   "cell_type": "markdown",
   "metadata": {},
   "source": [
    "### 2: DataFrame Operations\n",
    "\n",
    "1. Create a Pandas DataFrame with 3 columns and 5 rows filled with random integers. Add a new column that is the product of the first two columns."
   ]
  },
  {
   "cell_type": "code",
   "execution_count": 6,
   "metadata": {},
   "outputs": [
    {
     "name": "stdout",
     "output_type": "stream",
     "text": [
      "Original DataFrame\n",
      "    A   B   C\n",
      "0  1   7   5\n",
      "1  7   7   5\n",
      "2  8   6   9\n",
      "3  6  15  13\n",
      "4  1   2  15\n",
      "\n",
      "DataFrame with new column\n",
      "    A   B   C   D\n",
      "0  1   7   5   7\n",
      "1  7   7   5  49\n",
      "2  8   6   9  48\n",
      "3  6  15  13  90\n",
      "4  1   2  15   2\n"
     ]
    }
   ],
   "source": [
    "array =pd.DataFrame(np.random.randint(1,16, size =(5,3)),columns=['A', 'B', 'C'])\n",
    "print(\"Original DataFrame\\n\",array)\n",
    "\n",
    "#Add a new column that is the product of the first two columns\n",
    "\n",
    "array['D']=array['A']*array['B']\n",
    "print(\"\\nDataFrame with new column\\n\",array)\n"
   ]
  },
  {
   "cell_type": "markdown",
   "metadata": {},
   "source": [
    "2. Create a Pandas DataFrame with 3 columns and 4 rows filled with random integers. Compute the row-wise and column-wise sum."
   ]
  },
  {
   "cell_type": "code",
   "execution_count": 7,
   "metadata": {},
   "outputs": [
    {
     "name": "stdout",
     "output_type": "stream",
     "text": [
      "Original DataFrame\n",
      "     A   B   C\n",
      "0   8  12   3\n",
      "1  10   5  11\n",
      "2   7   8  15\n",
      "3   6  10  12\n",
      "\n",
      "sum of rows\n",
      " 0    23\n",
      "1    26\n",
      "2    30\n",
      "3    28\n",
      "dtype: int64\n",
      "\n",
      "sum of columns\n",
      " A    31\n",
      "B    35\n",
      "C    41\n",
      "dtype: int64\n"
     ]
    }
   ],
   "source": [
    "array =pd.DataFrame(np.random.randint(1,16, size =(4,3)),columns=['A', 'B', 'C'])\n",
    "print(\"Original DataFrame\\n\",array)\n",
    "\n",
    "#Compute the row-wise and column-wise sum\n",
    "\n",
    "row_sum = array.sum(axis=1)\n",
    "print(\"\\nsum of rows\\n\",row_sum)\n",
    "\n",
    "column_sum = array.sum(axis=0)\n",
    "print(\"\\nsum of columns\\n\",column_sum)"
   ]
  },
  {
   "cell_type": "markdown",
   "metadata": {},
   "source": [
    "### 3: Data Cleaning\n",
    "\n",
    "1. Create a Pandas DataFrame with 3 columns and 5 rows filled with random integers. Introduce some NaN values. Fill the NaN values with the mean of the respective columns."
   ]
  },
  {
   "cell_type": "code",
   "execution_count": 8,
   "metadata": {},
   "outputs": [
    {
     "name": "stdout",
     "output_type": "stream",
     "text": [
      "Original DataFrame\n",
      "     A  B   C\n",
      "0   5  6   4\n",
      "1   5  4  15\n",
      "2  12  3  15\n",
      "3   5  7  12\n",
      "4   9  2  14\n",
      "\n",
      "DataFrame with NaN\n",
      "      A  B     C\n",
      "0  NaN  6   4.0\n",
      "1  5.0  4   NaN\n",
      "2  NaN  3  15.0\n",
      "3  5.0  7  12.0\n",
      "4  9.0  2  14.0\n",
      "\n",
      "DataFrame with NaN filled with mean\n",
      "           A  B      C\n",
      "0  6.333333  6   4.00\n",
      "1  5.000000  4  11.25\n",
      "2  6.333333  3  15.00\n",
      "3  5.000000  7  12.00\n",
      "4  9.000000  2  14.00\n"
     ]
    }
   ],
   "source": [
    "array =pd.DataFrame(np.random.randint(1,16, size =(5,3)),columns=['A', 'B', 'C'])\n",
    "print(\"Original DataFrame\\n\",array)\n",
    "\n",
    "#Introduce some NaN values\n",
    "\n",
    "array.iloc[0, 0] = np.nan\n",
    "array.iloc[1, 2] = np.nan\n",
    "array.iloc[2, 0] = np.nan\n",
    "print(\"\\nDataFrame with NaN\\n\",array)\n",
    "\n",
    "#Fill the NaN values with the mean of the respective columns.\n",
    "\n",
    "array = array.fillna(array.mean())\n",
    "print(\"\\nDataFrame with NaN filled with mean\\n\",array)"
   ]
  },
  {
   "cell_type": "markdown",
   "metadata": {},
   "source": [
    "2. Create a Pandas DataFrame with 4 columns and 6 rows filled with random integers. Introduce some NaN values. Drop the rows with any NaN values."
   ]
  },
  {
   "cell_type": "code",
   "execution_count": 2,
   "metadata": {},
   "outputs": [
    {
     "name": "stdout",
     "output_type": "stream",
     "text": [
      "Original DataFrame\n",
      "     A   B   C   D\n",
      "0  13  10  13  14\n",
      "1   1  12  12   3\n",
      "2  11   6  12   6\n",
      "3   9  10   5   4\n",
      "4   7   7   8  10\n",
      "5   6   2   3   2\n",
      "\n",
      "DataFrame with NaN\n",
      "     A   B     C     D\n",
      "0  13  10   NaN  14.0\n",
      "1   1  12  12.0   NaN\n",
      "2  11   6  12.0   6.0\n",
      "3   9  10   5.0   4.0\n",
      "4   7   7   8.0  10.0\n",
      "5   6   2   3.0   2.0\n",
      "\n",
      "DataFrame without NaN\n",
      "     A   B     C     D\n",
      "2  11   6  12.0   6.0\n",
      "3   9  10   5.0   4.0\n",
      "4   7   7   8.0  10.0\n",
      "5   6   2   3.0   2.0\n"
     ]
    }
   ],
   "source": [
    "df = pd.DataFrame(np.random.randint(1,16, size =(6,4)),columns=['A', 'B', 'C','D'])\n",
    "\n",
    "#print the original dataframe\n",
    "print(\"Original DataFrame\\n\",df)\n",
    "\n",
    "df.iloc[0,2] = np.nan\n",
    "df.iloc[1,3] = np.nan\n",
    "print(\"\\nDataFrame with NaN\\n\",df)\n",
    "\n",
    "#drop the rows with NaN\n",
    "df.dropna(inplace=True)\n",
    "print(\"\\nDataFrame without NaN\\n\",df)\n"
   ]
  },
  {
   "cell_type": "markdown",
   "metadata": {},
   "source": [
    "### 4: Data Aggregation\n",
    "\n",
    "1. Create a Pandas DataFrame with 2 columns: 'Category' and 'Value'. Fill the 'Category' column with random categories ('A', 'B', 'C') and the 'Value' column with random integers. Group the DataFrame by 'Category' and compute the sum and mean of 'Value' for each category."
   ]
  },
  {
   "cell_type": "code",
   "execution_count": 3,
   "metadata": {},
   "outputs": [
    {
     "name": "stdout",
     "output_type": "stream",
     "text": [
      "Original DataFrame\n",
      "   Category  Value\n",
      "0        B     18\n",
      "1        A      9\n",
      "2        A     16\n",
      "3        A     44\n",
      "4        B     87\n",
      "5        B     49\n",
      "6        C     37\n",
      "7        A     48\n",
      "8        B     61\n",
      "9        B     71\n",
      "\n",
      "Grouped DataFrame\n",
      "           sum   mean\n",
      "Category            \n",
      "A         117  29.25\n",
      "B         286  57.20\n",
      "C          37  37.00\n"
     ]
    }
   ],
   "source": [
    "df = pd.DataFrame({'Category':np.random.choice(['A', 'B', 'C'], size=10), 'Value':np.random.randint(1, 100, size=10)})\n",
    "\n",
    "#print the original dataframe\n",
    "print(\"Original DataFrame\\n\",df)\n",
    "\n",
    "#Group the DataFrame by 'Category' and compute the sum and mean of 'Value' for each category\n",
    "grouped_df = df.groupby('Category')['Value'].agg(['sum', 'mean'])\n",
    "print(\"\\nGrouped DataFrame\\n\",grouped_df)"
   ]
  },
  {
   "cell_type": "markdown",
   "metadata": {},
   "source": [
    "2. Create a Pandas DataFrame with 3 columns: 'Product', 'Category', and 'Sales'. Fill the DataFrame with random data. Group the DataFrame by 'Category' and compute the total sales for each category."
   ]
  },
  {
   "cell_type": "code",
   "execution_count": 7,
   "metadata": {},
   "outputs": [
    {
     "name": "stdout",
     "output_type": "stream",
     "text": [
      "Original DataFrame\n",
      "   Product Category  Sales\n",
      "0  Orange        C    126\n",
      "1  Banana        B    110\n",
      "2  Orange        A    127\n",
      "3  Banana        A    149\n",
      "4  Orange        B    120\n",
      "5   Apple        C    120\n",
      "6  Orange        C    131\n",
      "7  Orange        C     85\n",
      "8  Orange        A    187\n",
      "9   Apple        A     53\n",
      "\n",
      "Category total sales\n",
      " Category\n",
      "A    516\n",
      "B    230\n",
      "C    462\n",
      "Name: Sales, dtype: int32\n"
     ]
    }
   ],
   "source": [
    "df = pd.DataFrame({'Product':np.random.choice(['Apple', 'Banana','Orange', 'Peach'],size=10),\n",
    "                   'Category':np.random.choice(['A', 'B', 'C'],size=10),\n",
    "                   'Sales':np.random.randint(50, 200, size=10)\n",
    "                   })\n",
    "\n",
    "#print the original dataframe\n",
    "print(\"Original DataFrame\\n\",df)\n",
    "\n",
    "#Group the DataFrame by 'Category' and compute the total sales for each category.\n",
    "Category_total_sales = df.groupby('Category')['Sales'].sum()\n",
    "print(\"\\nCategory total sales\\n\",Category_total_sales)"
   ]
  },
  {
   "cell_type": "markdown",
   "metadata": {},
   "source": [
    "### 5: Merging DataFrames\n",
    "\n",
    "1. Create two Pandas DataFrames with a common column. Merge the DataFrames using the common column."
   ]
  },
  {
   "cell_type": "code",
   "execution_count": 11,
   "metadata": {},
   "outputs": [
    {
     "name": "stdout",
     "output_type": "stream",
     "text": [
      "Original DataFrame\n",
      "   Category  Value\n",
      "0        A     49\n",
      "1        A     67\n",
      "2        A     40\n",
      "3        B     82\n",
      "4        C     95\n",
      "\n",
      "Original DataFrame\n",
      "   Category  Value1\n",
      "0        A      73\n",
      "1        B      98\n",
      "2        D       4\n",
      "3        B      37\n",
      "4        D       6\n",
      "\n",
      "Merged DataFrame\n",
      "   Category  Value  Value1\n",
      "0        A   49.0    73.0\n",
      "1        A   67.0    73.0\n",
      "2        A   40.0    73.0\n",
      "3        B   82.0    98.0\n",
      "4        B   82.0    37.0\n",
      "5        C   95.0     NaN\n",
      "6        D    NaN     4.0\n",
      "7        D    NaN     6.0\n"
     ]
    }
   ],
   "source": [
    "df1 =pd.DataFrame({'Category':np.random.choice(['A', 'B', 'C'], size=5), 'Value':np.random.randint(1, 100, size=5)})\n",
    "df2 =pd.DataFrame({'Category':np.random.choice(['A', 'B', 'D'], size=5), 'Value1':np.random.randint(1, 100, size=5)})\n",
    "\n",
    "#print the original dataframe\n",
    "print(\"Original DataFrame\\n\",df1)\n",
    "print(\"\\nOriginal DataFrame\\n\",df2)\n",
    "\n",
    "#Merge the two DataFrames on the 'Category' column\n",
    "merged_df = pd.merge(df1,df2, on='Category', how='outer')\n",
    "print(\"\\nMerged DataFrame\\n\",merged_df)"
   ]
  },
  {
   "cell_type": "markdown",
   "metadata": {},
   "source": [
    "2. Create two Pandas DataFrames with different columns. Concatenate the DataFrames along the rows and along the columns."
   ]
  },
  {
   "cell_type": "code",
   "execution_count": 14,
   "metadata": {},
   "outputs": [
    {
     "name": "stdout",
     "output_type": "stream",
     "text": [
      "Original DataFrame\n",
      "     A   B\n",
      "0  50  60\n",
      "1  73  95\n",
      "2  56  49\n",
      "\n",
      "Original DataFrame\n",
      "     C   D\n",
      "0  31  65\n",
      "1  24  62\n",
      "2  75  88\n",
      "\n",
      "Concatenated DataFrame\n",
      "     A   B   C   D\n",
      "0  50  60  31  65\n",
      "1  73  95  24  62\n",
      "2  56  49  75  88\n"
     ]
    }
   ],
   "source": [
    "# Create two Pandas DataFrames with different columns\n",
    "df1 = pd.DataFrame({'A': np.random.randint(1, 100, size=3), 'B': np.random.randint(1, 100, size=3)})\n",
    "df2 = pd.DataFrame({'C': np.random.randint(1, 100, size=3), 'D': np.random.randint(1, 100, size=3)})\n",
    "\n",
    "#print the original dataframe\n",
    "print(\"Original DataFrame\\n\",df1)\n",
    "print(\"\\nOriginal DataFrame\\n\",df2)\n",
    "\n",
    "#Concatenate the DataFrames along the rows and along the columns.\n",
    "concatenated_df = pd.concat([df1,df2], axis=1)\n",
    "print(\"\\nConcatenated DataFrame\\n\",concatenated_df)"
   ]
  },
  {
   "cell_type": "markdown",
   "metadata": {},
   "source": [
    "### 6: Time Series Analysis\n",
    "\n",
    "1. Create a Pandas DataFrame with a datetime index and one column filled with random integers. Resample the DataFrame to compute the monthly mean of the values."
   ]
  },
  {
   "cell_type": "code",
   "execution_count": 15,
   "metadata": {},
   "outputs": [
    {
     "name": "stdout",
     "output_type": "stream",
     "text": [
      "Original DataFrame\n",
      "             Data\n",
      "Date            \n",
      "2022-01-01    53\n",
      "2022-01-02     1\n",
      "2022-01-03    47\n",
      "2022-01-04    80\n",
      "2022-01-05    70\n",
      "...          ...\n",
      "2022-06-06    65\n",
      "2022-06-07    24\n",
      "2022-06-08    62\n",
      "2022-06-09    22\n",
      "2022-06-10    74\n",
      "\n",
      "[161 rows x 1 columns]\n",
      "\n",
      "Monthly mean\n",
      "                  Data\n",
      "Date                 \n",
      "2022-01-31  47.516129\n",
      "2022-02-28  49.785714\n",
      "2022-03-31  50.451613\n",
      "2022-04-30  45.800000\n",
      "2022-05-31  47.064516\n",
      "2022-06-30  46.600000\n"
     ]
    },
    {
     "name": "stderr",
     "output_type": "stream",
     "text": [
      "C:\\Users\\ranje\\AppData\\Local\\Temp\\ipykernel_20412\\3100900239.py:10: FutureWarning: 'M' is deprecated and will be removed in a future version, please use 'ME' instead.\n",
      "  monthly_mean = df.resample('M').mean()\n"
     ]
    }
   ],
   "source": [
    "date_range =pd.date_range(start='2022-01-01', end='2022-06-10', freq='D')\n",
    "df =pd.DataFrame(date_range, columns=['Date'])\n",
    "df['Data'] = np.random.randint(1, 100, size=len(date_range))\n",
    "df.set_index('Date', inplace=True)\n",
    "\n",
    "#print the original dataframe\n",
    "print(\"Original DataFrame\\n\",df)\n",
    "\n",
    "#Resample the DataFrame to compute the monthly mean of the values.\n",
    "monthly_mean = df.resample('M').mean()\n",
    "print(\"\\nMonthly mean\\n\",monthly_mean)"
   ]
  },
  {
   "cell_type": "markdown",
   "metadata": {},
   "source": [
    "2. Create a Pandas DataFrame with a datetime index ranging from '2021-01-01' to '2021-12-31' and one column filled with random integers. Compute the rolling mean with a window of 7 days."
   ]
  },
  {
   "cell_type": "code",
   "execution_count": 18,
   "metadata": {},
   "outputs": [
    {
     "name": "stdout",
     "output_type": "stream",
     "text": [
      "Original DataFrame\n",
      "             Data\n",
      "Date            \n",
      "2021-01-01    52\n",
      "2021-01-02    75\n",
      "2021-01-03    65\n",
      "2021-01-04    61\n",
      "2021-01-05    64\n",
      "...          ...\n",
      "2021-12-27    76\n",
      "2021-12-28    79\n",
      "2021-12-29    72\n",
      "2021-12-30    44\n",
      "2021-12-31    90\n",
      "\n",
      "[365 rows x 1 columns]\n",
      "\n",
      "Rolling mean\n",
      "                  Data\n",
      "Date                 \n",
      "2021-01-01        NaN\n",
      "2021-01-02        NaN\n",
      "2021-01-03        NaN\n",
      "2021-01-04        NaN\n",
      "2021-01-05        NaN\n",
      "...               ...\n",
      "2021-12-27  48.857143\n",
      "2021-12-28  48.285714\n",
      "2021-12-29  54.857143\n",
      "2021-12-30  52.571429\n",
      "2021-12-31  64.571429\n",
      "\n",
      "[365 rows x 1 columns]\n"
     ]
    }
   ],
   "source": [
    "date_range =pd.date_range(start='2021-01-01', end='2021-12-31', freq='D')\n",
    "df =pd.DataFrame(date_range, columns=['Date'])\n",
    "df['Data'] = np.random.randint(1, 100, size=len(date_range))\n",
    "df.set_index('Date', inplace=True)\n",
    "\n",
    "#print the original dataframe\n",
    "print(\"Original DataFrame\\n\",df)\n",
    "\n",
    "#Compute the rolling mean with a window of 7 days.\n",
    "rolling_mean = df.rolling(window=7).mean()\n",
    "print(\"\\nRolling mean\\n\",rolling_mean)"
   ]
  },
  {
   "cell_type": "markdown",
   "metadata": {},
   "source": [
    "### 7: MultiIndex DataFrame\n",
    "\n",
    "1. Create a Pandas DataFrame with a MultiIndex (hierarchical index). Perform some basic indexing and slicing operations on the MultiIndex DataFrame."
   ]
  },
  {
   "cell_type": "code",
   "execution_count": 22,
   "metadata": {},
   "outputs": [
    {
     "name": "stdout",
     "output_type": "stream",
     "text": [
      "Original DataFrame\n",
      "                       Value1  Value2  Value3\n",
      "Category SubCategory                        \n",
      "A        one              45      84      84\n",
      "         two              17      45      54\n",
      "B        one              42      27       1\n",
      "         two               6      92      99\n",
      "\n",
      " Indexing at category A\n",
      "              Value1  Value2  Value3\n",
      "SubCategory                        \n",
      "one              45      84      84\n",
      "two              17      45      54\n",
      "\n",
      "Slicing at Category 'B' and SubCategory 'two'\n",
      " Value1     6\n",
      "Value2    92\n",
      "Value3    99\n",
      "Name: (B, two), dtype: int32\n"
     ]
    }
   ],
   "source": [
    "arrays =[['A','A','B','B'],['one','two','one','two']]\n",
    "index = pd.MultiIndex.from_arrays(arrays, names =('Category','SubCategory'))\n",
    "df = pd.DataFrame(np.random.randint(1, 100, size=(4, 3)), index=index, columns=['Value1', 'Value2', 'Value3'])\n",
    "\n",
    "#print the original dataframe\n",
    "print(\"Original DataFrame\\n\",df)\n",
    "\n",
    "#Perform some basic indexing and slicing operations on the MultiIndex DataFrame\n",
    "print(\"\\n Indexing at category A\\n\",df.loc['A'])\n",
    "\n",
    "print(\"\\nSlicing at Category 'B' and SubCategory 'two'\\n\",df.loc[('B', 'two')])\n"
   ]
  },
  {
   "cell_type": "markdown",
   "metadata": {},
   "source": [
    "2. Create a Pandas DataFrame with MultiIndex consisting of 'Category' and 'SubCategory'. Fill the DataFrame with random data and compute the sum of values for each 'Category' and 'SubCategory'."
   ]
  },
  {
   "cell_type": "code",
   "execution_count": 9,
   "metadata": {},
   "outputs": [
    {
     "name": "stdout",
     "output_type": "stream",
     "text": [
      "Original DataFrame\n",
      "                       Value1  Value2  Value3\n",
      "Category SubCategory                        \n",
      "Apple    A                24      10      82\n",
      "         B                 3      12      28\n",
      "Orange   A                 3      10      31\n",
      "         B                19      24       3\n",
      "Apple    A                10      11       3\n",
      "         B                54      25      33\n",
      "Orange   A                34      32      67\n",
      "         B                96      18      46\n",
      "\n",
      "Sum of values\n",
      "                       Value1  Value2  Value3\n",
      "Category SubCategory                        \n",
      "Apple    A                34      21      85\n",
      "         B                57      37      61\n",
      "Orange   A                37      42      98\n",
      "         B               115      42      49\n"
     ]
    }
   ],
   "source": [
    "array = [['Apple','Apple','Orange','Orange','Apple','Apple','Orange','Orange'],['A','B','A','B','A','B','A','B']]\n",
    "index = pd.MultiIndex.from_arrays(array, names =('Category','SubCategory'))\n",
    "df = pd.DataFrame(np.random.randint(1, 100, size=(8, 3)), index=index, columns=['Value1', 'Value2', 'Value3'])\n",
    "\n",
    "#print the original dataframe\n",
    "print(\"Original DataFrame\\n\",df)\n",
    "\n",
    "#compute the sum of values for each 'Category' and 'SubCategory'.\n",
    "\n",
    "sum_value =df.groupby(['Category', 'SubCategory'])[['Value1', 'Value2', 'Value3']].sum()\n",
    "print(\"\\nSum of values\\n\",sum_value)"
   ]
  },
  {
   "cell_type": "markdown",
   "metadata": {},
   "source": [
    "### 8: Pivot Tables\n",
    "\n",
    "1. Create a Pandas DataFrame with columns 'Date', 'Category', and 'Value'. Create a pivot table to compute the sum of 'Value' for each 'Category' by 'Date'."
   ]
  },
  {
   "cell_type": "code",
   "execution_count": 12,
   "metadata": {},
   "outputs": [
    {
     "name": "stdout",
     "output_type": "stream",
     "text": [
      "\n",
      "Pivot table\n",
      " Category       A     B      C\n",
      "Date                         \n",
      "2021-01-05  52.0   NaN   13.0\n",
      "2021-01-06   NaN   NaN   42.0\n",
      "2021-01-09   NaN  24.0    NaN\n",
      "2021-01-10  96.0   NaN    NaN\n",
      "2021-01-11   NaN  13.0    NaN\n",
      "2021-01-12  77.0   NaN    NaN\n",
      "2021-01-14   NaN  44.0    NaN\n",
      "2021-01-16   9.0   NaN    NaN\n",
      "2021-01-17   NaN  26.0    NaN\n",
      "2021-01-18  51.0  76.0    NaN\n",
      "2021-01-19   NaN  52.0    NaN\n",
      "2021-01-20   NaN  28.0    NaN\n",
      "2021-01-21   NaN  93.0    NaN\n",
      "2021-01-24   NaN   NaN  108.0\n",
      "2021-01-25  94.0   NaN    NaN\n",
      "2021-01-27   NaN   NaN   65.0\n",
      "2021-01-31  85.0   NaN    NaN\n"
     ]
    }
   ],
   "source": [
    "date_rng = pd.date_range(start='2021-01-01', end='2021-01-31', freq='D')\n",
    "df = pd.DataFrame({'Date': np.random.choice(date_rng,size =20), 'Category': np.random.choice(['A', 'B', 'C'], size=20), 'Value': np.random.randint(1, 100, size=20)})\n",
    "\n",
    "#print the original dataframe\n",
    "#print(\"Original DataFrame\\n\",df)\n",
    "\n",
    "#Create a pivot table to compute the sum of 'Value' for each 'Category' by 'Date'.\n",
    "pivot_table = df.pivot_table(values='Value', index='Date', columns='Category', aggfunc='sum')\n",
    "print(\"\\nPivot table\\n\",pivot_table)\n"
   ]
  },
  {
   "cell_type": "markdown",
   "metadata": {},
   "source": [
    "2. Create a Pandas DataFrame with columns 'Year', 'Quarter', and 'Revenue'. Create a pivot table to compute the mean 'Revenue' for each 'Quarter' by 'Year'."
   ]
  },
  {
   "cell_type": "code",
   "execution_count": 3,
   "metadata": {},
   "outputs": [
    {
     "name": "stdout",
     "output_type": "stream",
     "text": [
      "Original DataFrame\n",
      "     Year Quarter  Revenue\n",
      "0   2020      Q4       71\n",
      "1   2022      Q1       18\n",
      "2   2021      Q1       63\n",
      "3   2020      Q2       97\n",
      "4   2021      Q2        9\n",
      "5   2020      Q3       23\n",
      "6   2020      Q3        4\n",
      "7   2021      Q3       18\n",
      "8   2020      Q4       62\n",
      "9   2022      Q3       18\n",
      "10  2021      Q4       97\n",
      "11  2022      Q4       67\n",
      "12  2021      Q2       97\n",
      "13  2021      Q1       72\n",
      "14  2020      Q1       18\n",
      "15  2022      Q3       60\n",
      "16  2022      Q2       19\n",
      "17  2022      Q2       51\n",
      "18  2022      Q4       10\n",
      "19  2021      Q4       32\n",
      "\n",
      "Pivot table\n",
      " Quarter    Q1    Q2    Q3    Q4\n",
      "Year                           \n",
      "2020     18.0  97.0  13.5  66.5\n",
      "2021     67.5  53.0  18.0  64.5\n",
      "2022     18.0  35.0  39.0  38.5\n"
     ]
    }
   ],
   "source": [
    "df = pd.DataFrame({'Year': np.random.choice(['2020', '2021', '2022'], size=20), 'Quarter': np.random.choice(['Q1', 'Q2', 'Q3', 'Q4'], size=20), 'Revenue': np.random.randint(1, 100, size=20)})\n",
    "\n",
    "#print the original dataframe\n",
    "print(\"Original DataFrame\\n\",df)\n",
    "\n",
    "#Create a pivot table to compute the mean 'Revenue' for each 'Quarter' by 'Year'\n",
    "\n",
    "pivot_table= df.pivot_table(values='Revenue', index='Year', columns='Quarter', aggfunc='mean')\n",
    "\n",
    "print(\"\\nPivot table\\n\",pivot_table)"
   ]
  },
  {
   "cell_type": "markdown",
   "metadata": {},
   "source": [
    "###  9: Applying Functions\n",
    "\n",
    "1. Create a Pandas DataFrame with 3 columns and 5 rows filled with random integers. Apply a function that doubles the values of the DataFrame."
   ]
  },
  {
   "cell_type": "code",
   "execution_count": 10,
   "metadata": {},
   "outputs": [
    {
     "name": "stdout",
     "output_type": "stream",
     "text": [
      "Original DataFrame\n",
      "     A   B   C\n",
      "0   9  18   6\n",
      "1  95  65  73\n",
      "2  98  88  48\n",
      "3  67  87  27\n",
      "4  31   9  36\n",
      "\n",
      "DataFrame with function applied\n",
      "      A    B    C\n",
      "0   18   36   12\n",
      "1  190  130  146\n",
      "2  196  176   96\n",
      "3  134  174   54\n",
      "4   62   18   72\n"
     ]
    }
   ],
   "source": [
    "df = pd.DataFrame(np.random.randint(1,100, size=(5,3)),columns=['A', 'B', 'C'])\n",
    "\n",
    "#print the original dataframe\n",
    "print(\"Original DataFrame\\n\",df)\n",
    "\n",
    "#Apply a function that doubles the values of the DataFrame.\n",
    "\n",
    "df = df.map(lambda x: x*2)\n",
    "print(\"\\nDataFrame with function applied\\n\",df)"
   ]
  },
  {
   "cell_type": "markdown",
   "metadata": {},
   "source": [
    "2. Create a Pandas DataFrame with 3 columns and 6 rows filled with random integers. Apply a lambda function to create a new column that is the sum of the existing columns."
   ]
  },
  {
   "cell_type": "code",
   "execution_count": 13,
   "metadata": {},
   "outputs": [
    {
     "name": "stdout",
     "output_type": "stream",
     "text": [
      "Original DataFrame\n",
      "     A   B   C\n",
      "0  49  54  22\n",
      "1  15  63  41\n",
      "2   2  46   6\n",
      "3  66  75  17\n",
      "4  75  42  99\n",
      "5  81  26  86\n",
      "\n",
      "DataFrame with new column\n",
      "     A   B   C    D\n",
      "0  49  54  22  125\n",
      "1  15  63  41  119\n",
      "2   2  46   6   54\n",
      "3  66  75  17  158\n",
      "4  75  42  99  216\n",
      "5  81  26  86  193\n"
     ]
    }
   ],
   "source": [
    "df = pd.DataFrame(np.random.randint(1,100, size=(6,3)),columns=['A', 'B', 'C'])\n",
    "\n",
    "#print the original dataframe\n",
    "print(\"Original DataFrame\\n\",df)\n",
    "\n",
    "#Apply a lambda function to create a new column that is the sum of the existing columns.\n",
    "\n",
    "df['D'] = df.apply(lambda x: x.sum(), axis=1)\n",
    "print(\"\\nDataFrame with new column\\n\",df)"
   ]
  },
  {
   "cell_type": "markdown",
   "metadata": {},
   "source": [
    "### 10: Working with Text Data\n",
    "\n",
    "1. Create a Pandas Series with 5 random text strings. Convert all the strings to uppercase."
   ]
  },
  {
   "cell_type": "code",
   "execution_count": 15,
   "metadata": {},
   "outputs": [
    {
     "name": "stdout",
     "output_type": "stream",
     "text": [
      "Original Series\n",
      " 0       apple\n",
      "1      banana\n",
      "2      carrot\n",
      "3       dates\n",
      "4    eggplant\n",
      "dtype: object\n",
      "\n",
      "Uppercase Series\n",
      " 0       APPLE\n",
      "1      BANANA\n",
      "2      CARROT\n",
      "3       DATES\n",
      "4    EGGPLANT\n",
      "dtype: object\n"
     ]
    }
   ],
   "source": [
    "text_data = pd.Series(['apple', 'banana', 'carrot', 'dates', 'eggplant'])\n",
    "\n",
    "#print the original series\n",
    "print(\"Original Series\\n\",text_data)\n",
    "\n",
    "#Convert all the strings to uppercase.\n",
    "text_data = text_data.str.upper()\n",
    "print(\"\\nUppercase Series\\n\",text_data)"
   ]
  },
  {
   "cell_type": "markdown",
   "metadata": {},
   "source": [
    "2. Create a Pandas Series with 5 random text strings. Extract the first three characters of each string."
   ]
  },
  {
   "cell_type": "code",
   "execution_count": 16,
   "metadata": {},
   "outputs": [
    {
     "name": "stdout",
     "output_type": "stream",
     "text": [
      "Original Series\n",
      " 0       apple\n",
      "1      banana\n",
      "2      carrot\n",
      "3       dates\n",
      "4    eggplant\n",
      "dtype: object\n",
      "\n",
      "First 3 characters of each string\n",
      " 0    app\n",
      "1    ban\n",
      "2    car\n",
      "3    dat\n",
      "4    egg\n",
      "dtype: object\n"
     ]
    }
   ],
   "source": [
    "text_data = pd.Series(['apple', 'banana', 'carrot', 'dates', 'eggplant'])\n",
    "\n",
    "#print the original series\n",
    "print(\"Original Series\\n\",text_data)\n",
    "\n",
    "#Extract the first three characters of each string.\n",
    "\n",
    "text_data = text_data.str[:3]\n",
    "print(\"\\nFirst 3 characters of each string\\n\",text_data)"
   ]
  }
 ],
 "metadata": {
  "kernelspec": {
   "display_name": "Python 3",
   "language": "python",
   "name": "python3"
  },
  "language_info": {
   "codemirror_mode": {
    "name": "ipython",
    "version": 3
   },
   "file_extension": ".py",
   "mimetype": "text/x-python",
   "name": "python",
   "nbconvert_exporter": "python",
   "pygments_lexer": "ipython3",
   "version": "3.10.0"
  }
 },
 "nbformat": 4,
 "nbformat_minor": 2
}
