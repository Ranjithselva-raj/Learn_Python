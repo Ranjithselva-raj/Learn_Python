{
 "cells": [
  {
   "cell_type": "markdown",
   "metadata": {},
   "source": [
    "# Module: NumPy Exercise\n",
    "###  1: Array Creation and Manipulation\n",
    "\n",
    "1. Create a NumPy array of shape (5, 5) filled with random integers between 1 and 20. Replace all the elements in the third column with 1."
   ]
  },
  {
   "cell_type": "code",
   "execution_count": 1,
   "metadata": {},
   "outputs": [],
   "source": [
    "import numpy as np"
   ]
  },
  {
   "cell_type": "code",
   "execution_count": 10,
   "metadata": {},
   "outputs": [
    {
     "name": "stdout",
     "output_type": "stream",
     "text": [
      "original array\n",
      " [[11  5 11  2  4]\n",
      " [15  9  7 14 10]\n",
      " [17  9 10 15 18]\n",
      " [14  7  9  6 14]\n",
      " [ 4  1 14  4  6]]\n",
      "modified array\n",
      " [[11  5  1  2  4]\n",
      " [15  9  1 14 10]\n",
      " [17  9  1 15 18]\n",
      " [14  7  1  6 14]\n",
      " [ 4  1  1  4  6]]\n"
     ]
    }
   ],
   "source": [
    "array = np.random.randint(1,20, size=(5,5))\n",
    "print(\"original array\\n\",array)\n",
    "\n",
    "#replace all elements in the 3rd array with 1\n",
    "array[0:5,2]=1\n",
    "print(\"modified array\\n\",array)"
   ]
  },
  {
   "cell_type": "markdown",
   "metadata": {},
   "source": [
    "2. Create a NumPy array of shape (4, 4) with values from 1 to 16. Replace the diagonal elements with 0."
   ]
  },
  {
   "cell_type": "code",
   "execution_count": 13,
   "metadata": {},
   "outputs": [
    {
     "name": "stdout",
     "output_type": "stream",
     "text": [
      "original array\n",
      " [[ 1  2  3  4]\n",
      " [ 5  6  7  8]\n",
      " [ 9 10 11 12]\n",
      " [13 14 15 16]]\n",
      "modified array\n",
      " [[ 0  2  3  4]\n",
      " [ 5  0  7  8]\n",
      " [ 9 10  0 12]\n",
      " [13 14 15  0]]\n"
     ]
    }
   ],
   "source": [
    "array = np.arange(1,17).reshape(4,4)\n",
    "print(\"original array\\n\",array)\n",
    "\n",
    "#replace the diagonal elements with 0\n",
    "np.fill_diagonal(array,0)\n",
    "print(\"modified array\\n\",array)"
   ]
  },
  {
   "cell_type": "markdown",
   "metadata": {},
   "source": [
    "###  2: Array Indexing and Slicing\n",
    "\n",
    "1. Create a NumPy array of shape (6, 6) with values from 1 to 36. Extract the sub-array consisting of the 3rd to 5th rows and 2nd to 4th columns."
   ]
  },
  {
   "cell_type": "code",
   "execution_count": 15,
   "metadata": {},
   "outputs": [
    {
     "name": "stdout",
     "output_type": "stream",
     "text": [
      "original array\n",
      " [[ 9 32 23  8 13  8]\n",
      " [29 19 23 15 14 28]\n",
      " [24  3 12 14  9 10]\n",
      " [ 4 27 21  5 11 19]\n",
      " [10 15 14 30 11 12]\n",
      " [ 2 15  8  4 19 27]]\n",
      "sub-array\n",
      " [[ 3 12 14]\n",
      " [27 21  5]\n",
      " [15 14 30]]\n"
     ]
    }
   ],
   "source": [
    "array =np.random.randint(1,36, size=(6,6))\n",
    "print(\"original array\\n\",array)\n",
    "\n",
    "#Extract the sub-array consisting of the 3rd to 5th rows and 2nd to 4th columns\n",
    "array = array[2:5,1:4]\n",
    "print(\"sub-array\\n\",array)"
   ]
  },
  {
   "cell_type": "markdown",
   "metadata": {},
   "source": [
    "2. Create a NumPy array of shape (5, 5) with random integers. Extract the elements on the border."
   ]
  },
  {
   "cell_type": "code",
   "execution_count": 20,
   "metadata": {},
   "outputs": [
    {
     "name": "stdout",
     "output_type": "stream",
     "text": [
      "original array\n",
      " [[11 15 22  5  7]\n",
      " [34 28 15  5 21]\n",
      " [14 17 19 35  2]\n",
      " [ 3  4 15 27 21]\n",
      " [ 3 25 24 33  9]]\n",
      "sub-array\n",
      " [11 15 22  5  7  3 25 24 33  9 34 14  3 21  2 21]\n"
     ]
    }
   ],
   "source": [
    "array = np.random.randint(1,36, size=(5,5))\n",
    "\n",
    "#Print the array\n",
    "print(\"original array\\n\",array)\n",
    "\n",
    "#Extract the elements on the border\n",
    "border_elements = np.concatenate((array[0, :], array[-1, :], array[1:-1, 0], array[1:-1,-1]))\n",
    "print(\"sub-array\\n\",border_elements)"
   ]
  },
  {
   "cell_type": "markdown",
   "metadata": {},
   "source": [
    "###  3: Array Operations\n",
    "\n",
    "1. Create two NumPy arrays of shape (3, 4) filled with random integers. Perform element-wise addition, subtraction, multiplication, and division."
   ]
  },
  {
   "cell_type": "code",
   "execution_count": 22,
   "metadata": {},
   "outputs": [
    {
     "name": "stdout",
     "output_type": "stream",
     "text": [
      "original array\n",
      " [[4 4 7 1]\n",
      " [9 1 5 8]\n",
      " [2 4 1 6]]\n",
      "original array\n",
      " [[ 1  8  7  7]\n",
      " [ 9 10  3 10]\n",
      " [ 7  9  7 10]]\n",
      "sum of arrays\n",
      " [[ 5 12 14  8]\n",
      " [18 11  8 18]\n",
      " [ 9 13  8 16]]\n",
      "difference of arrays\n",
      " [[ 3 -4  0 -6]\n",
      " [ 0 -9  2 -2]\n",
      " [-5 -5 -6 -4]]\n",
      "product of arrays\n",
      " [[ 4 32 49  7]\n",
      " [81 10 15 80]\n",
      " [14 36  7 60]]\n",
      "division of arrays\n",
      " [[4.         0.5        1.         0.14285714]\n",
      " [1.         0.1        1.66666667 0.8       ]\n",
      " [0.28571429 0.44444444 0.14285714 0.6       ]]\n"
     ]
    }
   ],
   "source": [
    "array1 = np.random.randint(1,11, size=(3,4))\n",
    "array2 = np.random.randint(1,11, size=(3,4))\n",
    "#Print the array\n",
    "print(\"original array\\n\",array1)\n",
    "print(\"original array\\n\",array2)\n",
    "\n",
    "#addition of two arrays\n",
    "sum_of_arrays = array1 + array2\n",
    "print(\"sum of arrays\\n\",sum_of_arrays)\n",
    "\n",
    "#subtraction of two arrays\n",
    "difference_of_arrays = array1 - array2\n",
    "print(\"difference of arrays\\n\",difference_of_arrays)\n",
    "\n",
    "#multiplication of two arrays\n",
    "product_of_arrays = array1 * array2\n",
    "print(\"product of arrays\\n\",product_of_arrays)\n",
    "\n",
    "#division of two arrays\n",
    "division_of_arrays = array1 / array2\n",
    "print(\"division of arrays\\n\",division_of_arrays)"
   ]
  },
  {
   "cell_type": "markdown",
   "metadata": {},
   "source": [
    "2. Create a NumPy array of shape (4, 4) with values from 1 to 16. Compute the row-wise and column-wise sum."
   ]
  },
  {
   "cell_type": "code",
   "execution_count": 24,
   "metadata": {},
   "outputs": [
    {
     "name": "stdout",
     "output_type": "stream",
     "text": [
      "original array\n",
      " [[ 2  9  9  6]\n",
      " [ 9  8  6 12]\n",
      " [11  4  8  6]\n",
      " [ 2  3  1  7]]\n",
      "sum of rows\n",
      " [26 35 29 13]\n",
      "sum of columns\n",
      " [24 24 24 31]\n"
     ]
    }
   ],
   "source": [
    "array = np.random.randint(1,16, size=(4,4))\n",
    "#Print the array\n",
    "print(\"original array\\n\",array)\n",
    "\n",
    "#Compute the row-wise and column-wise sum\n",
    "row_sum = np.sum(array, axis=1)\n",
    "column_sum = np.sum(array, axis=0)\n",
    "print(\"sum of rows\\n\",row_sum)\n",
    "print(\"sum of columns\\n\",column_sum)\n"
   ]
  },
  {
   "cell_type": "markdown",
   "metadata": {},
   "source": [
    "###  4: Statistical Operations\n",
    "\n",
    "1. Create a NumPy array of shape (5, 5) filled with random integers. Compute the mean, median, standard deviation, and variance of the array."
   ]
  },
  {
   "cell_type": "code",
   "execution_count": 25,
   "metadata": {},
   "outputs": [
    {
     "name": "stdout",
     "output_type": "stream",
     "text": [
      "original array\n",
      " [[ 1  4  9 13 11]\n",
      " [15  1  6 13  4]\n",
      " [12  6  7  9 12]\n",
      " [ 1  3 13 11  3]\n",
      " [ 2  4 14 10  8]]\n",
      "mean\n",
      " 7.68\n",
      "median\n",
      " 8.0\n",
      "standard deviation\n",
      " 4.487493732586153\n",
      "variance\n",
      " 20.137600000000003\n"
     ]
    }
   ],
   "source": [
    "array = np.random.randint(1,16, size=(5,5))\n",
    "\n",
    "#Print the array    \n",
    "print(\"original array\\n\",array)\n",
    "\n",
    "#Compute the statistical operations\n",
    "mean = np.mean(array)\n",
    "median =np.median(array)\n",
    "std = np.std(array)\n",
    "variance = np.var(array)\n",
    "print(\"mean\\n\",mean)\n",
    "print(\"median\\n\",median)\n",
    "print(\"standard deviation\\n\",std)\n",
    "print(\"variance\\n\",variance)"
   ]
  },
  {
   "cell_type": "markdown",
   "metadata": {},
   "source": [
    "2. Create a NumPy array of shape (3, 3) with values from 1 to 9. Normalize the array (i.e., scale the values to have a mean of 0 and a standard deviation of 1)."
   ]
  },
  {
   "cell_type": "code",
   "execution_count": 26,
   "metadata": {},
   "outputs": [
    {
     "name": "stdout",
     "output_type": "stream",
     "text": [
      "original array\n",
      " [[1 6 8]\n",
      " [4 3 3]\n",
      " [8 2 5]]\n",
      "normalized array\n",
      " [[-1.45811735  0.65850461  1.50515339]\n",
      " [-0.18814417 -0.61146856 -0.61146856]\n",
      " [ 1.50515339 -1.03479296  0.23518022]]\n"
     ]
    }
   ],
   "source": [
    "array =np.random.randint(1,9, size=(3,3))\n",
    "\n",
    "#Print the array\n",
    "print(\"original array\\n\",array)\n",
    "\n",
    "#Normaliza the array\n",
    "normalized_array = (array - np.mean(array)) / (np.std(array))\n",
    "print(\"normalized array\\n\",normalized_array)"
   ]
  },
  {
   "cell_type": "markdown",
   "metadata": {},
   "source": [
    "### 5: Broadcasting\n",
    "\n",
    "1. Create a NumPy array of shape (3, 3) filled with random integers. Add a 1D array of shape (3,) to each row of the 2D array using broadcasting."
   ]
  },
  {
   "cell_type": "code",
   "execution_count": 27,
   "metadata": {},
   "outputs": [
    {
     "name": "stdout",
     "output_type": "stream",
     "text": [
      "original array\n",
      " [[15  6  9]\n",
      " [ 7  7 14]\n",
      " [ 5 11 13]]\n",
      "1 Dimensional array\n",
      " [13  6  8]\n",
      "result\n",
      " [[28 12 17]\n",
      " [20 13 22]\n",
      " [18 17 21]]\n"
     ]
    }
   ],
   "source": [
    "array = np.random.randint(1,16, size=(3,3))\n",
    "row_array =np.random.randint(1,16, size=(3,))\n",
    "\n",
    "#Print the array\n",
    "print(\"original array\\n\",array)\n",
    "print(\"1 Dimensional array\\n\",row_array)\n",
    "\n",
    "#Add the 1D array to each row of the 2D array using broadcasting\n",
    "\n",
    "result = array + row_array\n",
    "print(\"result\\n\",result)"
   ]
  },
  {
   "cell_type": "markdown",
   "metadata": {},
   "source": [
    "2. Create a NumPy array of shape (4, 4) filled with random integers. Subtract a 1D array of shape (4,) from each column of the 2D array using broadcasting."
   ]
  },
  {
   "cell_type": "code",
   "execution_count": 29,
   "metadata": {},
   "outputs": [
    {
     "name": "stdout",
     "output_type": "stream",
     "text": [
      "original array\n",
      " [[ 2  7  9  4]\n",
      " [ 2 12  9 12]\n",
      " [13  5 10  7]\n",
      " [ 2  1 11 13]]\n",
      "1 Dimensional array\n",
      " [ 2  8  2 11]\n",
      "result\n",
      " [[  0   5   7   2]\n",
      " [ -6   4   1   4]\n",
      " [ 11   3   8   5]\n",
      " [ -9 -10   0   2]]\n"
     ]
    }
   ],
   "source": [
    "array = np.random.randint(1,16, size=(4,4))\n",
    "column_array =np.random.randint(1,16, size=(4,))\n",
    "\n",
    "#Print the array\n",
    "print(\"original array\\n\",array)\n",
    "print(\"1 Dimensional array\\n\",column_array)\n",
    "\n",
    "#Subtract the 1D array  from each column of the 2D array using broadcasting.\n",
    "\n",
    "result = array - column_array[:, np.newaxis]\n",
    "print(\"result\\n\",result)"
   ]
  },
  {
   "cell_type": "markdown",
   "metadata": {},
   "source": [
    "### 6: Linear Algebra\n",
    "\n",
    "1. Create a NumPy array of shape (3, 3) representing a matrix. Compute its determinant, inverse, and eigenvalues."
   ]
  },
  {
   "cell_type": "code",
   "execution_count": 31,
   "metadata": {},
   "outputs": [
    {
     "name": "stdout",
     "output_type": "stream",
     "text": [
      "original matrix\n",
      " [[14 15  6]\n",
      " [ 5  7 11]\n",
      " [15  7 14]]\n",
      "determinant\n",
      " 1299.0000000000002\n",
      "inverse\n",
      " [[ 0.01616628 -0.12933025  0.09468822]\n",
      " [ 0.07313318  0.08160123 -0.09545804]\n",
      " [-0.05388761  0.09776751  0.01770593]]\n",
      "eigenvalues\n",
      " EigResult(eigenvalues=array([31.55068836+0.j        ,  1.72465582+6.18040498j,\n",
      "        1.72465582-6.18040498j]), eigenvectors=array([[ 0.59669151+0.j        , -0.6257617 +0.j        ,\n",
      "        -0.6257617 -0.j        ],\n",
      "       [ 0.42617611+0.j        ,  0.37513938-0.42335225j,\n",
      "         0.37513938+0.42335225j],\n",
      "       [ 0.67995085+0.j        ,  0.34239159+0.41380383j,\n",
      "         0.34239159-0.41380383j]]))\n"
     ]
    }
   ],
   "source": [
    "matrix = np.random.randint(1,16, size=(3,3))\n",
    "\n",
    "#Print the matrix\n",
    "print(\"original matrix\\n\",matrix)\n",
    "\n",
    "#Compute its determinant\n",
    "determinant = np.linalg.det(matrix)\n",
    "print(\"determinant\\n\",determinant)\n",
    "\n",
    "#Compute its inverse\n",
    "inverse = np.linalg.inv(matrix)\n",
    "print(\"inverse\\n\",inverse)\n",
    "\n",
    "#compute its eigenvalues\n",
    "eigenvalues = np.linalg.eig(matrix)\n",
    "print(\"eigenvalues\\n\",eigenvalues)\n"
   ]
  },
  {
   "cell_type": "markdown",
   "metadata": {},
   "source": [
    "2. Create two NumPy arrays of shape (2, 3) and (3, 2). Perform matrix multiplication on these arrays."
   ]
  },
  {
   "cell_type": "code",
   "execution_count": 35,
   "metadata": {},
   "outputs": [
    {
     "name": "stdout",
     "output_type": "stream",
     "text": [
      "original array1\n",
      " [[12 11  1]\n",
      " [12 10  8]]\n",
      "original array2\n",
      " [[ 9  1]\n",
      " [ 1 15]\n",
      " [ 2 14]]\n",
      "matrix multiplication result\n",
      " [[121 191]\n",
      " [134 274]]\n"
     ]
    }
   ],
   "source": [
    "array1 = np.random.randint(1,16, size=(2,3))\n",
    "array2 = np.random.randint(1,16, size=(3,2))\n",
    "\n",
    "#Print the array\n",
    "print(\"original array1\\n\",array1)\n",
    "print(\"original array2\\n\",array2)\n",
    "\n",
    "#Perform matrix multiplication\n",
    "dot_product = np.dot(array1,array2)\n",
    "print(\"matrix multiplication result\\n\",dot_product)"
   ]
  },
  {
   "cell_type": "markdown",
   "metadata": {},
   "source": [
    "### 7: Advanced Array Manipulation\n",
    "\n",
    "1. Create a NumPy array of shape (3, 3) with values from 1 to 9. Reshape the array to shape (1, 9) and then to shape (9, 1)."
   ]
  },
  {
   "cell_type": "code",
   "execution_count": 36,
   "metadata": {},
   "outputs": [
    {
     "name": "stdout",
     "output_type": "stream",
     "text": [
      "original array\n",
      " [[7 6 2]\n",
      " [2 5 4]\n",
      " [6 5 5]]\n",
      "reshaped array1 (1,9)\n",
      " [[7 6 2 2 5 4 6 5 5]]\n",
      "reshaped array2 (9,1)\n",
      " [[7]\n",
      " [6]\n",
      " [2]\n",
      " [2]\n",
      " [5]\n",
      " [4]\n",
      " [6]\n",
      " [5]\n",
      " [5]]\n"
     ]
    }
   ],
   "source": [
    "array = np.random.randint(1,9, size=(3,3))\n",
    "\n",
    "#Print the array\n",
    "print(\"original array\\n\",array)\n",
    "\n",
    "#Reshape the array to shape (1,9)\n",
    "reshaped_array1 = array.reshape(1,9)\n",
    "print(\"reshaped array1 (1,9)\\n\",reshaped_array1)\n",
    "\n",
    "#Reshape the array to shape (9,1)\n",
    "reshaped_array2 = array.reshape(9,1)\n",
    "print(\"reshaped array2 (9,1)\\n\",reshaped_array2)"
   ]
  },
  {
   "cell_type": "markdown",
   "metadata": {},
   "source": [
    "2. Create a NumPy array of shape (5, 5) filled with random integers. Flatten the array and then reshape it back to (5, 5)."
   ]
  },
  {
   "cell_type": "code",
   "execution_count": 38,
   "metadata": {},
   "outputs": [
    {
     "name": "stdout",
     "output_type": "stream",
     "text": [
      "original array\n",
      " [[12 12 11 10 14]\n",
      " [ 7  3  7  8  4]\n",
      " [ 2 12  4  1  3]\n",
      " [ 6  8 10  4 13]\n",
      " [ 5 11  4  2  5]]\n",
      "flattened array\n",
      " [12 12 11 10 14  7  3  7  8  4  2 12  4  1  3  6  8 10  4 13  5 11  4  2\n",
      "  5]\n",
      "reshaped array\n",
      " [[12 12 11 10 14]\n",
      " [ 7  3  7  8  4]\n",
      " [ 2 12  4  1  3]\n",
      " [ 6  8 10  4 13]\n",
      " [ 5 11  4  2  5]]\n"
     ]
    }
   ],
   "source": [
    "array = np.random.randint(1,16, size=(5,5))\n",
    "\n",
    "#Print the array\n",
    "print(\"original array\\n\",array)\n",
    "\n",
    "#Flatten the array\n",
    "flattened_array = array.flatten()\n",
    "print(\"flattened array\\n\",flattened_array)\n",
    "\n",
    "#reshape the flatten array to shape (5,5)\n",
    "reshaped_array = flattened_array.reshape(5,5)\n",
    "print(\"reshaped array\\n\",reshaped_array)"
   ]
  },
  {
   "cell_type": "markdown",
   "metadata": {},
   "source": [
    "###  8: Fancy Indexing and Boolean Indexing\n",
    "\n",
    "1. Create a NumPy array of shape (5, 5) filled with random integers. Use fancy indexing to extract the elements at the corners of the array."
   ]
  },
  {
   "cell_type": "code",
   "execution_count": 39,
   "metadata": {},
   "outputs": [
    {
     "name": "stdout",
     "output_type": "stream",
     "text": [
      "original array\n",
      " [[13  3  8  1  6]\n",
      " [12  7 14 12  1]\n",
      " [ 3  6 14  4 10]\n",
      " [13 13  8 10 12]\n",
      " [ 9 15  4  2  8]]\n",
      "corner elements\n",
      " [13  6  9  8]\n"
     ]
    }
   ],
   "source": [
    "array = np.random.randint(1,16, size=(5,5))\n",
    "\n",
    "#Print the array\n",
    "print(\"original array\\n\",array)\n",
    "\n",
    "#Use fancy indexing to extract the elements at the corners of the array.\n",
    "\n",
    "corner_elements = array[[0,0,4,4],[0,4,0,4]]\n",
    "print(\"corner elements\\n\",corner_elements)"
   ]
  },
  {
   "cell_type": "markdown",
   "metadata": {},
   "source": [
    "2. Create a NumPy array of shape (4, 4) filled with random integers. Use boolean indexing to set all elements greater than 10 to 10."
   ]
  },
  {
   "cell_type": "code",
   "execution_count": 40,
   "metadata": {},
   "outputs": [
    {
     "name": "stdout",
     "output_type": "stream",
     "text": [
      "original array\n",
      " [[ 2 13  2 14]\n",
      " [ 1  6 14  5]\n",
      " [15  3  6  1]\n",
      " [13 10  9  4]]\n",
      "modified array\n",
      " [[ 2 10  2 10]\n",
      " [ 1  6 10  5]\n",
      " [10  3  6  1]\n",
      " [10 10  9  4]]\n"
     ]
    }
   ],
   "source": [
    "array = np.random.randint(1,16, size=(4,4))\n",
    "\n",
    "#Print the array\n",
    "print(\"original array\\n\",array)\n",
    "\n",
    "#Use boolean indexing to set all elements greater than 10 to 10.\n",
    "\n",
    "array[array > 10] = 10\n",
    "print(\"modified array\\n\",array)"
   ]
  },
  {
   "cell_type": "markdown",
   "metadata": {},
   "source": [
    "### 9: Structured Arrays\n",
    "\n",
    "1. Create a structured array with fields 'name' (string), 'age' (integer), and 'weight' (float). Add some data and sort the array by age."
   ]
  },
  {
   "cell_type": "code",
   "execution_count": 43,
   "metadata": {},
   "outputs": [
    {
     "name": "stdout",
     "output_type": "stream",
     "text": [
      "structured array\n",
      " [('Alice', 45, 55. ) ('Bob', 30, 60.5) ('Charlie', 35, 65. )]\n",
      "sorted array\n",
      " [('Bob', 30, 60.5) ('Charlie', 35, 65. ) ('Alice', 45, 55. )]\n"
     ]
    }
   ],
   "source": [
    "# Create a structured array with fields 'name', 'age', and 'weight'\n",
    "data_type = [('name', 'U10'), ('age', 'i4'), ('weight', 'f4')]\n",
    "data = np.array([('Alice', 45, 55.0), ('Bob', 30, 60.5), ('Charlie', 35, 65.0)], dtype=data_type)\n",
    "\n",
    "# Print the structured array\n",
    "print(\"structured array\\n\",data)\n",
    "\n",
    "# Sort the structured array by age\n",
    "sorted_data = np.sort(data, order='age')\n",
    "print(\"sorted array\\n\",sorted_data)"
   ]
  },
  {
   "cell_type": "markdown",
   "metadata": {},
   "source": [
    "2. Create a structured array with fields 'x' and 'y' (both integers). Add some data and compute the Euclidean distance between each pair of points."
   ]
  },
  {
   "cell_type": "code",
   "execution_count": 45,
   "metadata": {},
   "outputs": [
    {
     "name": "stdout",
     "output_type": "stream",
     "text": [
      "structured array\n",
      " [(1, 10) (3,  4)]\n",
      "Euclidean distances\n",
      " [[0.         6.32455532]\n",
      " [6.32455532 0.        ]]\n"
     ]
    }
   ],
   "source": [
    "data_type = [('x', 'i4'), ('y', 'i4')]\n",
    "data = np.array([(1, 10), (3, 4)], dtype=data_type)\n",
    "print(\"structured array\\n\",data)\n",
    "\n",
    "#compute the Euclidean distance between each pair of points\n",
    "distances = np.sqrt((data['x'][:, np.newaxis] - data['x'])**2 + (data['y'][:, np.newaxis] - data['y'])**2)\n",
    "print(\"Euclidean distances\\n\",distances)"
   ]
  },
  {
   "cell_type": "markdown",
   "metadata": {},
   "source": [
    "### 10: Masked Arrays\n",
    "\n",
    "1. Create a masked array of shape (4, 4) with random integers and mask the elements greater than 10. Compute the sum of the unmasked elements."
   ]
  },
  {
   "cell_type": "code",
   "execution_count": 47,
   "metadata": {},
   "outputs": [
    {
     "name": "stdout",
     "output_type": "stream",
     "text": [
      "original array\n",
      " [[10  1 15  4]\n",
      " [15  5  4  6]\n",
      " [11 11  7  2]\n",
      " [ 8  9  8 10]]\n",
      "masked array\n",
      " [[10 1 -- 4]\n",
      " [-- 5 4 6]\n",
      " [-- -- 7 2]\n",
      " [8 9 8 10]]\n",
      "sum of unmasked elements\n",
      " 74\n"
     ]
    }
   ],
   "source": [
    "import numpy.ma as ma\n",
    "array =np.random.randint(1,16, size=(4,4))\n",
    "\n",
    "#Print the array\n",
    "print(\"original array\\n\",array)\n",
    "\n",
    "masked_array = ma.masked_greater(array,10)\n",
    "print(\"masked array\\n\",masked_array)\n",
    "\n",
    "#compute the sum of unmasked elements\n",
    "sum_unmasked = masked_array.sum()\n",
    "print(\"sum of unmasked elements\\n\",sum_unmasked)"
   ]
  },
  {
   "cell_type": "markdown",
   "metadata": {},
   "source": [
    "2. Create a masked array of shape (3, 3) with random integers and mask the diagonal elements. Replace the masked elements with the mean of the unmasked elements."
   ]
  },
  {
   "cell_type": "code",
   "execution_count": 48,
   "metadata": {},
   "outputs": [
    {
     "name": "stdout",
     "output_type": "stream",
     "text": [
      "original array\n",
      " [[ 9  5 12]\n",
      " [ 9 14  6]\n",
      " [ 3  5  4]]\n",
      "masked array\n",
      " [[-- 5 12]\n",
      " [9 -- 6]\n",
      " [3 5 --]]\n",
      "mean of unmasked elements\n",
      " 6.666666666666667\n",
      "masked array\n",
      " [[ 6  5 12]\n",
      " [ 9  6  6]\n",
      " [ 3  5  6]]\n"
     ]
    }
   ],
   "source": [
    "array =np.random.randint(1,16, size=(3,3))\n",
    "\n",
    "#Print the array\n",
    "print(\"original array\\n\",array)\n",
    "\n",
    "masked_array = ma.masked_array(array,mask=np.eye(3, dtype=bool))\n",
    "print(\"masked array\\n\",masked_array)\n",
    "\n",
    "#find the mean of the non-masked elements\n",
    "mean_unmasked = masked_array.mean()\n",
    "print(\"mean of unmasked elements\\n\",mean_unmasked)\n",
    "\n",
    "#replace the masked elements with the mean of the non-masked elements\n",
    "masked_array = masked_array.filled(mean_unmasked)\n",
    "print(\"masked array\\n\",masked_array)"
   ]
  }
 ],
 "metadata": {
  "kernelspec": {
   "display_name": "Python 3",
   "language": "python",
   "name": "python3"
  },
  "language_info": {
   "codemirror_mode": {
    "name": "ipython",
    "version": 3
   },
   "file_extension": ".py",
   "mimetype": "text/x-python",
   "name": "python",
   "nbconvert_exporter": "python",
   "pygments_lexer": "ipython3",
   "version": "3.10.0"
  }
 },
 "nbformat": 4,
 "nbformat_minor": 2
}
