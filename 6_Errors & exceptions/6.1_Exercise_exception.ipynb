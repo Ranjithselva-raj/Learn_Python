{
 "cells": [
  {
   "cell_type": "code",
   "execution_count": 4,
   "metadata": {},
   "outputs": [
    {
     "name": "stdout",
     "output_type": "stream",
     "text": [
      "Execution Done\n"
     ]
    },
    {
     "data": {
      "text/plain": [
       "2.5"
      ]
     },
     "execution_count": 4,
     "metadata": {},
     "output_type": "execute_result"
    }
   ],
   "source": [
    "# Module: Exception Handling \n",
    "## Lesson: Exception Handling with try, except, and finally\n",
    "###1: Handling Division by Zero\n",
    "\n",
    "#Write a function that takes two integers as input and returns their division. Use try, except, and finally\n",
    "#  blocks to handle division by zero and print an appropriate message.\n",
    "\n",
    "def divide(a,b):\n",
    "    try:\n",
    "        result = a/b\n",
    "        return result\n",
    "    except ZeroDivisionError as err:\n",
    "        print(f\"Error : {err}\")\n",
    "        result = None\n",
    "    except Exception as err:\n",
    "        print(err)\n",
    "    finally:\n",
    "        print(\"Execution Done\")\n",
    "    return result\n",
    "\n",
    "divide(5,2)\n",
    "    "
   ]
  },
  {
   "cell_type": "code",
   "execution_count": 9,
   "metadata": {},
   "outputs": [
    {
     "name": "stdout",
     "output_type": "stream",
     "text": [
      "File closed\n"
     ]
    },
    {
     "data": {
      "text/plain": [
       "'hi'"
      ]
     },
     "execution_count": 9,
     "metadata": {},
     "output_type": "execute_result"
    }
   ],
   "source": [
    "###2: File Reading with Exception Handling\n",
    "\n",
    "#Write a function that reads the contents of a file named `data.txt`. Use try, except, and finally blocks to handle file not\n",
    "# found errors and ensure the file is properly closed.\n",
    "\n",
    "def read_file(filename):\n",
    "    try:\n",
    "        with open(filename, 'r') as file:\n",
    "            content = file.read()\n",
    "            return content\n",
    "    except FileNotFoundError as err:\n",
    "        print(f\"error: {err}\")\n",
    "    except Exception as err:\n",
    "        print(err)\n",
    "    finally:\n",
    "        print(\"File closed\")\n",
    "    return content\n",
    "\n",
    "read_file('data.txt')"
   ]
  },
  {
   "cell_type": "code",
   "execution_count": 14,
   "metadata": {},
   "outputs": [
    {
     "name": "stdout",
     "output_type": "stream",
     "text": [
      "Execution Done\n"
     ]
    },
    {
     "data": {
      "text/plain": [
       "21"
      ]
     },
     "execution_count": 14,
     "metadata": {},
     "output_type": "execute_result"
    }
   ],
   "source": [
    "###3: Handling Multiple Exceptions\n",
    "#Write a function that takes a list of integers and returns their sum. Use try, except, and finally blocks to handle TypeError\n",
    "#  if a non-integer value is encountered and print an appropriate message.\n",
    "\n",
    "def sum_integers(numbers):\n",
    "    try:\n",
    "        result = sum(numbers)\n",
    "        return result\n",
    "    except TypeError as err:\n",
    "        print(f\"Error : {err}\")\n",
    "        result = None\n",
    "    except Exception as err:\n",
    "        print(err)\n",
    "        result = None\n",
    "    finally:\n",
    "        print(\"Execution Done\")\n",
    "    return result\n",
    "\n",
    "sum_integers([1,2,3,4,5,6])\n"
   ]
  },
  {
   "cell_type": "code",
   "execution_count": 17,
   "metadata": {},
   "outputs": [
    {
     "name": "stdout",
     "output_type": "stream",
     "text": [
      "Error: invalid literal for int() with base 10: 'a'\n",
      "Execution Done\n"
     ]
    }
   ],
   "source": [
    "###4: Exception Handling in User Input\n",
    "\n",
    "#Write a function that prompts the user to enter an integer. Use try, except, and finally blocks to handle ValueError \n",
    "# if the user enters a non-integer value and print an appropriate message.\n",
    "\n",
    "def get_integer():\n",
    "    try:\n",
    "        number = int(input(\"Enter an integer: \"))\n",
    "        return number\n",
    "    except ValueError as err:\n",
    "        print(f\"Error: {err}\")\n",
    "        number = None\n",
    "    except Exception as err:\n",
    "        print(err)\n",
    "        number = None\n",
    "    finally:\n",
    "        print(\"Execution Done\")\n",
    "    return number\n",
    "     \n",
    "\n",
    "get_integer()\n"
   ]
  },
  {
   "cell_type": "code",
   "execution_count": 19,
   "metadata": {},
   "outputs": [
    {
     "name": "stdout",
     "output_type": "stream",
     "text": [
      "Execution Done\n"
     ]
    },
    {
     "data": {
      "text/plain": [
       "3"
      ]
     },
     "execution_count": 19,
     "metadata": {},
     "output_type": "execute_result"
    }
   ],
   "source": [
    "###5: Exception Handling in Dictionary Access\n",
    "#Write a function that takes a dictionary and a key as input and returns the value associated with the key. \n",
    "#Use try, except, and finally blocks to handle KeyError if the key is not found in the dictionary and print an appropriate message.\n",
    "\n",
    "def get_value(dictionary, key):\n",
    "    try:\n",
    "        value = dictionary[key]\n",
    "        return value\n",
    "    except KeyError as err:\n",
    "        print(f\"Error: {err}\")\n",
    "        value = None\n",
    "    except Exception as err:\n",
    "        print(err)\n",
    "        value = None\n",
    "    finally:\n",
    "        print(\"Execution Done\")\n",
    "    return value\n",
    "\n",
    "get_value({'a': 1, 'b': 2, 'c': 3}, 'c')\n"
   ]
  },
  {
   "cell_type": "code",
   "execution_count": 20,
   "metadata": {},
   "outputs": [
    {
     "name": "stdout",
     "output_type": "stream",
     "text": [
      "Conversion attempt complete.\n",
      "Division attempt complete.\n",
      "Overall execution complete.\n"
     ]
    },
    {
     "data": {
      "text/plain": [
       "2.0"
      ]
     },
     "execution_count": 20,
     "metadata": {},
     "output_type": "execute_result"
    }
   ],
   "source": [
    "###6: Nested Exception Handling\n",
    "\n",
    "#Write a function that performs nested exception handling. It should first attempt to convert a string to an integer, \n",
    "# and then attempt to divide by that integer. Use nested try, except, and finally blocks to handle ValueError \n",
    "# and ZeroDivisionError and print appropriate messages.\n",
    "\n",
    "\n",
    "def nested_exception_handling(s):\n",
    "    try:\n",
    "        try:\n",
    "            num = int(s)\n",
    "        except ValueError as e:\n",
    "            print(f\"Conversion error: {e}\")\n",
    "            num = None\n",
    "        finally:\n",
    "            print(\"Conversion attempt complete.\")\n",
    "        if num is not None:\n",
    "            try:\n",
    "                result = 10 / num\n",
    "            except ZeroDivisionError as e:\n",
    "                print(f\"Division error: {e}\")\n",
    "                result = None\n",
    "            finally:\n",
    "                print(\"Division attempt complete.\")\n",
    "            return result\n",
    "    finally:\n",
    "        print(\"Overall execution complete.\")\n",
    "\n",
    "\n",
    "nested_exception_handling(\"5\")"
   ]
  },
  {
   "cell_type": "code",
   "execution_count": 22,
   "metadata": {},
   "outputs": [
    {
     "name": "stdout",
     "output_type": "stream",
     "text": [
      "Execution Done\n",
      "Execution Done\n"
     ]
    },
    {
     "data": {
      "text/plain": [
       "'grape'"
      ]
     },
     "execution_count": 22,
     "metadata": {},
     "output_type": "execute_result"
    }
   ],
   "source": [
    "###7: Exception Handling in List Operations\n",
    "\n",
    "#Write a function that takes a list and an index as input and returns the element at the given index. \n",
    "#Use try, except, and finally blocks to handle IndexError if the index is out of range and print an appropriate message.\n",
    "\n",
    "\n",
    "def get_element(list, index):\n",
    "    try:\n",
    "        element = list[index]\n",
    "        return element\n",
    "    except IndexError as err:\n",
    "        print(f\"Error: {err}\")\n",
    "        element = None\n",
    "    except Exception as err:\n",
    "        print(err)\n",
    "        element = None\n",
    "    finally:\n",
    "        print(\"Execution Done\")\n",
    "    return element\n",
    "\n",
    "get_element([1, 2, 3, 4, 5], 3)\n",
    "fruit = ['apple', 'banana', 'orange', 'kiwi', 'grape']\n",
    "get_element(fruit, 4)\n"
   ]
  },
  {
   "cell_type": "code",
   "execution_count": null,
   "metadata": {},
   "outputs": [],
   "source": [
    "###8: Exception Handling in Network Operations\n",
    "#Write a function that attempts to open a URL and read its contents. \n",
    "#Use try, except, and finally blocks to handle network-related errors and print an appropriate message.\n",
    "\n",
    "import requests\n",
    "def read_url(url):\n",
    "    try:\n",
    "        response = requests.get(url)\n",
    "        return response.text\n",
    "    except requests.exceptions.RequestException as err:\n",
    "        print(f\"Network Error: {err}\")\n",
    "    except Exception as err:\n",
    "        print(err)\n",
    "    finally:\n",
    "        print(\"Execution Done\")\n",
    "\n",
    "print(read_url('https://google.com'))\n",
    "\n"
   ]
  },
  {
   "cell_type": "code",
   "execution_count": 30,
   "metadata": {},
   "outputs": [
    {
     "name": "stdout",
     "output_type": "stream",
     "text": [
      "Execution Done\n",
      "{'name': 'John', 'age': 30, 'city': 'New York'}\n"
     ]
    }
   ],
   "source": [
    "###9: Exception Handling in JSON Parsing\n",
    "\n",
    "#Write a function that attempts to parse a JSON string. \n",
    "#Use try, except, and finally blocks to handle JSONDecodeError if the string is not a valid JSON and print an appropriate message.\n",
    "import json\n",
    "def parse_json(json_str):\n",
    "    try:\n",
    "        parsed = json.loads(json_str)\n",
    "        return parsed\n",
    "    except json.JSONDecodeError as err:\n",
    "        print(f\"Error: {err}\")\n",
    "        parsed = None\n",
    "    except Exception as err:\n",
    "        print(err)\n",
    "        parsed = None\n",
    "    finally:\n",
    "        print(\"Execution Done\")\n",
    "    return parsed\n",
    "\n",
    "\n",
    "json_str = '{\"name\": \"John\", \"age\": 30, \"city\": \"New York\"}'\n",
    "\n",
    "parsed = parse_json(json_str)\n",
    "print(parsed)"
   ]
  },
  {
   "cell_type": "code",
   "execution_count": 40,
   "metadata": {},
   "outputs": [
    {
     "name": "stdout",
     "output_type": "stream",
     "text": [
      "Error: [-3, -4, -5] is a negative numbers in the list.\n",
      "Execution Done\n"
     ]
    }
   ],
   "source": [
    "###10: Custom Exception Handling\n",
    "\n",
    "#Define a custom exception named `NegativeNumberError`. \n",
    "#Write a function that raises this exception if a negative number is encountered in a list.\n",
    "#Use try, except, and finally blocks to handle the custom exception and print an appropriate message.\n",
    "\n",
    "class NegativeNumberError(Exception):\n",
    "    pass\n",
    "\n",
    "def check_negative_numbers(lst):\n",
    "    try:\n",
    "        negative_numbers = []\n",
    "        for num in lst:\n",
    "            if num < 0:\n",
    "                negative_numbers.append(num)\n",
    "        raise NegativeNumberError(f\"{negative_numbers} is a negative numbers in the list.\")\n",
    "    except NegativeNumberError as err:\n",
    "        print(f\"Error: {err}\") \n",
    "    except Exception as err:\n",
    "        print(err)\n",
    "    finally:\n",
    "        print(\"Execution Done\")\n",
    "\n",
    "check_negative_numbers([1, 2, -3, -4, 5,-5,])"
   ]
  },
  {
   "cell_type": "code",
   "execution_count": 42,
   "metadata": {},
   "outputs": [
    {
     "name": "stdout",
     "output_type": "stream",
     "text": [
      "Error: An error occurred in risky_function.\n",
      "Execution complete.\n"
     ]
    }
   ],
   "source": [
    "###11: Exception Handling in Function Calls\n",
    "\n",
    "#Write a function that calls another function which may raise an exception. \n",
    "#Use try, except, and finally blocks to handle the exception and print an appropriate message.\n",
    "\n",
    "def risky_function():\n",
    "    raise ValueError(\"An error occurred in risky_function.\")\n",
    "\n",
    "def safe_function():\n",
    "    try:\n",
    "        risky_function()\n",
    "    except ValueError as e:\n",
    "        print(f\"Error: {e}\")\n",
    "    finally:\n",
    "        print(\"Execution complete.\")\n",
    "\n",
    "safe_function()"
   ]
  },
  {
   "cell_type": "code",
   "execution_count": 44,
   "metadata": {},
   "outputs": [
    {
     "name": "stdout",
     "output_type": "stream",
     "text": [
      "Execution Done\n"
     ]
    },
    {
     "data": {
      "text/plain": [
       "2.5"
      ]
     },
     "execution_count": 44,
     "metadata": {},
     "output_type": "execute_result"
    }
   ],
   "source": [
    "###12: Exception Handling in Class Methods\n",
    "#Define a class with a method that performs a division operation. \n",
    "# Use try, except, and finally blocks within the method to handle division by zero and print an appropriate message.\n",
    "\n",
    "class calculator:\n",
    "    def divide(self, a, b):\n",
    "        try:\n",
    "            result = a / b\n",
    "            return result\n",
    "        except ZeroDivisionError as err:\n",
    "            print(f\"Error: {err}\")\n",
    "            result = None\n",
    "        except Exception as err:\n",
    "            print(err)\n",
    "            result = None\n",
    "        finally:\n",
    "            print(\"Execution Done\")\n",
    "        return result\n",
    "\n",
    "calc = calculator()\n",
    "calc.divide(5, 2)\n"
   ]
  },
  {
   "cell_type": "code",
   "execution_count": 48,
   "metadata": {},
   "outputs": [
    {
     "name": "stdout",
     "output_type": "stream",
     "text": [
      "Execution Done\n",
      "[1, 2, 3, 4, 5]\n"
     ]
    }
   ],
   "source": [
    "###13&14: Exception Handling in Data Conversion\n",
    "#Write a function that takes a list of strings and converts them to integers. \n",
    "#Use try, except, and finally blocks to handle ValueError if a string cannot be converted and print an appropriate message.\n",
    "\n",
    "def convert_to_int(lst):\n",
    "    try:\n",
    "        result = [int(item) for item in lst]\n",
    "        return result\n",
    "    except ValueError as err:\n",
    "        print(f\"Error: {err}\")\n",
    "        result = None\n",
    "    except Exception as err:\n",
    "        print(err)\n",
    "        result = None\n",
    "    finally:\n",
    "        print(\"Execution Done\")\n",
    "    return result\n",
    "\n",
    "lst = ['1', '2', '3', '4', '5']\n",
    "result = convert_to_int(lst)\n",
    "print(result)"
   ]
  },
  {
   "cell_type": "code",
   "execution_count": 49,
   "metadata": {},
   "outputs": [],
   "source": [
    "###15: Exception Handling in File Writing\n",
    "#Write a function that attempts to write a list of strings to a file.\n",
    "#  Use try, except, and finally blocks to handle IOError and ensure the file is properly closed.\n",
    "\n",
    "def write_file(filename,content):\n",
    "    try:\n",
    "        file =open(filename,'w')\n",
    "        for line in content:\n",
    "            file.writelines(line + '\\n')\n",
    "    except IOError as err:\n",
    "        print(f\"Error: {err}\")\n",
    "    finally:\n",
    "        try:\n",
    "            file.close()\n",
    "        except Exception as err:\n",
    "            print(err)\n",
    "\n",
    "write_file('data.txt',['hi','hello','how are you?'])\n"
   ]
  }
 ],
 "metadata": {
  "kernelspec": {
   "display_name": "base",
   "language": "python",
   "name": "python3"
  },
  "language_info": {
   "codemirror_mode": {
    "name": "ipython",
    "version": 3
   },
   "file_extension": ".py",
   "mimetype": "text/x-python",
   "name": "python",
   "nbconvert_exporter": "python",
   "pygments_lexer": "ipython3",
   "version": "3.11.5"
  }
 },
 "nbformat": 4,
 "nbformat_minor": 2
}
