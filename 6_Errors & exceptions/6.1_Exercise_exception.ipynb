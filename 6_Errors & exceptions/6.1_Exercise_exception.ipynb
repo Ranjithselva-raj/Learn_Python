{
 "cells": [
  {
   "cell_type": "code",
   "execution_count": 4,
   "metadata": {},
   "outputs": [
    {
     "name": "stdout",
     "output_type": "stream",
     "text": [
      "Execution Done\n"
     ]
    },
    {
     "data": {
      "text/plain": [
       "2.5"
      ]
     },
     "execution_count": 4,
     "metadata": {},
     "output_type": "execute_result"
    }
   ],
   "source": [
    "# Module: Exception Handling \n",
    "## Lesson: Exception Handling with try, except, and finally\n",
    "###1: Handling Division by Zero\n",
    "\n",
    "#Write a function that takes two integers as input and returns their division. Use try, except, and finally\n",
    "#  blocks to handle division by zero and print an appropriate message.\n",
    "\n",
    "def divide(a,b):\n",
    "    try:\n",
    "        result = a/b\n",
    "        return result\n",
    "    except ZeroDivisionError as err:\n",
    "        print(f\"Error : {err}\")\n",
    "        result = None\n",
    "    except Exception as err:\n",
    "        print(err)\n",
    "    finally:\n",
    "        print(\"Execution Done\")\n",
    "    return result\n",
    "\n",
    "divide(5,2)\n",
    "    "
   ]
  },
  {
   "cell_type": "code",
   "execution_count": 9,
   "metadata": {},
   "outputs": [
    {
     "name": "stdout",
     "output_type": "stream",
     "text": [
      "File closed\n"
     ]
    },
    {
     "data": {
      "text/plain": [
       "'hi'"
      ]
     },
     "execution_count": 9,
     "metadata": {},
     "output_type": "execute_result"
    }
   ],
   "source": [
    "###2: File Reading with Exception Handling\n",
    "\n",
    "#Write a function that reads the contents of a file named `data.txt`. Use try, except, and finally blocks to handle file not\n",
    "# found errors and ensure the file is properly closed.\n",
    "\n",
    "def read_file(filename):\n",
    "    try:\n",
    "        with open(filename, 'r') as file:\n",
    "            content = file.read()\n",
    "            return content\n",
    "    except FileNotFoundError as err:\n",
    "        print(f\"error: {err}\")\n",
    "    except Exception as err:\n",
    "        print(err)\n",
    "    finally:\n",
    "        print(\"File closed\")\n",
    "    return content\n",
    "\n",
    "read_file('data.txt')"
   ]
  },
  {
   "cell_type": "code",
   "execution_count": 14,
   "metadata": {},
   "outputs": [
    {
     "name": "stdout",
     "output_type": "stream",
     "text": [
      "Execution Done\n"
     ]
    },
    {
     "data": {
      "text/plain": [
       "21"
      ]
     },
     "execution_count": 14,
     "metadata": {},
     "output_type": "execute_result"
    }
   ],
   "source": [
    "###3: Handling Multiple Exceptions\n",
    "#Write a function that takes a list of integers and returns their sum. Use try, except, and finally blocks to handle TypeError\n",
    "#  if a non-integer value is encountered and print an appropriate message.\n",
    "\n",
    "def sum_integers(numbers):\n",
    "    try:\n",
    "        result = sum(numbers)\n",
    "        return result\n",
    "    except TypeError as err:\n",
    "        print(f\"Error : {err}\")\n",
    "        result = None\n",
    "    except Exception as err:\n",
    "        print(err)\n",
    "        result = None\n",
    "    finally:\n",
    "        print(\"Execution Done\")\n",
    "    return result\n",
    "\n",
    "sum_integers([1,2,3,4,5,6])\n"
   ]
  },
  {
   "cell_type": "code",
   "execution_count": 17,
   "metadata": {},
   "outputs": [
    {
     "name": "stdout",
     "output_type": "stream",
     "text": [
      "Error: invalid literal for int() with base 10: 'a'\n",
      "Execution Done\n"
     ]
    }
   ],
   "source": [
    "###4: Exception Handling in User Input\n",
    "\n",
    "#Write a function that prompts the user to enter an integer. Use try, except, and finally blocks to handle ValueError \n",
    "# if the user enters a non-integer value and print an appropriate message.\n",
    "\n",
    "def get_integer():\n",
    "    try:\n",
    "        number = int(input(\"Enter an integer: \"))\n",
    "        return number\n",
    "    except ValueError as err:\n",
    "        print(f\"Error: {err}\")\n",
    "        number = None\n",
    "    except Exception as err:\n",
    "        print(err)\n",
    "        number = None\n",
    "    finally:\n",
    "        print(\"Execution Done\")\n",
    "    return number\n",
    "     \n",
    "\n",
    "get_integer()\n"
   ]
  }
 ],
 "metadata": {
  "kernelspec": {
   "display_name": "base",
   "language": "python",
   "name": "python3"
  },
  "language_info": {
   "codemirror_mode": {
    "name": "ipython",
    "version": 3
   },
   "file_extension": ".py",
   "mimetype": "text/x-python",
   "name": "python",
   "nbconvert_exporter": "python",
   "pygments_lexer": "ipython3",
   "version": "3.11.5"
  }
 },
 "nbformat": 4,
 "nbformat_minor": 2
}
