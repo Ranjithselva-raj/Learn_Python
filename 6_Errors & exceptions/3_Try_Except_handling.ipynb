{
 "cells": [
  {
   "cell_type": "code",
   "execution_count": null,
   "metadata": {},
   "outputs": [],
   "source": [
    "# try and except handles the case where there is an error and avoid crashing the program"
   ]
  },
  {
   "cell_type": "code",
   "execution_count": 1,
   "metadata": {},
   "outputs": [
    {
     "name": "stdout",
     "output_type": "stream",
     "text": [
      "Error: Denominator cannot be zero\n"
     ]
    }
   ],
   "source": [
    "# example of try and except\n",
    "n= int(input(\"Enter a numerator: \"))\n",
    "d= int(input(\"Enter a denominator: \"))\n",
    "\n",
    "try:\n",
    "    print(n/d)\n",
    "except:\n",
    "    print(\"Error: Denominator cannot be zero\")"
   ]
  },
  {
   "cell_type": "code",
   "execution_count": 3,
   "metadata": {},
   "outputs": [
    {
     "name": "stdout",
     "output_type": "stream",
     "text": [
      "Result is 5.0\n"
     ]
    }
   ],
   "source": [
    "#else block\n",
    "\n",
    "n= int(input(\"Enter a numerator: \"))\n",
    "d= int(input(\"Enter a denominator: \"))\n",
    "#execution of code happens in try block only if there is no error in try block \n",
    "try:\n",
    "    result = n/d\n",
    "#except block is executed if there is an error in try block\n",
    "except:\n",
    "    print(\"Error: Denominator cannot be zero\")\n",
    "#else block is executed if there is no error in try block\n",
    "else:\n",
    "    print(\"Result is\", result)\n",
    "\n"
   ]
  },
  {
   "cell_type": "code",
   "execution_count": 5,
   "metadata": {},
   "outputs": [
    {
     "name": "stdout",
     "output_type": "stream",
     "text": [
      "Error: Denominator cannot be zero\n",
      "End of program\n"
     ]
    }
   ],
   "source": [
    "#finally block always executes\n",
    "n= int(input(\"Enter a numerator: \"))\n",
    "d= int(input(\"Enter a denominator: \"))\n",
    "#execution of code happens in try block only if there is no error in try block \n",
    "try:\n",
    "    result = n/d\n",
    "#except block is executed if there is an error in try block\n",
    "except:\n",
    "    print(\"Error: Denominator cannot be zero\")\n",
    "#else block is executed if there is no error in try block\n",
    "else:\n",
    "    print(\"Result is\", result)\n",
    "#finally block always executes no matter if there is an error or not\n",
    "#mainly finally is used to close a file or close a connection to a database \n",
    "finally:\n",
    "    print(\"End of program\")"
   ]
  },
  {
   "cell_type": "code",
   "execution_count": 8,
   "metadata": {},
   "outputs": [
    {
     "name": "stdout",
     "output_type": "stream",
     "text": [
      "5.0\n"
     ]
    }
   ],
   "source": [
    "#write a function to divide two numbers\n",
    "\n",
    "def divides(a,b):\n",
    "    try:\n",
    "        return a/b\n",
    "    except:\n",
    "        print(\"Error: Denominator cannot be zero\")\n",
    "    \n",
    "a= int(input(\"Enter a numerator: \"))\n",
    "b= int(input(\"Enter a denominator: \"))\n",
    "result = divides(a,b)\n",
    "print(result)"
   ]
  },
  {
   "cell_type": "code",
   "execution_count": null,
   "metadata": {},
   "outputs": [],
   "source": []
  },
  {
   "cell_type": "code",
   "execution_count": null,
   "metadata": {},
   "outputs": [],
   "source": []
  },
  {
   "cell_type": "code",
   "execution_count": null,
   "metadata": {},
   "outputs": [],
   "source": []
  }
 ],
 "metadata": {
  "kernelspec": {
   "display_name": "base",
   "language": "python",
   "name": "python3"
  },
  "language_info": {
   "codemirror_mode": {
    "name": "ipython",
    "version": 3
   },
   "file_extension": ".py",
   "mimetype": "text/x-python",
   "name": "python",
   "nbconvert_exporter": "python",
   "pygments_lexer": "ipython3",
   "version": "3.11.5"
  }
 },
 "nbformat": 4,
 "nbformat_minor": 2
}
