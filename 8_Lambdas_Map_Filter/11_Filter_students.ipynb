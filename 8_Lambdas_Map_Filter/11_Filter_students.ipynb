{
 "cells": [
  {
   "cell_type": "code",
   "execution_count": 2,
   "metadata": {},
   "outputs": [],
   "source": [
    "students =[\n",
    "    {\"name\": \"Ranjith Selva\", \"age\": 20,\"score\": 70},\n",
    "    {\"name\": \"Vana Sakthi\",\"age\": 21,\"score\": 60},\n",
    "    {\"name\": \"Kairaa Ranjith\",\"age\": 10,\"score\": 80},\n",
    "    {\"name\": \"Arun\",\"age\": 22,\"score\": 90}\n",
    "]"
   ]
  },
  {
   "cell_type": "code",
   "execution_count": 3,
   "metadata": {},
   "outputs": [
    {
     "name": "stdout",
     "output_type": "stream",
     "text": [
      "[{'name': 'Arun', 'age': 22, 'score': 90}]\n"
     ]
    }
   ],
   "source": [
    "filterted_students=list(filter(lambda student:student[\"score\"]>70 and student[\"age\"]>20,students))\n",
    "\n",
    "print(filterted_students)"
   ]
  },
  {
   "cell_type": "code",
   "execution_count": null,
   "metadata": {},
   "outputs": [],
   "source": []
  }
 ],
 "metadata": {
  "kernelspec": {
   "display_name": "base",
   "language": "python",
   "name": "python3"
  },
  "language_info": {
   "codemirror_mode": {
    "name": "ipython",
    "version": 3
   },
   "file_extension": ".py",
   "mimetype": "text/x-python",
   "name": "python",
   "nbconvert_exporter": "python",
   "pygments_lexer": "ipython3",
   "version": "3.11.5"
  }
 },
 "nbformat": 4,
 "nbformat_minor": 2
}
