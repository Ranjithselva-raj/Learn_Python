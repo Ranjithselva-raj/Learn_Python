{
 "cells": [
  {
   "cell_type": "markdown",
   "metadata": {},
   "source": [
    "Generator function in python is just like normal function but returns an iterators in obj\n",
    "Generators are similar to list but list store the content in memory but generators not and cant do indexing like list "
   ]
  },
  {
   "cell_type": "markdown",
   "metadata": {},
   "source": [
    "how you can identify the normal function and generator function \n",
    "regular function contains return statement but generator function yield statement"
   ]
  },
  {
   "cell_type": "code",
   "execution_count": 1,
   "metadata": {},
   "outputs": [
    {
     "name": "stdout",
     "output_type": "stream",
     "text": [
      "<generator object func at 0x000001DCBE0C9D80>\n"
     ]
    }
   ],
   "source": [
    "#creates the generator object and returns\n",
    "def func():\n",
    "    counter=0\n",
    "    while counter<10:\n",
    "        yield counter\n",
    "        counter+=1\n",
    "print(func())"
   ]
  },
  {
   "cell_type": "code",
   "execution_count": 3,
   "metadata": {},
   "outputs": [
    {
     "name": "stdout",
     "output_type": "stream",
     "text": [
      "[0, 1, 2, 3, 4, 5, 6, 7, 8, 9]\n"
     ]
    }
   ],
   "source": [
    "#prints the values in the generator\n",
    "gen=list(func())\n",
    "print(gen)"
   ]
  },
  {
   "cell_type": "code",
   "execution_count": 7,
   "metadata": {},
   "outputs": [
    {
     "name": "stdout",
     "output_type": "stream",
     "text": [
      "[1, 3, 5, 7, 9, 11, 13, 15, 17, 19, 21, 23, 25, 27, 29, 31, 33, 35, 37, 39, 41, 43, 45, 47, 49]\n"
     ]
    }
   ],
   "source": [
    "#Using yield keyword in generator function to return even numbers in a list using for loop\n",
    "def even_generator(x):\n",
    "    for i in range(x):\n",
    "        if i%2!=0:\n",
    "            yield i\n",
    "\n",
    "print(list(even_generator(50)))"
   ]
  }
 ],
 "metadata": {
  "kernelspec": {
   "display_name": "base",
   "language": "python",
   "name": "python3"
  },
  "language_info": {
   "codemirror_mode": {
    "name": "ipython",
    "version": 3
   },
   "file_extension": ".py",
   "mimetype": "text/x-python",
   "name": "python",
   "nbconvert_exporter": "python",
   "pygments_lexer": "ipython3",
   "version": "3.11.5"
  }
 },
 "nbformat": 4,
 "nbformat_minor": 2
}
