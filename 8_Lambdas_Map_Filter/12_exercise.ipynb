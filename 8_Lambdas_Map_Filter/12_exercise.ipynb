{
 "cells": [
  {
   "cell_type": "markdown",
   "metadata": {},
   "source": [
    "#Advanced Functions Exercise\n",
    "#Defining Functions\n",
    "###1: Fibonacci Sequence with Memoization\n",
    "\n",
    "Define a recursive function to calculate the nth Fibonacci number using memoization. Test the function with different inputs."
   ]
  },
  {
   "cell_type": "code",
   "execution_count": 7,
   "metadata": {},
   "outputs": [
    {
     "name": "stdout",
     "output_type": "stream",
     "text": [
      "10946\n",
      "6765\n"
     ]
    }
   ],
   "source": [
    "#1.Define a recursive function to calculate the nth Fibonacci number using memoization. Test the function with different inputs.\n",
    "\n",
    "def fib(n,memo={}):\n",
    "    if n in memo:\n",
    "        return memo[n]\n",
    "    if n <=1:\n",
    "        return 1\n",
    "    memo[n]=fib(n-1,memo) + fib(n-2,memo)\n",
    "    return memo[n]\n",
    "\n",
    "print(fib(20))\n",
    "print(fib(19))"
   ]
  },
  {
   "cell_type": "code",
   "execution_count": 13,
   "metadata": {},
   "outputs": [
    {
     "name": "stdout",
     "output_type": "stream",
     "text": [
      "573147844013817084101\n",
      "execution time for fib(200) = 0.0 seconds\n"
     ]
    }
   ],
   "source": [
    "import time\n",
    "start = time.time()\n",
    "print(fib(100))\n",
    "end = time.time()\n",
    "print(f\"execution time for fib(200) = {end - start} seconds\")"
   ]
  },
  {
   "cell_type": "code",
   "execution_count": 5,
   "metadata": {},
   "outputs": [
    {
     "name": "stdout",
     "output_type": "stream",
     "text": [
      "{3: 9}\n",
      "{1: 1, 3: 9}\n"
     ]
    }
   ],
   "source": [
    "###2: Function with Nested Default Arguments\n",
    "\n",
    "#Define a function that takes two arguments, a and b, where b is a dictionary with a default value of an empty dictionary. \n",
    "# The function should add a new key-value pair to the dictionary and return it. Test the function with different inputs.\n",
    "\n",
    "def add_to_dict(a,b=None):\n",
    "    if b is None:\n",
    "        b = {}\n",
    "    b[a]=a**2\n",
    "    return b\n",
    "\n",
    "print(add_to_dict(3))\n",
    "print(add_to_dict(3,{1:1}))"
   ]
  },
  {
   "cell_type": "code",
   "execution_count": 3,
   "metadata": {},
   "outputs": [
    {
     "name": "stdout",
     "output_type": "stream",
     "text": [
      "{'a': 1, 'b': 2, 'c': 3}\n"
     ]
    }
   ],
   "source": [
    "###3: Function with Variable Keyword Arguments\n",
    "\n",
    "#Define a function that takes a variable number of keyword arguments and returns a dictionary containing only those key-value pairs\n",
    "#where the value is an integer. Test the function with different inputs.\n",
    "\n",
    "def make_dict(**kwargs):\n",
    "    return {key:value for key,value in kwargs.items() if type(value)==int}\n",
    "\n",
    "print(make_dict(a=1,b=2,c=3,d=\"skywalker\"))\n",
    "\n"
   ]
  },
  {
   "cell_type": "code",
   "execution_count": 19,
   "metadata": {},
   "outputs": [
    {
     "name": "stdout",
     "output_type": "stream",
     "text": [
      "[1, 4, 9, 16, 25, 36, 49, 64, 81, 100]\n",
      "execution time for callback = 1.001119613647461 milliseconds\n"
     ]
    }
   ],
   "source": [
    "###4: Function with Callback\n",
    "#Define a function that takes another function as a callback and a list of integers.\n",
    "#  The function should apply the callback to each integer in the list and return a new list with the results. \n",
    "# Test with different callback functions.\n",
    "\n",
    "import time\n",
    "start = time.time()\n",
    "def apply_callback(callback,list1):\n",
    "    return [callback(x) for x in list1]\n",
    "\n",
    "numbers = [1, 2, 3, 4, 5, 6, 7, 8, 9, 10]\n",
    "output=apply_callback(lambda x: x**2,numbers)\n",
    "print(output)\n",
    "end = time.time()\n",
    "execution_time = (end - start)*1000\n",
    "print(f\"execution time for callback = {execution_time} milliseconds\")"
   ]
  },
  {
   "cell_type": "code",
   "execution_count": 20,
   "metadata": {},
   "outputs": [
    {
     "name": "stdout",
     "output_type": "stream",
     "text": [
      "[1, 4, 9, 16, 25, 36, 49, 64, 81, 100]\n",
      "execution time for map = 0.0 milliseconds\n"
     ]
    }
   ],
   "source": [
    "import time\n",
    "start = time.time()\n",
    "\n",
    "numbers1 = [1, 2, 3, 4, 5, 6, 7, 8, 9, 10]\n",
    "output = list(map(lambda x: x**2, numbers1))\n",
    "print(output)\n",
    "end = time.time()\n",
    "execution_time = (end - start)*1000\n",
    "print(f\"execution time for map = {execution_time} milliseconds\")\n"
   ]
  },
  {
   "cell_type": "code",
   "execution_count": 21,
   "metadata": {},
   "outputs": [
    {
     "name": "stdout",
     "output_type": "stream",
     "text": [
      "[1, 4, 9, 16, 25, 36, 49, 64, 81, 100]\n",
      "execution time for list comprehension = 0.0 milliseconds\n"
     ]
    }
   ],
   "source": [
    "import time\n",
    "start = time.time()\n",
    "output = [x**2 for x in numbers]\n",
    "print(output)\n",
    "end = time.time()\n",
    "execution_time = (end - start)*1000\n",
    "print(f\"execution time for list comprehension = {execution_time} milliseconds\")\n"
   ]
  },
  {
   "cell_type": "code",
   "execution_count": 25,
   "metadata": {},
   "outputs": [
    {
     "name": "stdout",
     "output_type": "stream",
     "text": [
      "execution time for outer_func = 0.0 milliseconds\n",
      "25\n"
     ]
    }
   ],
   "source": [
    "###5: Function that Returns a Function\n",
    "\n",
    "#Define a function that returns another function. The returned function should take an integer and return its square.\n",
    "#  Test the returned function with different inputs.\n",
    "@timer_decorator\n",
    "def outer_func():\n",
    "    def inner_func(x):\n",
    "        return x**2\n",
    "    return inner_func\n",
    "square = outer_func()\n",
    "print(square(5))\n"
   ]
  },
  {
   "cell_type": "code",
   "execution_count": 24,
   "metadata": {},
   "outputs": [
    {
     "name": "stdout",
     "output_type": "stream",
     "text": [
      "execution time for complex_calculation = 71.94924354553223 milliseconds\n",
      "333332833333500000\n"
     ]
    }
   ],
   "source": [
    "### 6: Function with Decorators\n",
    "#Define a function that calculates the time taken to execute another function. \n",
    "# Apply this decorator to a function that performs a complex calculation. Test the decorated function with different inputs.\n",
    "\n",
    "import time\n",
    "def timer_decorator(func):\n",
    "    def wrapper(*args, **kwargs):\n",
    "        start = time.time()\n",
    "        result = func(*args, **kwargs)\n",
    "        end = time.time()\n",
    "        execution_time = (end - start)*1000\n",
    "        print(f\"execution time for {func.__name__} = {execution_time} milliseconds\")\n",
    "        return result\n",
    "    return wrapper\n",
    "\n",
    "@timer_decorator\n",
    "def complex_calculation(x):\n",
    "    return sum(x**2 for x in range(n))\n",
    "\n",
    "n = 1000000\n",
    "print(complex_calculation(n))"
   ]
  },
  {
   "cell_type": "code",
   "execution_count": 26,
   "metadata": {},
   "outputs": [
    {
     "name": "stdout",
     "output_type": "stream",
     "text": [
      "execution time for filter_map = 0.0 milliseconds\n",
      "[4, 16, 36, 64, 100]\n"
     ]
    }
   ],
   "source": [
    "### 7: Higher-Order Function for Filtering and Mapping\n",
    "#Define a higher-order function that takes two functions, a filter function and a map function, along with a list of integers. \n",
    "# The higher-order function should first filter the integers using the filter function and then apply the map function to the \n",
    "# filtered integers. Test with different filter and map functions.\n",
    "@timer_decorator\n",
    "def filter_map(filter_func, map_func, list1):\n",
    "    return [map_func(x) for x in  list1 if filter_func(x)]\n",
    "\n",
    "numbers = [1, 2, 3, 4, 5, 6, 7, 8, 9, 10]\n",
    "print(filter_map(lambda x: x%2==0, lambda x: x**2, numbers))\n"
   ]
  },
  {
   "cell_type": "code",
   "execution_count": 29,
   "metadata": {},
   "outputs": [
    {
     "name": "stdout",
     "output_type": "stream",
     "text": [
      "execution time for compose = 0.0 milliseconds\n",
      "11\n",
      "[3, 5, 7, 9, 11, 13, 15, 17, 19, 21]\n"
     ]
    }
   ],
   "source": [
    "###8: Function Composition\n",
    "#Define a function that composes two functions, f and g, such that the result is f(g(x)). Test with different functions f and g.\n",
    "@timer_decorator\n",
    "def compose(f,g):\n",
    "    \"\"\"this function composes two functions f and g such that the result is f(g(x)) x is the input\"\"\"\n",
    "    return lambda x: f(g(x))\n",
    "\n",
    "f = lambda x: x+1\n",
    "g = lambda x: x*2\n",
    "h = compose(f,g)\n",
    "print(h(5))\n",
    "\n",
    "numbers = [1, 2, 3, 4, 5, 6, 7, 8, 9, 10]\n",
    "output = list(map(h, numbers))\n",
    "print(output)\n"
   ]
  },
  {
   "cell_type": "code",
   "execution_count": 31,
   "metadata": {},
   "outputs": [
    {
     "name": "stdout",
     "output_type": "stream",
     "text": [
      "10\n",
      "20\n"
     ]
    }
   ],
   "source": [
    "###9: Partial Function Application\n",
    "#Use the functools.partial function to create a new function that multiplies its input by 2. Test the new function with different inputs.\n",
    "from functools import partial\n",
    "multiply_by = partial(lambda x,y: x*y, 2)\n",
    "\n",
    "print(multiply_by(5))\n",
    "print(multiply_by(10))\n"
   ]
  },
  {
   "cell_type": "code",
   "execution_count": 35,
   "metadata": {},
   "outputs": [
    {
     "name": "stdout",
     "output_type": "stream",
     "text": [
      "division by zero\n",
      "None\n"
     ]
    }
   ],
   "source": [
    "###10: Function with Error Handling\n",
    "#Define a function that takes a list of integers and returns their average. \n",
    "# The function should handle any errors that occur (e.g., empty list) and return None in such cases. Test with different inputs.\n",
    "\n",
    "def average(numbers):\n",
    "    try:\n",
    "        return sum(numbers)/len(numbers)\n",
    "    except ZeroDivisionError as err:\n",
    "        print(err)\n",
    "        return None\n",
    "    except TypeError as err:\n",
    "        print(err)\n",
    "        return None\n",
    "    except Exception as err:\n",
    "        print(err)\n",
    "        return None\n",
    "    \n",
    "numbers = [1, 2, 3, 4, 5, 6, 7, 8, 9, 10]\n",
    "avg_numbers = average(numbers)\n",
    "print(avg_numbers)\n"
   ]
  },
  {
   "cell_type": "code",
   "execution_count": 38,
   "metadata": {},
   "outputs": [
    {
     "name": "stdout",
     "output_type": "stream",
     "text": [
      "execution time for fibonacci_generator = 0.0 milliseconds\n",
      "0\n",
      "1\n",
      "1\n",
      "2\n",
      "3\n",
      "5\n",
      "8\n",
      "13\n",
      "21\n",
      "34\n",
      "55\n"
     ]
    }
   ],
   "source": [
    "###11: Function with Generators\n",
    "#Define a function that generates an infinite sequence of Fibonacci numbers. Test by printing the first 10 numbers in the sequence.\n",
    "@timer_decorator\n",
    "def fibonacci_generator():\n",
    "    a, b = 0, 1\n",
    "    while True:\n",
    "        yield a\n",
    "        a, b = b, a + b\n",
    "\n",
    "# Test\n",
    "fib_gen = fibonacci_generator()\n",
    "for _ in range(11):\n",
    "    print(next(fib_gen))\n",
    "\n"
   ]
  },
  {
   "cell_type": "code",
   "execution_count": 42,
   "metadata": {},
   "outputs": [
    {
     "name": "stdout",
     "output_type": "stream",
     "text": [
      "60\n"
     ]
    }
   ],
   "source": [
    "###12: Currying\n",
    "#Define a curried function that takes three arguments, one at a time, and returns their product. \n",
    "# Test the function by providing arguments one at a time.\n",
    "\n",
    "def curry_product(a):\n",
    "    def inner1(b):\n",
    "        def inner2(c):\n",
    "            return a*b*c\n",
    "        return inner2\n",
    "    return inner1\n",
    "\n",
    "print(curry_product(3)(4)(5))\n",
    "\n",
    "\n"
   ]
  },
  {
   "cell_type": "code",
   "execution_count": 44,
   "metadata": {},
   "outputs": [],
   "source": [
    "###13: Function with Context Manager\n",
    "#Define a function that uses a context manager to write a list of integers to a file. \n",
    "# The function should handle any errors that occur during file operations. Test with different lists.\n",
    "\n",
    "def write_list_to_file(file_name, list1):\n",
    "    try:\n",
    "        with open(file_name , 'w') as f:\n",
    "            for num in list1:\n",
    "                f.write(f\"{num}\\n\")\n",
    "    except IOError as e:\n",
    "        print(f\"An error occured as {e}\")\n",
    "\n",
    "numbers = [1, 2, 3, 4, 5, 6, 7, 8, 9, 10]\n",
    "write_list_to_file(\"numbers.txt\", numbers)\n"
   ]
  },
  {
   "cell_type": "code",
   "execution_count": 51,
   "metadata": {},
   "outputs": [
    {
     "name": "stdout",
     "output_type": "stream",
     "text": [
      "execution time for split_list = 0.0 milliseconds\n",
      "[1, 2, 3, 4, 5, 6, 7, 8, 9, 10]\n"
     ]
    }
   ],
   "source": [
    "###14: Function with Multiple Return Types\n",
    "\n",
    "#Define a function that takes a list of mixed data types (integers, strings, and floats) and returns three lists: one containing \n",
    "# all the integers, one containing all the strings, and one containing all the floats. Test with different inputs.\n",
    "@timer_decorator\n",
    "def split_list(*list1):\n",
    "    \"\"\"this function splits the list into three lists of integers, strings and floats\"\"\"\n",
    "    try:\n",
    "            \n",
    "        int_list =[]\n",
    "        str_list =[]\n",
    "        floats_list =[]\n",
    "        for i in list1:\n",
    "            if type(i)==int:\n",
    "                int_list.append(i)\n",
    "            elif type(i)==str:\n",
    "                str_list.append(i)\n",
    "            elif type(i)==float:\n",
    "                floats_list.append(i)\n",
    "        return int_list, str_list, floats_list\n",
    "    \n",
    "    except Exception as e:\n",
    "        print(e)\n",
    "\n",
    "numbers = [1, 2, 3, 4, 5, 6, 7, 8, 9, 10, \"a\", \"b\", \"c\", \"d\", \"e\", \"f\", 1.1, 2.2, 3.3, 4.4, 5.5, 6.6, 7.7, 8.8, 9.9, 10.10]\n",
    "\n",
    "int_list, str_list, floats_list=split_list(*numbers)\n",
    "\n",
    "print(int_list)\n",
    "\n"
   ]
  },
  {
   "cell_type": "code",
   "execution_count": 53,
   "metadata": {},
   "outputs": [
    {
     "name": "stdout",
     "output_type": "stream",
     "text": [
      "[1, 2, 3, 4, 5, 6, 7, 8, 9, 10]\n"
     ]
    }
   ],
   "source": [
    "##14: Function with Multiple Return Types with list comprehension\n",
    "\n",
    "def split_list(*list1):\n",
    "    \"\"\"this function takes the list and converts it into three lists of integers, strings and floats\"\"\"\n",
    "    try:\n",
    "        int_list=[i for i in list1 if type(i)==int]\n",
    "        str_list = [i for i in list1 if type(i)==str]\n",
    "        float_list =[i for i in list1 if type(i)==float]\n",
    "        return int_list, str_list, float_list\n",
    "    except Exception as e:\n",
    "        print(e)\n",
    "\n",
    "numbers = [1, 2, 3, 4, 5, 6, 7, 8, 9, 10, \"a\", \"b\", \"c\", \"d\", \"e\", \"f\", 1.1, 2.2, 3.3, 4.4, 5.5, 6.6, 7.7, 8.8, 9.9, 10.10]\n",
    "int_list, str_list, floats_list=split_list(*numbers)\n",
    "print(int_list)\n",
    "\n"
   ]
  },
  {
   "cell_type": "code",
   "execution_count": 56,
   "metadata": {},
   "outputs": [
    {
     "name": "stdout",
     "output_type": "stream",
     "text": [
      "1\n",
      "2\n",
      "3\n",
      "4\n"
     ]
    }
   ],
   "source": [
    "###15: Function with State\n",
    "\n",
    "#Define a function that maintains state between calls using a mutable default argument. \n",
    "#The function should keep track of how many times it has been called. Test by calling the function multiple times.\n",
    "\n",
    "def call_counter(counter={'count': 0}):\n",
    "    counter['count'] += 1\n",
    "    return counter['count']\n",
    "\n",
    "# Test\n",
    "print(call_counter())  # 1\n",
    "print(call_counter())  # 2\n",
    "print(call_counter())  # 3\n",
    "print(call_counter())  # 4\n"
   ]
  },
  {
   "cell_type": "code",
   "execution_count": null,
   "metadata": {},
   "outputs": [],
   "source": []
  }
 ],
 "metadata": {
  "kernelspec": {
   "display_name": "base",
   "language": "python",
   "name": "python3"
  },
  "language_info": {
   "codemirror_mode": {
    "name": "ipython",
    "version": 3
   },
   "file_extension": ".py",
   "mimetype": "text/x-python",
   "name": "python",
   "nbconvert_exporter": "python",
   "pygments_lexer": "ipython3",
   "version": "3.11.5"
  }
 },
 "nbformat": 4,
 "nbformat_minor": 2
}
