{
 "cells": [
  {
   "cell_type": "markdown",
   "metadata": {},
   "source": [
    "#Advanced Functions Exercise\n",
    "#Defining Functions\n",
    "###1: Fibonacci Sequence with Memoization\n",
    "\n",
    "Define a recursive function to calculate the nth Fibonacci number using memoization. Test the function with different inputs."
   ]
  },
  {
   "cell_type": "code",
   "execution_count": 7,
   "metadata": {},
   "outputs": [
    {
     "name": "stdout",
     "output_type": "stream",
     "text": [
      "10946\n",
      "6765\n"
     ]
    }
   ],
   "source": [
    "#1.Define a recursive function to calculate the nth Fibonacci number using memoization. Test the function with different inputs.\n",
    "\n",
    "def fib(n,memo={}):\n",
    "    if n in memo:\n",
    "        return memo[n]\n",
    "    if n <=1:\n",
    "        return 1\n",
    "    memo[n]=fib(n-1,memo) + fib(n-2,memo)\n",
    "    return memo[n]\n",
    "\n",
    "print(fib(20))\n",
    "print(fib(19))"
   ]
  },
  {
   "cell_type": "code",
   "execution_count": 13,
   "metadata": {},
   "outputs": [
    {
     "name": "stdout",
     "output_type": "stream",
     "text": [
      "573147844013817084101\n",
      "execution time for fib(200) = 0.0 seconds\n"
     ]
    }
   ],
   "source": [
    "import time\n",
    "start = time.time()\n",
    "print(fib(100))\n",
    "end = time.time()\n",
    "print(f\"execution time for fib(200) = {end - start} seconds\")"
   ]
  },
  {
   "cell_type": "code",
   "execution_count": 5,
   "metadata": {},
   "outputs": [
    {
     "name": "stdout",
     "output_type": "stream",
     "text": [
      "{3: 9}\n",
      "{1: 1, 3: 9}\n"
     ]
    }
   ],
   "source": [
    "###2: Function with Nested Default Arguments\n",
    "\n",
    "#Define a function that takes two arguments, a and b, where b is a dictionary with a default value of an empty dictionary. \n",
    "# The function should add a new key-value pair to the dictionary and return it. Test the function with different inputs.\n",
    "\n",
    "def add_to_dict(a,b=None):\n",
    "    if b is None:\n",
    "        b = {}\n",
    "    b[a]=a**2\n",
    "    return b\n",
    "\n",
    "print(add_to_dict(3))\n",
    "print(add_to_dict(3,{1:1}))"
   ]
  },
  {
   "cell_type": "code",
   "execution_count": 3,
   "metadata": {},
   "outputs": [
    {
     "name": "stdout",
     "output_type": "stream",
     "text": [
      "{'a': 1, 'b': 2, 'c': 3}\n"
     ]
    }
   ],
   "source": [
    "###3: Function with Variable Keyword Arguments\n",
    "\n",
    "#Define a function that takes a variable number of keyword arguments and returns a dictionary containing only those key-value pairs\n",
    "#where the value is an integer. Test the function with different inputs.\n",
    "\n",
    "def make_dict(**kwargs):\n",
    "    return {key:value for key,value in kwargs.items() if type(value)==int}\n",
    "\n",
    "print(make_dict(a=1,b=2,c=3,d=\"skywalker\"))\n",
    "\n"
   ]
  },
  {
   "cell_type": "code",
   "execution_count": 19,
   "metadata": {},
   "outputs": [
    {
     "name": "stdout",
     "output_type": "stream",
     "text": [
      "[1, 4, 9, 16, 25, 36, 49, 64, 81, 100]\n",
      "execution time for callback = 1.001119613647461 milliseconds\n"
     ]
    }
   ],
   "source": [
    "###4: Function with Callback\n",
    "#Define a function that takes another function as a callback and a list of integers.\n",
    "#  The function should apply the callback to each integer in the list and return a new list with the results. \n",
    "# Test with different callback functions.\n",
    "\n",
    "import time\n",
    "start = time.time()\n",
    "def apply_callback(callback,list1):\n",
    "    return [callback(x) for x in list1]\n",
    "\n",
    "numbers = [1, 2, 3, 4, 5, 6, 7, 8, 9, 10]\n",
    "output=apply_callback(lambda x: x**2,numbers)\n",
    "print(output)\n",
    "end = time.time()\n",
    "execution_time = (end - start)*1000\n",
    "print(f\"execution time for callback = {execution_time} milliseconds\")"
   ]
  },
  {
   "cell_type": "code",
   "execution_count": 20,
   "metadata": {},
   "outputs": [
    {
     "name": "stdout",
     "output_type": "stream",
     "text": [
      "[1, 4, 9, 16, 25, 36, 49, 64, 81, 100]\n",
      "execution time for map = 0.0 milliseconds\n"
     ]
    }
   ],
   "source": [
    "import time\n",
    "start = time.time()\n",
    "\n",
    "numbers1 = [1, 2, 3, 4, 5, 6, 7, 8, 9, 10]\n",
    "output = list(map(lambda x: x**2, numbers1))\n",
    "print(output)\n",
    "end = time.time()\n",
    "execution_time = (end - start)*1000\n",
    "print(f\"execution time for map = {execution_time} milliseconds\")\n"
   ]
  },
  {
   "cell_type": "code",
   "execution_count": 21,
   "metadata": {},
   "outputs": [
    {
     "name": "stdout",
     "output_type": "stream",
     "text": [
      "[1, 4, 9, 16, 25, 36, 49, 64, 81, 100]\n",
      "execution time for list comprehension = 0.0 milliseconds\n"
     ]
    }
   ],
   "source": [
    "import time\n",
    "start = time.time()\n",
    "output = [x**2 for x in numbers]\n",
    "print(output)\n",
    "end = time.time()\n",
    "execution_time = (end - start)*1000\n",
    "print(f\"execution time for list comprehension = {execution_time} milliseconds\")\n"
   ]
  },
  {
   "cell_type": "code",
   "execution_count": 25,
   "metadata": {},
   "outputs": [
    {
     "name": "stdout",
     "output_type": "stream",
     "text": [
      "execution time for outer_func = 0.0 milliseconds\n",
      "25\n"
     ]
    }
   ],
   "source": [
    "###5: Function that Returns a Function\n",
    "\n",
    "#Define a function that returns another function. The returned function should take an integer and return its square.\n",
    "#  Test the returned function with different inputs.\n",
    "@timer_decorator\n",
    "def outer_func():\n",
    "    def inner_func(x):\n",
    "        return x**2\n",
    "    return inner_func\n",
    "square = outer_func()\n",
    "print(square(5))\n"
   ]
  },
  {
   "cell_type": "code",
   "execution_count": 24,
   "metadata": {},
   "outputs": [
    {
     "name": "stdout",
     "output_type": "stream",
     "text": [
      "execution time for complex_calculation = 71.94924354553223 milliseconds\n",
      "333332833333500000\n"
     ]
    }
   ],
   "source": [
    "### 6: Function with Decorators\n",
    "#Define a function that calculates the time taken to execute another function. \n",
    "# Apply this decorator to a function that performs a complex calculation. Test the decorated function with different inputs.\n",
    "\n",
    "import time\n",
    "def timer_decorator(func):\n",
    "    def wrapper(*args, **kwargs):\n",
    "        start = time.time()\n",
    "        result = func(*args, **kwargs)\n",
    "        end = time.time()\n",
    "        execution_time = (end - start)*1000\n",
    "        print(f\"execution time for {func.__name__} = {execution_time} milliseconds\")\n",
    "        return result\n",
    "    return wrapper\n",
    "\n",
    "@timer_decorator\n",
    "def complex_calculation(x):\n",
    "    return sum(x**2 for x in range(n))\n",
    "\n",
    "n = 1000000\n",
    "print(complex_calculation(n))"
   ]
  },
  {
   "cell_type": "code",
   "execution_count": null,
   "metadata": {},
   "outputs": [],
   "source": []
  }
 ],
 "metadata": {
  "kernelspec": {
   "display_name": "base",
   "language": "python",
   "name": "python3"
  },
  "language_info": {
   "codemirror_mode": {
    "name": "ipython",
    "version": 3
   },
   "file_extension": ".py",
   "mimetype": "text/x-python",
   "name": "python",
   "nbconvert_exporter": "python",
   "pygments_lexer": "ipython3",
   "version": "3.11.5"
  }
 },
 "nbformat": 4,
 "nbformat_minor": 2
}
