{
 "cells": [
  {
   "cell_type": "markdown",
   "metadata": {},
   "source": [
    "Filter function is a inbuilt function to filter certain set of items from a given iterables like a list"
   ]
  },
  {
   "cell_type": "code",
   "execution_count": 1,
   "metadata": {},
   "outputs": [
    {
     "name": "stdout",
     "output_type": "stream",
     "text": [
      "[1, 3, 5, 7, 9]\n"
     ]
    }
   ],
   "source": [
    "#normal process\n",
    "#to find the odd numbers in a list\n",
    "\n",
    "numbers = [1,2,3,4,5,6,7,8,9,10]\n",
    "odd_numbers = []\n",
    "for num in numbers:\n",
    "    if num % 2 != 0:\n",
    "        odd_numbers.append(num)\n",
    "print (odd_numbers)\n"
   ]
  },
  {
   "cell_type": "code",
   "execution_count": 2,
   "metadata": {},
   "outputs": [
    {
     "name": "stdout",
     "output_type": "stream",
     "text": [
      "[1, 3, 5, 7, 9]\n"
     ]
    }
   ],
   "source": [
    "#By using the filters\n",
    "\n",
    "def odd(num):\n",
    "    if num%2 !=0:\n",
    "        return num\n",
    "    \n",
    "odd_numberss = list(filter(odd,numbers))\n",
    "\n",
    "print(odd_numberss)"
   ]
  },
  {
   "cell_type": "code",
   "execution_count": 3,
   "metadata": {},
   "outputs": [
    {
     "name": "stdout",
     "output_type": "stream",
     "text": [
      "[1, 3, 5, 7, 9]\n"
     ]
    }
   ],
   "source": [
    "#using lambda function in filter function\n",
    "\n",
    "odd =list(filter(lambda num: num%2 !=0,numbers))\n",
    "\n",
    "print(odd)"
   ]
  },
  {
   "cell_type": "code",
   "execution_count": 1,
   "metadata": {},
   "outputs": [
    {
     "name": "stdout",
     "output_type": "stream",
     "text": [
      "[6, 8, 10]\n"
     ]
    }
   ],
   "source": [
    "#filter with lambda function with multiple conditions\n",
    "\n",
    "numbers =[1,2,3,4,5,6,7,8,9,10]\n",
    "even_and_greater_than_five =list(filter(lambda x: x%2==0 and x>5,numbers))\n",
    "print(even_and_greater_than_five) "
   ]
  },
  {
   "cell_type": "code",
   "execution_count": 2,
   "metadata": {},
   "outputs": [
    {
     "name": "stdout",
     "output_type": "stream",
     "text": [
      "[{'name': 'Shyam', 'age': 30}, {'name': 'Ram', 'age': 35}, {'name': 'Sita', 'age': 28}]\n"
     ]
    }
   ],
   "source": [
    "##apply filter to check if the age is greater than 25 in dictionaries\n",
    "\n",
    "people =[{\"name\":\"Ragav\",\"age\":25},{\"name\":\"Shyam\",\"age\":30},{\"name\":\"Hari\",\"age\":20},{\"name\":\"Ram\",\"age\":35},{\"name\":\"Sita\",\"age\":28}]\n",
    "\n",
    "ages = list(filter(lambda x: x['age']>25,people))\n",
    "\n",
    "print(ages)"
   ]
  }
 ],
 "metadata": {
  "kernelspec": {
   "display_name": "base",
   "language": "python",
   "name": "python3"
  },
  "language_info": {
   "codemirror_mode": {
    "name": "ipython",
    "version": 3
   },
   "file_extension": ".py",
   "mimetype": "text/x-python",
   "name": "python",
   "nbconvert_exporter": "python",
   "pygments_lexer": "ipython3",
   "version": "3.11.5"
  }
 },
 "nbformat": 4,
 "nbformat_minor": 2
}
