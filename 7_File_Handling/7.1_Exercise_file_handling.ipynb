{
 "cells": [
  {
   "cell_type": "code",
   "execution_count": 14,
   "metadata": {},
   "outputs": [
    {
     "data": {
      "text/plain": [
       "['Hello world',\n",
       " 'How are you?',\n",
       " 'How are you?',\n",
       " 'How are you?  Hello i am ranjith, i am a programmer',\n",
       " 'Hello i am ranjith, i am a programmer',\n",
       " 'Hello i am ranjith, i am a programmer']"
      ]
     },
     "execution_count": 14,
     "metadata": {},
     "output_type": "execute_result"
    }
   ],
   "source": [
    "# Exercise: File Handling and Operations\n",
    "###  1: Reading a File\n",
    "\n",
    "#Write a function that reads the contents of a file named `sample.txt` and prints each line.\n",
    "\n",
    "def read_file(filename,path):\n",
    "    with open(filename,'r') as file:\n",
    "        content = file.readlines()\n",
    "        output= []\n",
    "        for line in content:\n",
    "             output.append(line.strip())#line.strip()\n",
    "        return output\n",
    "\n",
    "read_file('sample.txt','.')"
   ]
  },
  {
   "cell_type": "code",
   "execution_count": 15,
   "metadata": {},
   "outputs": [],
   "source": [
    "##2: Writing to a File\n",
    "#Write a function that writes a list of strings to a file named `output.txt`, with each string on a new line.\n",
    "\n",
    "def write_file(filename, path, content):\n",
    "    with open(filename, 'w') as file:\n",
    "        for line in content:\n",
    "            file.write(line + '\\n')\n",
    "            \n",
    "content=read_file('sample.txt','.')\n",
    "write_file('output.txt', '.',content)\n",
    "\n"
   ]
  },
  {
   "cell_type": "code",
   "execution_count": null,
   "metadata": {},
   "outputs": [],
   "source": [
    "###3: Copying a File\n",
    "#Write a function that copies the contents of a file named `source.txt` to a new file named `destination.txt`.\n",
    "\n",
    "def copy_file(source,destination):\n",
    "    with open(source ,'r') as src_file:\n",
    "        with open (destination, 'w') as dest_file:\n",
    "            dest_file.write(src_file.read())\n",
    "\n"
   ]
  },
  {
   "cell_type": "code",
   "execution_count": 16,
   "metadata": {},
   "outputs": [],
   "source": [
    "###4: Appending to a File\n",
    "#Write a function that appends a given string to the end of a file named `data.txt`.\n",
    "\n",
    "def append_file(filename, path, content):\n",
    "    with open(filename, 'a') as file:\n",
    "        for line in content:\n",
    "            file.write(line + '\\n')\n",
    "content = read_file('sample.txt','.')\n",
    "append_file('data.txt', '.', content)"
   ]
  },
  {
   "cell_type": "code",
   "execution_count": 17,
   "metadata": {},
   "outputs": [
    {
     "data": {
      "text/plain": [
       "58"
      ]
     },
     "execution_count": 17,
     "metadata": {},
     "output_type": "execute_result"
    }
   ],
   "source": [
    "###5: Counting Words in a File\n",
    "#Write a function that reads the contents of a file named `data.txt` and returns the number of words in the file.\n",
    "\n",
    "def count_words(filename, path):\n",
    "    with open(filename, 'r') as file:\n",
    "        content = file.read()\n",
    "        words = content.split()\n",
    "        return len(words)\n",
    "    \n",
    "count_words('data.txt', '.')\n",
    "\n"
   ]
  },
  {
   "cell_type": "code",
   "execution_count": 23,
   "metadata": {},
   "outputs": [],
   "source": [
    "###6: Finding and Replacing Text\n",
    "#Write a function that finds and replaces all occurrences of a given word in a file named `data.txt` with another word.\n",
    "\n",
    "def find_replace(filename, path, old_word, new_word):\n",
    "    with open(filename, 'r') as file:\n",
    "        content = file.read()\n",
    "        new_content = content.replace(old_word, new_word)\n",
    "        with open(filename, 'w') as file:\n",
    "            file.write(new_content)\n",
    "find_replace('data.txt', '.', 'bye', 'Hello')"
   ]
  },
  {
   "cell_type": "code",
   "execution_count": 35,
   "metadata": {},
   "outputs": [
    {
     "name": "stdout",
     "output_type": "stream",
     "text": [
      "Hello i am ranjith, i am a programmer\n",
      "Hello i am ranjith, i am a programmer\n",
      "How are you?  Hello i am ranjith, i am a programmer\n",
      "How are you?\n",
      "How are you?\n",
      "Hello world\n"
     ]
    }
   ],
   "source": [
    "###7: Reading a File in Reverse\n",
    "#Write a function that reads the contents of a file named `reverse.txt` and prints each line in reverse order.\n",
    "\n",
    "def read_reverse1(filename):\n",
    "    with open(filename, 'r') as file:\n",
    "        lines = file.readlines()\n",
    "    for line in reversed(lines):\n",
    "        print(line.strip())\n",
    "\n",
    "read_reverse1('sample.txt')"
   ]
  },
  {
   "cell_type": "code",
   "execution_count": 27,
   "metadata": {},
   "outputs": [
    {
     "name": "stdout",
     "output_type": "stream",
     "text": [
      "remmargorp a ma i ,htijnar ma i olleH\n"
     ]
    }
   ],
   "source": [
    "txt = \"Hello i am ranjith, i am a programmer\"\n",
    "reverse = reversed(txt)\n",
    "print(''.join(reverse))"
   ]
  },
  {
   "cell_type": "code",
   "execution_count": 37,
   "metadata": {},
   "outputs": [
    {
     "name": "stdout",
     "output_type": "stream",
     "text": [
      "htijnar\n",
      "unav\n",
      "aariak\n",
      "nurA\n",
      "likA\n",
      "n\n"
     ]
    }
   ],
   "source": [
    "\n",
    "def read_reverse(filename, path):\n",
    "    with open(filename, 'r') as file:\n",
    "        content = file.readlines()\n",
    "        for line in content:\n",
    "            print(line[::-1].strip())\n",
    "read_reverse('names.txt', '.') #remmargorp a ma i ,htijnar ma i olleH\n"
   ]
  }
 ],
 "metadata": {
  "kernelspec": {
   "display_name": "base",
   "language": "python",
   "name": "python3"
  },
  "language_info": {
   "codemirror_mode": {
    "name": "ipython",
    "version": 3
   },
   "file_extension": ".py",
   "mimetype": "text/x-python",
   "name": "python",
   "nbconvert_exporter": "python",
   "pygments_lexer": "ipython3",
   "version": "3.11.5"
  }
 },
 "nbformat": 4,
 "nbformat_minor": 2
}
