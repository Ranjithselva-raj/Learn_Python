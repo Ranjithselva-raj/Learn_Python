{
 "cells": [
  {
   "cell_type": "code",
   "execution_count": 14,
   "metadata": {},
   "outputs": [
    {
     "data": {
      "text/plain": [
       "['Hello world',\n",
       " 'How are you?',\n",
       " 'How are you?',\n",
       " 'How are you?  Hello i am ranjith, i am a programmer',\n",
       " 'Hello i am ranjith, i am a programmer',\n",
       " 'Hello i am ranjith, i am a programmer']"
      ]
     },
     "execution_count": 14,
     "metadata": {},
     "output_type": "execute_result"
    }
   ],
   "source": [
    "# Exercise: File Handling and Operations\n",
    "###  1: Reading a File\n",
    "\n",
    "#Write a function that reads the contents of a file named `sample.txt` and prints each line.\n",
    "\n",
    "def read_file(filename,path):\n",
    "    with open(filename,'r') as file:\n",
    "        content = file.readlines()\n",
    "        output= []\n",
    "        for line in content:\n",
    "             output.append(line.strip())#line.strip()\n",
    "        return output\n",
    "\n",
    "read_file('sample.txt','.')"
   ]
  },
  {
   "cell_type": "code",
   "execution_count": 15,
   "metadata": {},
   "outputs": [],
   "source": [
    "##2: Writing to a File\n",
    "#Write a function that writes a list of strings to a file named `output.txt`, with each string on a new line.\n",
    "\n",
    "def write_file(filename, path, content):\n",
    "    with open(filename, 'w') as file:\n",
    "        for line in content:\n",
    "            file.write(line + '\\n')\n",
    "            \n",
    "content=read_file('sample.txt','.')\n",
    "write_file('output.txt', '.',content)\n",
    "\n"
   ]
  },
  {
   "cell_type": "code",
   "execution_count": null,
   "metadata": {},
   "outputs": [],
   "source": [
    "###3: Copying a File\n",
    "#Write a function that copies the contents of a file named `source.txt` to a new file named `destination.txt`.\n",
    "\n",
    "def copy_file(source,destination):\n",
    "    with open(source ,'r') as src_file:\n",
    "        with open (destination, 'w') as dest_file:\n",
    "            dest_file.write(src_file.read())\n",
    "\n"
   ]
  }
 ],
 "metadata": {
  "kernelspec": {
   "display_name": "base",
   "language": "python",
   "name": "python3"
  },
  "language_info": {
   "codemirror_mode": {
    "name": "ipython",
    "version": 3
   },
   "file_extension": ".py",
   "mimetype": "text/x-python",
   "name": "python",
   "nbconvert_exporter": "python",
   "pygments_lexer": "ipython3",
   "version": "3.11.5"
  }
 },
 "nbformat": 4,
 "nbformat_minor": 2
}
