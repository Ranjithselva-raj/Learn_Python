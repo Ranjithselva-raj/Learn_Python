{
 "cells": [
  {
   "cell_type": "code",
   "execution_count": null,
   "metadata": {},
   "outputs": [],
   "source": [
    "# how we can serialize a data in python file using jason  \n",
    "#serialization is converting data into stream that can be transmitted or saved easily \n",
    "#in order to perform serialize a data we need to select basic data structure in python \n",
    "#python dictionary one of best data structure in python like JSON"
   ]
  },
  {
   "cell_type": "code",
   "execution_count": 2,
   "metadata": {},
   "outputs": [],
   "source": [
    "data = {\n",
    "    \"name\": \"Ranjith\",\n",
    "    \"age\": 24,\n",
    "    \"city\": \"chennai\"\n",
    "}\n"
   ]
  },
  {
   "cell_type": "code",
   "execution_count": 3,
   "metadata": {},
   "outputs": [],
   "source": [
    "import json"
   ]
  },
  {
   "cell_type": "code",
   "execution_count": 4,
   "metadata": {},
   "outputs": [
    {
     "name": "stdout",
     "output_type": "stream",
     "text": [
      "{\"name\": \"Ranjith\", \"age\": 24, \"city\": \"chennai\"}\n"
     ]
    }
   ],
   "source": [
    "#serialization converting dict to json string\n",
    "jason_data = json.dumps(data)\n",
    "\n",
    "print(jason_data)"
   ]
  },
  {
   "cell_type": "code",
   "execution_count": 5,
   "metadata": {},
   "outputs": [
    {
     "name": "stdout",
     "output_type": "stream",
     "text": [
      "<class 'dict'>\n"
     ]
    }
   ],
   "source": [
    "#de-serialization converting json string to dict\n",
    "\n",
    "datas = json.loads(jason_data)\n",
    "\n",
    "print(type(datas))\n",
    "\n"
   ]
  },
  {
   "cell_type": "code",
   "execution_count": 6,
   "metadata": {},
   "outputs": [
    {
     "name": "stdout",
     "output_type": "stream",
     "text": [
      "Ranjith\n",
      "chennai\n"
     ]
    }
   ],
   "source": [
    "print(datas['name'])\n",
    "\n",
    "print(datas['city'])"
   ]
  },
  {
   "cell_type": "code",
   "execution_count": 7,
   "metadata": {},
   "outputs": [],
   "source": [
    "#how we can save user data in json file by getting user input\n",
    "import json\n",
    "def save_user_data():\n",
    "    user_list=[]\n",
    "\n",
    "    while True:\n",
    "        user_name = input(\"Enter your name or press enter to exit: \")\n",
    "        if user_name == \"\":\n",
    "            break\n",
    "        user_email = input(\"Enter your email: \")\n",
    "        user_contact = input(\"Enter your contact: \")\n",
    "\n",
    "        #create a dictionary\n",
    "        user_data = {\n",
    "            \"name\": user_name,\n",
    "            \"email\": user_email,\n",
    "            \"contact\": user_contact\n",
    "        }\n",
    "\n",
    "        user_list.append(user_data)\n",
    "\n",
    "        with open (\"user_save_data.json\",\"w\") as file:\n",
    "            json.dump(user_list,file)\n",
    "\n",
    "        print(\"Data is saved successfully\")\n"
   ]
  },
  {
   "cell_type": "code",
   "execution_count": 10,
   "metadata": {},
   "outputs": [
    {
     "name": "stdout",
     "output_type": "stream",
     "text": [
      "Data is saved successfully\n",
      "Data is saved successfully\n"
     ]
    }
   ],
   "source": [
    "save_user_data()"
   ]
  },
  {
   "cell_type": "markdown",
   "metadata": {},
   "source": [
    "Creating a data"
   ]
  },
  {
   "cell_type": "code",
   "execution_count": 1,
   "metadata": {},
   "outputs": [],
   "source": [
    "#preserve the old data in file when new data is added\n",
    "\n",
    "import os\n",
    "import json\n",
    "def save_users_data():\n",
    "    user_list=[]\n",
    "    while True:\n",
    "        user_name = input(\"Enter your name or press enter to exit: \")\n",
    "        if user_name == \"\":\n",
    "            break\n",
    "        user_email = input(\"Enter your email: \")\n",
    "        user_contact = input(\"Enter your contact: \")\n",
    "\n",
    "        #create a dictionary\n",
    "        user_data = {\n",
    "            \"name\": user_name,\n",
    "            \"email\": user_email,\n",
    "            \"contact\": user_contact\n",
    "        }\n",
    "        #append the data\n",
    "        user_list.append(user_data)\n",
    "    #check if file exists or not and add old data to new data\n",
    "    if os.path.exists(\"user_save_data.json\"):\n",
    "        with open (\"user_save_data.json\",\"r\") as file:\n",
    "            #load the old json file convert it into python dict\n",
    "            old_data = json.load(file)\n",
    "            #add old data to new data\n",
    "        user_list.extend(old_data)\n",
    "\n",
    "        \n",
    "    #save the data in json file\n",
    "    with open (\"user_save_data.json\",\"w\") as file:\n",
    "        json.dump(user_list,file)\n",
    "\n",
    "    print(\"Data is saved successfully\")\n",
    "\n",
    "\n"
   ]
  },
  {
   "cell_type": "code",
   "execution_count": 2,
   "metadata": {},
   "outputs": [
    {
     "name": "stdout",
     "output_type": "stream",
     "text": [
      "Data is saved successfully\n"
     ]
    }
   ],
   "source": [
    "save_users_data()\n"
   ]
  },
  {
   "cell_type": "code",
   "execution_count": 3,
   "metadata": {},
   "outputs": [
    {
     "data": {
      "text/plain": [
       "['1_Introduction.ipynb',\n",
       " '2_Opening_file.ipynb',\n",
       " '3_Readline & Readlines.ipynb',\n",
       " '4_Saving_user_data.ipynb',\n",
       " '5_saving_complex_data.ipynb',\n",
       " '6_Serialization&Deserialization.ipynb',\n",
       " '7_code_challenge.py',\n",
       " 'data.txt',\n",
       " 'names.txt',\n",
       " 'sample.txt',\n",
       " 'user_data.txt',\n",
       " 'user_save_data.json']"
      ]
     },
     "execution_count": 3,
     "metadata": {},
     "output_type": "execute_result"
    }
   ],
   "source": [
    "os.listdir()"
   ]
  },
  {
   "cell_type": "markdown",
   "metadata": {},
   "source": [
    "Reading the Data"
   ]
  },
  {
   "cell_type": "code",
   "execution_count": 5,
   "metadata": {},
   "outputs": [],
   "source": [
    "#Reading user data from json file\n",
    "\n",
    "def read_user_data():\n",
    "    if not os.path.exists(\"user_save_data.json\"):\n",
    "        print(\"File not found\")\n",
    "        return\n",
    "    with open (\"user_save_data.json\",\"r\") as file:\n",
    "        user_list = json.load(file)\n",
    "        for user in user_list:\n",
    "            print( \"Name: \", user[\"name\"], \",Email: \", user[\"email\"], \",Contact: \", user[\"contact\"])\n"
   ]
  },
  {
   "cell_type": "code",
   "execution_count": 19,
   "metadata": {},
   "outputs": [
    {
     "name": "stdout",
     "output_type": "stream",
     "text": [
      "Name:  Arun ,Email:  email@gmail.com ,Contact:  987654321\n",
      "Name:  kairaa ,Email:  k@gmail.com ,Contact:  987456321\n",
      "Name:  Ranjith ,Email:  r@gmail.com ,Contact:  123456789\n",
      "Name:  Ranjith ,Email:  email@gmail.com ,Contact:  123456789\n",
      "Name:  Vanu ,Email:  email@hotmail.com ,Contact:  123456\n"
     ]
    }
   ],
   "source": [
    "read_user_data()"
   ]
  },
  {
   "cell_type": "markdown",
   "metadata": {},
   "source": [
    "whenever create a desktop or web application we have to do CRUD operation\n",
    "C - Create -covered\n",
    "R - Read - covered\n",
    "U - Update\n",
    "D - Delete"
   ]
  },
  {
   "cell_type": "markdown",
   "metadata": {},
   "source": [
    "Updating the data "
   ]
  },
  {
   "cell_type": "code",
   "execution_count": 6,
   "metadata": {},
   "outputs": [],
   "source": [
    "#edit user data\n",
    "def edit_user_data():\n",
    "    #check if file exists\n",
    "    if not os.path.exists(\"user_save_data.json\"):\n",
    "        print(\"File not found\")\n",
    "        return\n",
    "    #load the old json file convert it into python dict\n",
    "    with open (\"user_save_data.json\",\"r\") as file:\n",
    "        user_list = json.load(file)\n",
    "    name = input(\"Enter the name of user you want to edit: \")\n",
    "    #check if user exists\n",
    "    user_found = False\n",
    "    for user in user_list:\n",
    "        # check if user exists or not based on name \n",
    "        if user[\"name\"].lower() == name.lower():\n",
    "            #get user input to update the data\n",
    "            email = input(\"Enter updated new email: \")\n",
    "            contact = input(\"Enter updated new contact: \")\n",
    "\n",
    "            #update the user data\n",
    "            user[\"email\"] = email\n",
    "            user[\"contact\"] = contact\n",
    "            user_found = True\n",
    "            break\n",
    "    #if user not found then print user not found\n",
    "    if not user_found:\n",
    "        print(\"User not found\")\n",
    "    #save the data in json file \n",
    "    with open (\"user_save_data.json\",\"w\") as file:\n",
    "        json.dump(user_list,file)\n",
    "\n",
    "    print(\"User data is updated successfully\")\n",
    "\n",
    "\n",
    "\n",
    "\n",
    "\n"
   ]
  },
  {
   "cell_type": "markdown",
   "metadata": {},
   "source": [
    "Deleting the user data"
   ]
  },
  {
   "cell_type": "code",
   "execution_count": 1,
   "metadata": {},
   "outputs": [],
   "source": [
    "#delete user data\n",
    "import os\n",
    "import json\n",
    "\n",
    "def delete_user_data():\n",
    "    #check if file exists\n",
    "    if not os.path.exists(\"user_save_data.json\"):\n",
    "        print(\"File not found\")\n",
    "        return\n",
    "    #load the old json file convert it into python dict\n",
    "    with open (\"user_save_data.json\",\"r\") as file:\n",
    "        user_list = json.load(file)\n",
    "    name = input(\"Enter the name of user you want to delete: \")\n",
    "    #check if user exists\n",
    "    user_found = False\n",
    "    for user in user_list:\n",
    "        # check if user exists or not based on name\n",
    "        if user[\"name\"].lower() == name.lower():\n",
    "            user_list.remove(user)\n",
    "            user_found = True\n",
    "            break\n",
    "    #if user not found then print user not found\n",
    "    if not user_found:\n",
    "        print(\"User not found\")\n",
    "    #save the data in json file\n",
    "    with open (\"user_save_data.json\",\"w\") as file:\n",
    "        json.dump(user_list,file)\n",
    "    print(\"User data is deleted successfully\")\n",
    "\n",
    "\n",
    "\n",
    "\n",
    "\n"
   ]
  },
  {
   "cell_type": "markdown",
   "metadata": {},
   "source": [
    "Create a menu for CRUD operation"
   ]
  },
  {
   "cell_type": "code",
   "execution_count": 7,
   "metadata": {},
   "outputs": [],
   "source": [
    "def CRUD():\n",
    "    while True:\n",
    "        print(\"Welcome, please select your choice\")\n",
    "        print(\"1. Save user data\")\n",
    "        print(\"2. Read user data\")\n",
    "        print(\"3. Edit user data\")\n",
    "        print(\"4. Delete user data\")\n",
    "        print(\"5. Exit\")\n",
    "        choice = int(input(\"Enter your choice: \"))\n",
    "        if choice == 1:\n",
    "            save_users_data()\n",
    "        elif choice == 2:\n",
    "            read_user_data()\n",
    "        elif choice == 3:\n",
    "            edit_user_data()\n",
    "        elif choice == 4:\n",
    "            delete_user_data()\n",
    "        elif choice == 5:\n",
    "            break\n",
    "        else:\n",
    "            print(\"Invalid choice\")\n",
    "            break"
   ]
  },
  {
   "cell_type": "code",
   "execution_count": 9,
   "metadata": {},
   "outputs": [
    {
     "name": "stdout",
     "output_type": "stream",
     "text": [
      "Welcome, please select your choice\n",
      "1. Save user data\n",
      "2. Read user data\n",
      "3. Edit user data\n",
      "4. Delete user data\n",
      "5. Exit\n",
      "Invalid choice\n"
     ]
    }
   ],
   "source": [
    "CRUD()"
   ]
  }
 ],
 "metadata": {
  "kernelspec": {
   "display_name": "base",
   "language": "python",
   "name": "python3"
  },
  "language_info": {
   "codemirror_mode": {
    "name": "ipython",
    "version": 3
   },
   "file_extension": ".py",
   "mimetype": "text/x-python",
   "name": "python",
   "nbconvert_exporter": "python",
   "pygments_lexer": "ipython3",
   "version": "3.11.5"
  }
 },
 "nbformat": 4,
 "nbformat_minor": 2
}
