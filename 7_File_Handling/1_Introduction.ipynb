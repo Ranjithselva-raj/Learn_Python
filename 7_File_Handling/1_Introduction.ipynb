{
 "cells": [
  {
   "cell_type": "code",
   "execution_count": null,
   "metadata": {},
   "outputs": [],
   "source": [
    "#File handling in Python\n",
    "#File handling in Python is a process of reading, writing, and updating files in the computer. \n",
    "#In Python, file handling is done using the open() function.\n"
   ]
  }
 ],
 "metadata": {
  "language_info": {
   "name": "python"
  }
 },
 "nbformat": 4,
 "nbformat_minor": 2
}
