{
 "cells": [
  {
   "cell_type": "code",
   "execution_count": 24,
   "metadata": {},
   "outputs": [
    {
     "name": "stdout",
     "output_type": "stream",
     "text": [
      "Hello i am ranjith, i am a programmer\n"
     ]
    }
   ],
   "source": [
    "file = open('data.txt', 'r')\n",
    "\n",
    "print(file.read())"
   ]
  },
  {
   "cell_type": "code",
   "execution_count": 21,
   "metadata": {},
   "outputs": [
    {
     "data": {
      "text/plain": [
       "37"
      ]
     },
     "execution_count": 21,
     "metadata": {},
     "output_type": "execute_result"
    }
   ],
   "source": [
    "file.write(\"Hello i am ranjith, i am a programmer\")"
   ]
  },
  {
   "cell_type": "code",
   "execution_count": 25,
   "metadata": {},
   "outputs": [],
   "source": [
    "file.close()"
   ]
  },
  {
   "cell_type": "code",
   "execution_count": 5,
   "metadata": {},
   "outputs": [],
   "source": [
    "file_books = open(\"D:\\Books_rating.csv\", 'r')"
   ]
  },
  {
   "cell_type": "code",
   "execution_count": 6,
   "metadata": {},
   "outputs": [
    {
     "data": {
      "text/plain": [
       "'Id,Title,Price,User_id,profileName,review/helpfulness,review/score,review/time,review/summary,review/text\\n'"
      ]
     },
     "execution_count": 6,
     "metadata": {},
     "output_type": "execute_result"
    }
   ],
   "source": [
    "file_books.readline()"
   ]
  },
  {
   "cell_type": "code",
   "execution_count": 26,
   "metadata": {},
   "outputs": [],
   "source": [
    "#writing a data to file\n",
    "\n",
    "file = open(\"data.txt\",'w')\n",
    "file.write(\"Hello i am ranjith, i am a programmer\")\n",
    "file.close()"
   ]
  },
  {
   "cell_type": "code",
   "execution_count": 3,
   "metadata": {},
   "outputs": [],
   "source": [
    "#appending data to file\n",
    "content = \"\\nHello i am ranjith, i am a programmer\"\n",
    "file = open(\"data.txt\",'a')\n",
    "file.write(content)\n",
    "file.close()"
   ]
  },
  {
   "cell_type": "code",
   "execution_count": 4,
   "metadata": {},
   "outputs": [
    {
     "name": "stdout",
     "output_type": "stream",
     "text": [
      "Hello i am ranjith, i am a programmerHello i am ranjith, i am a programmer\n",
      "Hello i am ranjith, i am a programmer\n",
      "Hello i am ranjith, i am a programmer\n",
      "Hello i am ranjith, i am a programmer\n"
     ]
    }
   ],
   "source": [
    "#reading a file\n",
    "\n",
    "file = open(\"data.txt\",'r')\n",
    "print(file.read())\n",
    "file.close()\n"
   ]
  },
  {
   "cell_type": "markdown",
   "metadata": {},
   "source": [
    "Opening a file with \"with clause\" - when using with clause for opening a file not need to use close function to close a file"
   ]
  },
  {
   "cell_type": "code",
   "execution_count": 31,
   "metadata": {},
   "outputs": [
    {
     "name": "stdout",
     "output_type": "stream",
     "text": [
      "Hello i am ranjith, i am a programmerHello i am ranjith, i am a programmer\n",
      "Hello i am ranjith, i am a programmer\n"
     ]
    }
   ],
   "source": [
    "with open(\"data.txt\",'r') as file:\n",
    "    print(file.read())\n",
    "    file.close()"
   ]
  },
  {
   "cell_type": "code",
   "execution_count": 32,
   "metadata": {},
   "outputs": [
    {
     "name": "stdout",
     "output_type": "stream",
     "text": [
      "Hello i am ranjith, i am a programmerHello i am ranjith, i am a programmer\n",
      "Hello i am ranjith, i am a programmer\n"
     ]
    }
   ],
   "source": [
    "with open(\"data.txt\",'r') as file:\n",
    "    print(file.read())\n"
   ]
  },
  {
   "cell_type": "code",
   "execution_count": 33,
   "metadata": {},
   "outputs": [
    {
     "name": "stdout",
     "output_type": "stream",
     "text": [
      "Hello i am ranjith, i am a programmerHello i am ranjith, i am a programmer\n",
      "Hello i am ranjith, i am a programmer\n"
     ]
    }
   ],
   "source": [
    "with open(\"data.txt\",'r') as file:\n",
    "    print(file.read())\n"
   ]
  },
  {
   "cell_type": "code",
   "execution_count": 2,
   "metadata": {},
   "outputs": [
    {
     "name": "stdout",
     "output_type": "stream",
     "text": [
      "Hello i am ranjith, i am a programmerHello i am ranjith, i am a programmer\n",
      "Hello i am ranjith, i am a programmer\n",
      "Hello i am ranjith, i am a programmer\n",
      "Hello i am ranjith, i am a programmer\n"
     ]
    }
   ],
   "source": [
    "#read a file line by line\n",
    "\n",
    "with open (\"data.txt\",'r') as file:\n",
    "    for line in file:\n",
    "        print(line.strip())"
   ]
  },
  {
   "cell_type": "code",
   "execution_count": 3,
   "metadata": {},
   "outputs": [],
   "source": [
    "## writing  a file (overwrite)\n",
    "\n",
    "with open(\"data.txt\",'w') as file:\n",
    "    file.write(\"Hello i am ranjith, i am a programmer\")\n",
    "    file.write(\"\\nHello i am ranjith, i am a programmer\")"
   ]
  },
  {
   "cell_type": "code",
   "execution_count": 4,
   "metadata": {},
   "outputs": [],
   "source": [
    "## writing  a file without overwrite(append)\n",
    "\n",
    "with open('data.txt','a') as file:\n",
    "    file.write(\"\\nHello i am ranjith, i am a programmer\")"
   ]
  },
  {
   "cell_type": "code",
   "execution_count": 5,
   "metadata": {},
   "outputs": [
    {
     "name": "stdout",
     "output_type": "stream",
     "text": [
      "Hello i am ranjith, i am a programmer\n",
      "Hello i am ranjith, i am a programmer\n",
      "Hello i am ranjith, i am a programmer\n"
     ]
    }
   ],
   "source": [
    "with open('data.txt','r') as file:\n",
    "    print(file.read())\n"
   ]
  },
  {
   "cell_type": "code",
   "execution_count": 8,
   "metadata": {},
   "outputs": [],
   "source": [
    "##binary files\n",
    "## writing to a binary file\n",
    "data = b'\\x00\\x01\\x02\\x00\\x00\\x00\\x00\\x00\\x00'\n",
    "with open('example.bin','wb') as file:\n",
    "    file.write(data)"
   ]
  },
  {
   "cell_type": "code",
   "execution_count": 9,
   "metadata": {},
   "outputs": [
    {
     "name": "stdout",
     "output_type": "stream",
     "text": [
      "b'\\x00\\x01\\x02\\x00\\x00\\x00\\x00\\x00\\x00'\n"
     ]
    }
   ],
   "source": [
    "## reading from a binary file\n",
    "with open('example.bin','rb') as file:\n",
    "    data = file.read()\n",
    "    print(data)"
   ]
  },
  {
   "cell_type": "code",
   "execution_count": 10,
   "metadata": {},
   "outputs": [],
   "source": [
    "## read the content from source text and write to a destination txt file\n",
    "##copy a txt file\n",
    "\n",
    "with open('data.txt','r') as file:\n",
    "    content = file.read()\n",
    "\n",
    "with open('sample.txt','a') as dest_file:\n",
    "    dest_file.write(content)"
   ]
  },
  {
   "cell_type": "code",
   "execution_count": 21,
   "metadata": {},
   "outputs": [
    {
     "name": "stdout",
     "output_type": "stream",
     "text": [
      "3\n",
      "24\n",
      "113\n"
     ]
    }
   ],
   "source": [
    "##read a txt file and count the number of line, words, char in a file\n",
    "\n",
    "with open('data.txt', 'r') as file:\n",
    "    content = file.readlines()\n",
    "    line_count= (len(content))\n",
    "    word_count= sum(len(line.split()) for line in content)\n",
    "    char_count = sum(len(line) for line in content)\n",
    "\n",
    "print(line_count)\n",
    "print(word_count)\n",
    "print(char_count)\n"
   ]
  },
  {
   "cell_type": "code",
   "execution_count": null,
   "metadata": {},
   "outputs": [],
   "source": []
  }
 ],
 "metadata": {
  "kernelspec": {
   "display_name": "base",
   "language": "python",
   "name": "python3"
  },
  "language_info": {
   "codemirror_mode": {
    "name": "ipython",
    "version": 3
   },
   "file_extension": ".py",
   "mimetype": "text/x-python",
   "name": "python",
   "nbconvert_exporter": "python",
   "pygments_lexer": "ipython3",
   "version": "3.11.5"
  }
 },
 "nbformat": 4,
 "nbformat_minor": 2
}
