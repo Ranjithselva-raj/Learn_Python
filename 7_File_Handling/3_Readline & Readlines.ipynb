{
 "cells": [
  {
   "cell_type": "code",
   "execution_count": 1,
   "metadata": {},
   "outputs": [
    {
     "name": "stdout",
     "output_type": "stream",
     "text": [
      "Hello i am ranjith, i am a programmerHello i am ranjith, i am a programmer\n",
      "\n",
      "Hello i am ranjith, i am a programmer\n",
      "\n"
     ]
    }
   ],
   "source": [
    "# opening the file and reading line by line\n",
    "# seek function is used to move the cursor to the beginning of the file after reading it \n",
    "with open ('data.txt', 'r') as file:\n",
    "    line1 = file.readline()\n",
    "    line2 = file.readline()\n",
    "    line3 = file.readline()\n",
    "\n",
    "print(line1)\n",
    "print(line2)\n",
    "print(line3) "
   ]
  },
  {
   "cell_type": "code",
   "execution_count": 7,
   "metadata": {},
   "outputs": [
    {
     "name": "stdout",
     "output_type": "stream",
     "text": [
      "['Hello i am ranjith, i am a programmerHello i am ranjith, i am a programmer\\n', 'Hello i am ranjith, i am a programmer\\n', 'Hello i am ranjith, i am a programmer\\n', 'Hello i am ranjith, i am a programmer']\n",
      "Hello i am ranjith, i am a programmerHello i am ranjith, i am a programmer\n",
      "\n",
      "Hello i am ranjith, i am a programmer\n",
      "\n",
      "Hello i am ranjith, i am a programmer\n",
      "\n",
      "Hello i am ranjith, i am a programmer\n"
     ]
    }
   ],
   "source": [
    "#opening the file and reading line by line using for loop\n",
    "with open ('data.txt', 'r') as file:\n",
    "    lines = file.readlines()\n",
    "\n",
    "print(lines)\n",
    "for i in lines:\n",
    "    print(i)"
   ]
  },
  {
   "cell_type": "markdown",
   "metadata": {},
   "source": [
    "Strip Method"
   ]
  },
  {
   "cell_type": "code",
   "execution_count": 1,
   "metadata": {},
   "outputs": [],
   "source": [
    "with open ('sample.txt', 'w') as file:\n",
    "    file.write('  Hello world  ')\n",
    "    file.close()\n",
    "    "
   ]
  },
  {
   "cell_type": "code",
   "execution_count": 16,
   "metadata": {},
   "outputs": [],
   "source": [
    "with open ('sample.txt', 'a') as file:\n",
    "    file.write('\\nHow are you?  ')\n",
    "    file.close()"
   ]
  },
  {
   "cell_type": "code",
   "execution_count": 17,
   "metadata": {},
   "outputs": [
    {
     "name": "stdout",
     "output_type": "stream",
     "text": [
      "Hello world  \n",
      "  How are you?  \n",
      " How are you?  \n",
      "How are you?  \n"
     ]
    }
   ],
   "source": [
    "txt = open('sample.txt', 'r')\n",
    "text = txt.read()\n",
    "stp_text = text.lstrip() #lstrip() and rstrip() remove spaces from left and right\n",
    "txt.close()\n",
    "print(stp_text)\n"
   ]
  },
  {
   "cell_type": "code",
   "execution_count": 19,
   "metadata": {},
   "outputs": [
    {
     "name": "stdout",
     "output_type": "stream",
     "text": [
      "['  Hello world  \\n', '  How are you?  \\n', ' How are you?  \\n', 'How are you?  ']\n",
      "Hello world\n",
      "How are you?\n",
      "How are you?\n",
      "How are you?\n"
     ]
    }
   ],
   "source": [
    "with open ('sample.txt', 'r') as file:\n",
    "    lines = file.readlines()\n",
    "\n",
    "print(lines)\n",
    "\n",
    "for i in lines:\n",
    "    print(i.strip())"
   ]
  },
  {
   "cell_type": "code",
   "execution_count": null,
   "metadata": {},
   "outputs": [],
   "source": []
  }
 ],
 "metadata": {
  "kernelspec": {
   "display_name": "base",
   "language": "python",
   "name": "python3"
  },
  "language_info": {
   "codemirror_mode": {
    "name": "ipython",
    "version": 3
   },
   "file_extension": ".py",
   "mimetype": "text/x-python",
   "name": "python",
   "nbconvert_exporter": "python",
   "pygments_lexer": "ipython3",
   "version": "3.11.5"
  }
 },
 "nbformat": 4,
 "nbformat_minor": 2
}
