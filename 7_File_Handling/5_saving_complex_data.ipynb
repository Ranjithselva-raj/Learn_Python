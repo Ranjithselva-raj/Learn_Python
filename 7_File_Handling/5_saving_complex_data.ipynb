{
 "cells": [
  {
   "cell_type": "code",
   "execution_count": null,
   "metadata": {},
   "outputs": [],
   "source": [
    "#we going to create 2 functions to save the data in a file"
   ]
  },
  {
   "cell_type": "code",
   "execution_count": 1,
   "metadata": {},
   "outputs": [],
   "source": [
    "def save_user_data():\n",
    "    name = input(\"Enter your name: \")\n",
    "    email = input(\"Enter your email: \")\n",
    "    contact = input(\"Enter your contact: \")\n",
    "    user_data =f\"name: {name}\\nemail:{email}\\ncontact:{contact}\\n\"\n",
    "    with open(\"user_data.txt\",\"a\") as file:\n",
    "        file.write(user_data)\n",
    "\n",
    "def read_user_data():\n",
    "    with open(\"user_data.txt\",\"r\") as file:\n",
    "        user_data = file.read()\n",
    "        print(user_data)\n",
    "\n",
    "   "
   ]
  },
  {
   "cell_type": "code",
   "execution_count": 2,
   "metadata": {},
   "outputs": [
    {
     "name": "stdout",
     "output_type": "stream",
     "text": [
      "name: Ranjith\n",
      "email:email@gmail.com\n",
      "contact:234567\n",
      "name: Vanu\n",
      "email:email@gmail.com\n",
      "contact:123456\n",
      "name: Kairaa\n",
      "email:email@gmail.com\n",
      "contact:1234567\n",
      "name: ranjith\n",
      "email:ranj@gmail.com\n",
      "contact:21322132\n",
      "\n"
     ]
    }
   ],
   "source": [
    "save_user_data()\n",
    "read_user_data()"
   ]
  },
  {
   "cell_type": "code",
   "execution_count": 25,
   "metadata": {},
   "outputs": [],
   "source": [
    "f=open(\"user_data.txt\",\"r\")"
   ]
  },
  {
   "cell_type": "code",
   "execution_count": 36,
   "metadata": {},
   "outputs": [
    {
     "data": {
      "text/plain": [
       "0"
      ]
     },
     "execution_count": 36,
     "metadata": {},
     "output_type": "execute_result"
    }
   ],
   "source": [
    "f.seek(0)"
   ]
  },
  {
   "cell_type": "code",
   "execution_count": 29,
   "metadata": {},
   "outputs": [
    {
     "data": {
      "text/plain": [
       "'name: Ranjith\\nemail:email@gmail.com\\ncontact:234567\\nname: Vanu\\nemail:email@gmail.com\\ncontact:123456\\nname: Kairaa\\nemail:email@gmail.com\\ncontact:1234567\\nname: ranjith\\nemail:ranj@gmail.com\\ncontact:21322132\\n'"
      ]
     },
     "execution_count": 29,
     "metadata": {},
     "output_type": "execute_result"
    }
   ],
   "source": [
    "f.read()"
   ]
  },
  {
   "cell_type": "code",
   "execution_count": 30,
   "metadata": {},
   "outputs": [
    {
     "data": {
      "text/plain": [
       "5"
      ]
     },
     "execution_count": 30,
     "metadata": {},
     "output_type": "execute_result"
    }
   ],
   "source": [
    "f.fileno()"
   ]
  },
  {
   "cell_type": "code",
   "execution_count": 37,
   "metadata": {},
   "outputs": [
    {
     "data": {
      "text/plain": [
       "'name: Ranjith\\nemail:email@gmail.com\\ncontact:234567\\nname: Vanu\\nemail:email@gmail.com\\ncontact:123456\\nname: Kairaa\\nemail:email@gmail.com\\ncontact:1234567\\nname: ranjith\\nemail:ranj@gmail.com\\ncontact:21322132\\n'"
      ]
     },
     "execution_count": 37,
     "metadata": {},
     "output_type": "execute_result"
    }
   ],
   "source": [
    "f.read()"
   ]
  },
  {
   "cell_type": "code",
   "execution_count": null,
   "metadata": {},
   "outputs": [],
   "source": []
  }
 ],
 "metadata": {
  "kernelspec": {
   "display_name": "base",
   "language": "python",
   "name": "python3"
  },
  "language_info": {
   "codemirror_mode": {
    "name": "ipython",
    "version": 3
   },
   "file_extension": ".py",
   "mimetype": "text/x-python",
   "name": "python",
   "nbconvert_exporter": "python",
   "pygments_lexer": "ipython3",
   "version": "3.11.5"
  }
 },
 "nbformat": 4,
 "nbformat_minor": 2
}
