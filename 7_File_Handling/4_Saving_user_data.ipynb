{
 "cells": [
  {
   "cell_type": "code",
   "execution_count": 8,
   "metadata": {},
   "outputs": [],
   "source": [
    "# Saving user data in a text file: accepting data from user and saving it in a text file\n",
    "while True:\n",
    "    with open(\"names.txt\", \"a\") as file:\n",
    "        name = input(\"Enter your name: \")\n",
    "        file.write(name+\"\\n\")\n",
    "        choice = input(\"Do you want to add more names? (y/n): \")\n",
    "        if choice == \"n\":\n",
    "            break\n"
   ]
  },
  {
   "cell_type": "code",
   "execution_count": 10,
   "metadata": {},
   "outputs": [
    {
     "name": "stdout",
     "output_type": "stream",
     "text": [
      "Ranjith\n",
      "Vanu\n",
      "Kairaa\n",
      "Arun\n",
      "Akil\n",
      "N\n"
     ]
    }
   ],
   "source": [
    "#Reading saved names\n",
    "\n",
    "with open(\"names.txt\", \"r\") as file:\n",
    "    for line in file:\n",
    "        print(line.strip().capitalize())\n"
   ]
  }
 ],
 "metadata": {
  "kernelspec": {
   "display_name": "base",
   "language": "python",
   "name": "python3"
  },
  "language_info": {
   "codemirror_mode": {
    "name": "ipython",
    "version": 3
   },
   "file_extension": ".py",
   "mimetype": "text/x-python",
   "name": "python",
   "nbconvert_exporter": "python",
   "pygments_lexer": "ipython3",
   "version": "3.11.5"
  }
 },
 "nbformat": 4,
 "nbformat_minor": 2
}
