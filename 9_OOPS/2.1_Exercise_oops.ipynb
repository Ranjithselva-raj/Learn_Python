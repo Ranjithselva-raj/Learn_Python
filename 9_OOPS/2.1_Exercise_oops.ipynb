{
 "cells": [
  {
   "cell_type": "code",
   "execution_count": 1,
   "metadata": {},
   "outputs": [
    {
     "name": "stdout",
     "output_type": "stream",
     "text": [
      "BMW X5 2020\n"
     ]
    }
   ],
   "source": [
    "# Module: Classes and Objects\n",
    "##Creating and Working with Classes and Objects\n",
    "###1: Basic Class and Object Creation\n",
    "#Create a class named `Car` with attributes `make`, `model`, and `year`. Create an object of the class and print its attributes.\n",
    "\n",
    "class Car:\n",
    "    def __init__(self,make,model,year):\n",
    "        self.make = make\n",
    "        self.model = model\n",
    "        self.year = year\n",
    "\n",
    "car = Car(\"BMW\",\"X5\",2020)\n",
    "print(car.make,car.model,car.year)"
   ]
  },
  {
   "cell_type": "code",
   "execution_count": null,
   "metadata": {},
   "outputs": [],
   "source": [
    "###2: Methods in Class\n",
    "#Add a method named `start_engine` to the `Car` class that prints a message when the engine starts. \n",
    "##Create an object of the class and call the method.\n",
    "\n",
    "class Car:\n",
    "    def __init__(self,make,model,year):\n",
    "        self.make = make\n",
    "        self.model = model\n",
    "        self.year = year\n",
    "    \n",
    "    def start_engine(self):\n",
    "        print(\"Engine started\")\n"
   ]
  },
  {
   "cell_type": "code",
   "execution_count": 2,
   "metadata": {},
   "outputs": [
    {
     "name": "stdout",
     "output_type": "stream",
     "text": [
      "Ranjeet 20\n"
     ]
    }
   ],
   "source": [
    "###3: Class with Constructor\n",
    "#Create a class named `Student` with attributes `name` and `age`. \n",
    "# Use a constructor to initialize these attributes. Create an object of the class and print its attributes.\n",
    "\n",
    "class Student:\n",
    "    def __init__(self,name,age):\n",
    "        self.name = name\n",
    "        self.age = age\n",
    "pupil1 = Student(\"Ranjeet\",20)\n",
    "print(pupil1.name,pupil1.age)\n",
    "\n"
   ]
  },
  {
   "cell_type": "code",
   "execution_count": 15,
   "metadata": {},
   "outputs": [
    {
     "name": "stdout",
     "output_type": "stream",
     "text": [
      "0\n"
     ]
    }
   ],
   "source": [
    "###4: Class with Private Attributes\n",
    "#Create a class named `BankAccount` with private attributes `account_number` and `balance`. \n",
    "# Add methods to deposit and withdraw money, and to check the balance. \n",
    "# Create an object of the class and perform some operations.\n",
    "\n",
    "class BankAccount:\n",
    "    def __init__(self,account_number,balance=0):\n",
    "        self.__account_number = account_number\n",
    "        self.__balance = balance\n",
    "\n",
    "    def deposit(self,amount):\n",
    "        self.__balance += amount\n",
    "\n",
    "    def withdraw(self,amount):\n",
    "        if self.__balance >= amount:\n",
    "            self.__balance -= amount\n",
    "        else:\n",
    "            print(\"Insufficient balance\")\n",
    "\n",
    "    def check_balance(self):\n",
    "        print(self.__balance)\n",
    "\n",
    "\n",
    "account = BankAccount(123456789)\n",
    "account.deposit(1000)"
   ]
  },
  {
   "cell_type": "code",
   "execution_count": 22,
   "metadata": {},
   "outputs": [
    {
     "name": "stdout",
     "output_type": "stream",
     "text": [
      "1998.5\n"
     ]
    }
   ],
   "source": [
    "\n",
    "account.check_balance()"
   ]
  },
  {
   "cell_type": "code",
   "execution_count": 21,
   "metadata": {},
   "outputs": [],
   "source": [
    "account.withdraw(1.5)"
   ]
  },
  {
   "cell_type": "code",
   "execution_count": 23,
   "metadata": {},
   "outputs": [
    {
     "name": "stdout",
     "output_type": "stream",
     "text": [
      "Ranjeet 20 123456\n"
     ]
    }
   ],
   "source": [
    "###5: Class Inheritance\n",
    "#Create a base class named `Person` with attributes `name` and `age`. \n",
    "# Create a derived class named `Employee` that inherits from `Person` and adds an attribute `employee_id`. \n",
    "# Create an object of the derived class and print its attributes.\n",
    "\n",
    "class Person:\n",
    "    def __init__(self,name,age):\n",
    "        self.name =name\n",
    "        self.age =age\n",
    "    \n",
    "class Employee(Person):\n",
    "    def __init__(self,name,age,employee_id):\n",
    "        super().__init__(name,age)\n",
    "        self.employee_id = employee_id\n",
    "\n",
    "emp = Employee(\"Ranjeet\",20,123456)\n",
    "print(emp.name,emp.age,emp.employee_id)"
   ]
  },
  {
   "cell_type": "code",
   "execution_count": 25,
   "metadata": {},
   "outputs": [
    {
     "name": "stdout",
     "output_type": "stream",
     "text": [
      "Employee(Name: Ranjeet, Age: 20, Employee ID: 123456)\n"
     ]
    }
   ],
   "source": [
    "### 6: Method Overriding\n",
    "#In the `Employee` class, override the `__str__` method to return a string representation of the object. \n",
    "#Create an object of the class and print it.\n",
    "\n",
    "class Employee(Person):\n",
    "    def __init__(self,name,age,employee_id):\n",
    "        super().__init__(name,age)\n",
    "        self.employee_id = employee_id\n",
    "    \n",
    "    def __str__(self):\n",
    "        return f\"Employee(Name: {self.name}, Age: {self.age}, Employee ID: {self.employee_id})\"\n",
    "    \n",
    "emp1= Employee(\"Ranjeet\",20,123456)\n",
    "print(emp1)\n"
   ]
  },
  {
   "cell_type": "code",
   "execution_count": 27,
   "metadata": {},
   "outputs": [
    {
     "name": "stdout",
     "output_type": "stream",
     "text": [
      "Hauz Khas New Delhi 110016\n"
     ]
    }
   ],
   "source": [
    "### 7: Class Composition\n",
    "#Create a class named `Address` with attributes `street`, `city`, and `zipcode`. \n",
    "# Create a class named `Person` that has an `Address` object as an attribute. \n",
    "# Create an object of the `Person` class and print its address.\n",
    "\n",
    "class Address:\n",
    "    def __init__(self,street,city,zipcode):\n",
    "        self.street = street\n",
    "        self.city =city\n",
    "        self.zipcode =zipcode\n",
    "\n",
    "class Person:\n",
    "    def __init__(self, name, age, address):\n",
    "        self.name = name\n",
    "        self.age = age\n",
    "        self.address = address\n",
    "\n",
    "address =Address(\"Hauz Khas\",\"New Delhi\",110016)\n",
    "person =Person(\"Ranjeet\",20,address)\n",
    "print(person.address.street,person.address.city,person.address.zipcode)"
   ]
  },
  {
   "cell_type": "code",
   "execution_count": 2,
   "metadata": {},
   "outputs": [
    {
     "name": "stdout",
     "output_type": "stream",
     "text": [
      "3\n"
     ]
    }
   ],
   "source": [
    "###8: Class with Class Variables\n",
    "#Create a class named `Counter` with a class variable `count`.\n",
    "# Each time an object is created, increment the count. Add a method to get the current count. \n",
    "# Create multiple objects and print the count.\n",
    "\n",
    "class Counter:\n",
    "    count = 0\n",
    "\n",
    "    def __init__(self):\n",
    "        Counter.count += 1\n",
    "\n",
    "    @classmethod\n",
    "    def get_count(cls):\n",
    "        return cls.count\n",
    "    \n",
    "\n",
    "c1 = Counter()\n",
    "c2 = Counter()\n",
    "c3 = Counter()\n",
    "print(Counter.get_count())"
   ]
  },
  {
   "cell_type": "code",
   "execution_count": 1,
   "metadata": {},
   "outputs": [
    {
     "name": "stdout",
     "output_type": "stream",
     "text": [
      "5.0\n"
     ]
    }
   ],
   "source": [
    "###9: Static Methods\n",
    "\n",
    "#Create a class named `MathOperations` with a static method to calculate the square root of a number. \n",
    "# Call the static method without creating an object.\n",
    "\n",
    "\n",
    "class MathOperations:\n",
    "    @staticmethod\n",
    "    def sqrt(number):\n",
    "        return number**0.5\n",
    "\n",
    "print(MathOperations.sqrt(25))"
   ]
  },
  {
   "cell_type": "code",
   "execution_count": null,
   "metadata": {},
   "outputs": [],
   "source": [
    "###10: Class with Properties\n",
    "#Create a class named `Rectangle` with private attributes `length` and `width`. \n",
    "#Use properties to get and set these attributes. Create an object of the class and test the properties.\n",
    "\n",
    "class Rectangle:\n",
    "    def __init__(self,length,width):\n",
    "        self.__length =length\n",
    "        self.__width = width\n",
    "\n",
    "    @property\n",
    "    def length(self):\n",
    "        return self.__length\n",
    "\n",
    "    @length.setter\n",
    "    def length(self,length):\n",
    "        self.length = length\n",
    "\n",
    "    @property\n",
    "    def width(self):\n",
    "        return self.__width\n",
    "\n",
    "    @width.setter\n",
    "    def width(self,width):\n",
    "        self.width = width\n",
    "    \n",
    "rect = Rectangle(10,5)\n",
    "print(rect.length,rect.width)\n",
    "rect.length = 20\n",
    "rect.width = 10\n",
    "print(rect.length,rect.width)"
   ]
  },
  {
   "cell_type": "code",
   "execution_count": 6,
   "metadata": {},
   "outputs": [
    {
     "name": "stdout",
     "output_type": "stream",
     "text": [
      "78.53981633974483\n",
      "25\n"
     ]
    }
   ],
   "source": [
    "###11: Abstract Base Class\n",
    "#Create an abstract base class named `Shape` with an abstract method `area`.\n",
    "#  Create derived classes `Circle` and `Square` that implement the `area` method.\n",
    "#  Create objects of the derived classes and call the `area` method.\n",
    "\n",
    "from abc import ABC, abstractmethod\n",
    "import math\n",
    "\n",
    "class Shape(ABC):\n",
    "    @abstractmethod\n",
    "    def area(self):\n",
    "        pass\n",
    "\n",
    "class Circle(Shape):\n",
    "    def __init__(self, radius):\n",
    "        self.radius = radius\n",
    "\n",
    "    def area(self):\n",
    "        return math.pi * self.radius ** 2\n",
    "\n",
    "class Square(Shape):\n",
    "    def __init__(self, side):\n",
    "        self.side = side\n",
    "\n",
    "    def area(self):\n",
    "        return self.side ** 2\n",
    "    \n",
    "\n",
    "circle = Circle(5)\n",
    "print(circle.area())    \n",
    "\n",
    "square = Square(5)\n",
    "print(square.area())"
   ]
  },
  {
   "cell_type": "code",
   "execution_count": 7,
   "metadata": {},
   "outputs": [
    {
     "name": "stdout",
     "output_type": "stream",
     "text": [
      "vector(4,6)\n"
     ]
    }
   ],
   "source": [
    "###12: Operator Overloading\n",
    "\n",
    "#Create a class named `Vector` with attributes `x` and `y`. Overload the `+` operator to add two `Vector` objects. \n",
    "# Create objects of the class and test the operator overloading.\n",
    "\n",
    "class Vector:\n",
    "    def __init__(self,x,y):\n",
    "        self.x = x\n",
    "        self.y = y\n",
    "    \n",
    "    def __add__(self,other):\n",
    "        return Vector(self.x + other.x, self.y + other.y)\n",
    "    \n",
    "    def __str__(self):\n",
    "        return f\"vector({self.x},{self.y})\"\n",
    "\n",
    "v1 = Vector(1,2)\n",
    "v2 = Vector(3,4)\n",
    "v3 = v1 + v2\n",
    "print(v3)\n"
   ]
  },
  {
   "cell_type": "code",
   "execution_count": 9,
   "metadata": {},
   "outputs": [],
   "source": [
    "###13: Class with Custom Exception\n",
    "#Create a custom exception named `InsufficientBalanceError`. \n",
    "# In the `BankAccount` class, raise this exception when a withdrawal amount is greater than the balance. \n",
    "# Handle the exception and print an appropriate message.\n",
    "\n",
    "class InsufficientBalanceError(Exception):\n",
    "    pass\n",
    "\n",
    "class BankAccount:\n",
    "    def __init__(self,account_number,balance=0):\n",
    "        self.__account_number = account_number\n",
    "        self.__balance = balance\n",
    "\n",
    "    def deposit(self,amount):\n",
    "        self.__balance += amount\n",
    "\n",
    "    def withdraw(self,amount):\n",
    "        if self.__balance < amount:\n",
    "            raise InsufficientBalanceError(\"Insufficient balance\")         \n",
    "        else:\n",
    "            self.__balance -= amount\n",
    "\n",
    "    def check_balance(self):\n",
    "        print(self.__balance)\n",
    "\n",
    "account = BankAccount(123456789)\n",
    "account.deposit(1000)\n",
    "\n"
   ]
  },
  {
   "cell_type": "code",
   "execution_count": 12,
   "metadata": {},
   "outputs": [
    {
     "name": "stdout",
     "output_type": "stream",
     "text": [
      "error: Insufficient balance\n"
     ]
    }
   ],
   "source": [
    "try:\n",
    "    account.withdraw(1001)\n",
    "except InsufficientBalanceError as e:\n",
    "    print(f\"Error: {e}\")"
   ]
  },
  {
   "cell_type": "code",
   "execution_count": 7,
   "metadata": {},
   "outputs": [
    {
     "name": "stdout",
     "output_type": "stream",
     "text": [
      "0\n"
     ]
    }
   ],
   "source": [
    "account.check_balance()"
   ]
  },
  {
   "cell_type": "code",
   "execution_count": 15,
   "metadata": {},
   "outputs": [
    {
     "name": "stdout",
     "output_type": "stream",
     "text": [
      "Hello i am ranjith, i am a programmer\n",
      "Hello i am ranjith, i am a programmer\n",
      "\n"
     ]
    }
   ],
   "source": [
    "###14: Class with Context Manager\n",
    "#Create a class named `FileManager` that implements the context manager protocol to open and close a file. \n",
    "# Use this class to read the contents of a file.\n",
    "\n",
    "class FileManager:\n",
    "    def __init__(self, filename, mode):\n",
    "        self.filename = filename\n",
    "        self.mode = mode\n",
    "\n",
    "    def __enter__(self):\n",
    "        self.file = open(self.filename, self.mode)\n",
    "        return self.file\n",
    "\n",
    "    def __exit__(self, type, value, traceback):\n",
    "        self.file.close()\n",
    "\n",
    "with FileManager(\"data.txt\", \"r\") as f:\n",
    "    print(f.read())"
   ]
  },
  {
   "cell_type": "code",
   "execution_count": 16,
   "metadata": {},
   "outputs": [
    {
     "name": "stdout",
     "output_type": "stream",
     "text": [
      "4.0\n"
     ]
    }
   ],
   "source": [
    "###15: Chaining Methods\n",
    "#Create a class named `Calculator` with methods to add, subtract, multiply, and divide. \n",
    "#Each method should return the object itself to allow method chaining. Create an object and chain multiple method calls.\n",
    "\n",
    "class Calculator:\n",
    "    def __init__(self,value=0):\n",
    "        self.value = value\n",
    "        pass\n",
    "\n",
    "    def add(self, amount):\n",
    "        self.value += amount\n",
    "        return self\n",
    "\n",
    "    def subtract(self, amount):\n",
    "        self.value -= amount\n",
    "        return self\n",
    "\n",
    "    def multiply(self, amount):\n",
    "        self.value *= amount\n",
    "        return self\n",
    "\n",
    "    def divide(self, amount):\n",
    "        if amount != 0:\n",
    "            self.value /= amount\n",
    "        else:\n",
    "            print(\"Cannot divide by zero\")\n",
    "        return self\n",
    "\n",
    "calc = Calculator()\n",
    "calc.add(10).multiply(2).divide(5)\n",
    "print(calc.value)\n"
   ]
  },
  {
   "cell_type": "code",
   "execution_count": null,
   "metadata": {},
   "outputs": [],
   "source": []
  }
 ],
 "metadata": {
  "kernelspec": {
   "display_name": "base",
   "language": "python",
   "name": "python3"
  },
  "language_info": {
   "codemirror_mode": {
    "name": "ipython",
    "version": 3
   },
   "file_extension": ".py",
   "mimetype": "text/x-python",
   "name": "python",
   "nbconvert_exporter": "python",
   "pygments_lexer": "ipython3",
   "version": "3.11.5"
  }
 },
 "nbformat": 4,
 "nbformat_minor": 2
}
