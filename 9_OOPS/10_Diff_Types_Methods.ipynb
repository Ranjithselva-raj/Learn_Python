{
 "cells": [
  {
   "cell_type": "markdown",
   "metadata": {},
   "source": [
    "We have 3 types of methods 1)instance method 2)Class method 3)static methods"
   ]
  },
  {
   "cell_type": "markdown",
   "metadata": {},
   "source": [
    "1)instance methods\n",
    "They are methods which acts on the instance variables of a specific class"
   ]
  },
  {
   "cell_type": "code",
   "execution_count": 2,
   "metadata": {},
   "outputs": [
    {
     "name": "stdout",
     "output_type": "stream",
     "text": [
      "Hello my name is Ranjith\n"
     ]
    },
    {
     "data": {
      "text/plain": [
       "7"
      ]
     },
     "execution_count": 2,
     "metadata": {},
     "output_type": "execute_result"
    }
   ],
   "source": [
    "class Student:\n",
    "    def __init__(self,name):\n",
    "        #instance attribute\n",
    "        self.name = name\n",
    "    \n",
    "    #instance method\n",
    "    def hello(self):\n",
    "        print(f\"Hello my name is {self.name}\")\n",
    "\n",
    "    #instance method\n",
    "    def name_length(self):\n",
    "        return len(self.name)\n",
    "\n",
    "student1=Student(\"Ranjith\")\n",
    "student1.hello()\n",
    "student1.name_length()\n"
   ]
  },
  {
   "cell_type": "markdown",
   "metadata": {},
   "source": [
    "2)Class Method\n",
    "This method which access the class variable instead of instance variable\n",
    "In class method we do not pass self"
   ]
  },
  {
   "cell_type": "code",
   "execution_count": 3,
   "metadata": {},
   "outputs": [
    {
     "name": "stdout",
     "output_type": "stream",
     "text": [
      "Hello my name is Ranjith\n",
      "I am a student\n"
     ]
    }
   ],
   "source": [
    "class Student:\n",
    "    #class attribute\n",
    "    category =\"student\"\n",
    "\n",
    "    def __init__(self,name):\n",
    "        #instance attribute\n",
    "        self.name = name\n",
    "    \n",
    "    #instance method\n",
    "    def hello(self):\n",
    "        print(f\"Hello my name is {self.name}\")\n",
    "\n",
    "    #instance method\n",
    "    def name_length(self):\n",
    "        return len(self.name)\n",
    "\n",
    "    #class method we have to use @classmethod and pass cls as first argument\n",
    "    @classmethod\n",
    "    def info(cls):\n",
    "        print(f\"I am a {cls.category}\")\n",
    "\n",
    "student1=Student(\"Ranjith\")\n",
    "student1.hello()\n",
    "student1.name_length()\n",
    "\n",
    "Student.info()\n"
   ]
  },
  {
   "cell_type": "markdown",
   "metadata": {},
   "source": [
    "3) Static method\n",
    "This method actually belongs to the class but they do not have the access to the either instance or class variables"
   ]
  },
  {
   "cell_type": "code",
   "execution_count": 4,
   "metadata": {},
   "outputs": [
    {
     "name": "stdout",
     "output_type": "stream",
     "text": [
      "Hello my name is Ranjith\n",
      "I am a student\n"
     ]
    },
    {
     "data": {
      "text/plain": [
       "30"
      ]
     },
     "execution_count": 4,
     "metadata": {},
     "output_type": "execute_result"
    }
   ],
   "source": [
    "class Student:\n",
    "    #class attribute\n",
    "    category =\"student\"\n",
    "\n",
    "    def __init__(self,name):\n",
    "        #instance attribute\n",
    "        self.name = name\n",
    "    \n",
    "    #instance method\n",
    "    def hello(self):\n",
    "        print(f\"Hello my name is {self.name}\")\n",
    "\n",
    "    #instance method\n",
    "    def name_length(self):\n",
    "        return len(self.name)\n",
    "\n",
    "    #class method we have to use @classmethod and pass cls as first argument\n",
    "    @classmethod\n",
    "    def info(cls):\n",
    "        print(f\"I am a {cls.category}\")\n",
    "\n",
    "    #static method we have to use @staticmethod and pass argument as per the requirement \n",
    "    #because it does not have access to self(instance) or cls(class) variable its like a normal function not depend on self or cls \n",
    "    @staticmethod\n",
    "    def add(a,b):\n",
    "        return a+b\n",
    "\n",
    "student1=Student(\"Ranjith\")\n",
    "student1.hello()\n",
    "student1.name_length()\n",
    "\n",
    "Student.info()\n",
    "\n",
    "Student.add(10,20)\n"
   ]
  },
  {
   "cell_type": "code",
   "execution_count": 5,
   "metadata": {},
   "outputs": [
    {
     "name": "stdout",
     "output_type": "stream",
     "text": [
      "78.5 31.400000000000002\n"
     ]
    }
   ],
   "source": [
    "#example of static method which does not have access to self(instance) or cls(class) variable\n",
    "class Circle:\n",
    "\n",
    "    @staticmethod\n",
    "    def area(r):\n",
    "        return 3.14*r*r\n",
    "    @staticmethod\n",
    "    def perimeter(r):\n",
    "        return 2*3.14*r\n",
    "    \n",
    "a=Circle.area(5)\n",
    "p=Circle.perimeter(5)\n",
    "print(a,p)\n",
    "\n",
    "    "
   ]
  }
 ],
 "metadata": {
  "kernelspec": {
   "display_name": "base",
   "language": "python",
   "name": "python3"
  },
  "language_info": {
   "codemirror_mode": {
    "name": "ipython",
    "version": 3
   },
   "file_extension": ".py",
   "mimetype": "text/x-python",
   "name": "python",
   "nbconvert_exporter": "python",
   "pygments_lexer": "ipython3",
   "version": "3.11.5"
  }
 },
 "nbformat": 4,
 "nbformat_minor": 2
}
