{
 "cells": [
  {
   "cell_type": "code",
   "execution_count": 5,
   "metadata": {},
   "outputs": [
    {
     "name": "stdout",
     "output_type": "stream",
     "text": [
      "Drive\n",
      "BMW\n",
      "Rotating\n"
     ]
    }
   ],
   "source": [
    "class Car:\n",
    "    def __init__(self,brand):\n",
    "        self.brand = brand\n",
    "        #to access the nested class [Steering] we have to create an object instance of the nested class in the parent class constructor as shown below \n",
    "        self.steering_object = self.Steering()\n",
    "\n",
    "    @staticmethod\n",
    "    def drive():\n",
    "        print(\"Drive\")\n",
    "\n",
    "    class Steering:\n",
    "        def rotate(self):\n",
    "            print(\"Rotating\")\n",
    "\n",
    "\n",
    "car = Car(\"BMW\")\n",
    "car.drive()\n",
    "print(car.brand)\n",
    "\n",
    "#create an object of the nested class\n",
    "steering = car.steering_object()\n",
    "steering.rotate()\n"
   ]
  },
  {
   "cell_type": "markdown",
   "metadata": {},
   "source": [
    "Nesting Class real world Example"
   ]
  },
  {
   "cell_type": "code",
   "execution_count": 6,
   "metadata": {},
   "outputs": [
    {
     "name": "stdout",
     "output_type": "stream",
     "text": [
      "Name: Lion, Species: Carnivore\n",
      "Name: Tiger, Species: Carnivore\n"
     ]
    }
   ],
   "source": [
    "class Zoo:\n",
    "\n",
    "    def __init__(self):\n",
    "        self.animals =[]\n",
    "\n",
    "\n",
    "    #add_animal method to add animals to the zoo \n",
    "    def add_animal(self, name, species):\n",
    "        #create an animal object invoking the inner class[Animal] constructor with name and species and append it to the animals list\n",
    "        animal =self.Animal(name, species)\n",
    "        self.animals.append(animal)\n",
    "\n",
    "    #inner class Animal  and constructor with name and species \n",
    "    class Animal:\n",
    "        def __init__(self, name, species):\n",
    "            self.name = name\n",
    "            self.species = species\n",
    "        \n",
    "        def display_info(self):\n",
    "            print(f\"Name: {self.name}, Species: {self.species}\")\n",
    "\n",
    "#create zoo\n",
    "my_zoo = Zoo()\n",
    "\n",
    "#add animals to zoo\n",
    "my_zoo.add_animal(\"Lion\", \"Carnivore\")\n",
    "my_zoo.add_animal(\"Tiger\", \"Carnivore\")\n",
    "\n",
    "#display animals in zoo\n",
    "\n",
    "for animal in my_zoo.animals:\n",
    "    animal.display_info()\n",
    "\n"
   ]
  },
  {
   "cell_type": "markdown",
   "metadata": {},
   "source": []
  }
 ],
 "metadata": {
  "kernelspec": {
   "display_name": "base",
   "language": "python",
   "name": "python3"
  },
  "language_info": {
   "codemirror_mode": {
    "name": "ipython",
    "version": 3
   },
   "file_extension": ".py",
   "mimetype": "text/x-python",
   "name": "python",
   "nbconvert_exporter": "python",
   "pygments_lexer": "ipython3",
   "version": "3.11.5"
  }
 },
 "nbformat": 4,
 "nbformat_minor": 2
}
