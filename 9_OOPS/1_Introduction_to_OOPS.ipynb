{
 "cells": [
  {
   "cell_type": "code",
   "execution_count": 5,
   "metadata": {},
   "outputs": [
    {
     "data": {
      "text/plain": [
       "4000"
      ]
     },
     "execution_count": 5,
     "metadata": {},
     "output_type": "execute_result"
    }
   ],
   "source": [
    "#create a class and objects\n",
    "\n",
    "class Product:\n",
    "    #create attributes\n",
    "    Quantity = 4000\n",
    "    #create a constructor\n",
    "\n",
    "#create an object\n",
    "pro1 = Product()\n",
    "\n",
    "#access the attributes\n",
    "#print(pro1) #it will print the memory location <__main__.Product object at 0x0000023667A36190>\n",
    "pro1.Quantity\n",
    "\n",
    "#creating another object\n",
    "pro2=Product()\n",
    "pro2.Quantity\n",
    "            "
   ]
  },
  {
   "cell_type": "code",
   "execution_count": null,
   "metadata": {},
   "outputs": [],
   "source": []
  }
 ],
 "metadata": {
  "kernelspec": {
   "display_name": "base",
   "language": "python",
   "name": "python3"
  },
  "language_info": {
   "codemirror_mode": {
    "name": "ipython",
    "version": 3
   },
   "file_extension": ".py",
   "mimetype": "text/x-python",
   "name": "python",
   "nbconvert_exporter": "python",
   "pygments_lexer": "ipython3",
   "version": "3.11.5"
  }
 },
 "nbformat": 4,
 "nbformat_minor": 2
}
