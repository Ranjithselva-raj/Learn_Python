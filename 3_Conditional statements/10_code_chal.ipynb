{
 "cells": [
  {
   "cell_type": "code",
   "execution_count": 1,
   "metadata": {},
   "outputs": [
    {
     "name": "stdout",
     "output_type": "stream",
     "text": [
      "I am a programmer\n",
      "I am a programmer\n",
      "I am a programmer\n",
      "I am a programmer\n",
      "I am a programmer\n"
     ]
    }
   ],
   "source": [
    "#Task no 1: Using a for-loop and a range function, print \"I am a programmer\" 5 times.\n",
    "\n",
    "for i in range(5):\n",
    "    print(\"I am a programmer\")"
   ]
  },
  {
   "cell_type": "code",
   "execution_count": 7,
   "metadata": {},
   "outputs": [
    {
     "name": "stdout",
     "output_type": "stream",
     "text": [
      "1\n",
      "4\n",
      "9\n",
      "16\n",
      "25\n",
      "36\n",
      "49\n",
      "64\n",
      "81\n"
     ]
    }
   ],
   "source": [
    "#Task no 2: Create a function which displays out the square values of numbers from 1 to 9.\n",
    "\n",
    "def square(x):\n",
    "    return x**2\n",
    "\n",
    "for i in range(1,10):\n",
    "    print(square(i))"
   ]
  },
  {
   "cell_type": "code",
   "execution_count": null,
   "metadata": {},
   "outputs": [],
   "source": []
  }
 ],
 "metadata": {
  "kernelspec": {
   "display_name": "base",
   "language": "python",
   "name": "python3"
  },
  "language_info": {
   "codemirror_mode": {
    "name": "ipython",
    "version": 3
   },
   "file_extension": ".py",
   "mimetype": "text/x-python",
   "name": "python",
   "nbconvert_exporter": "python",
   "pygments_lexer": "ipython3",
   "version": "3.11.5"
  }
 },
 "nbformat": 4,
 "nbformat_minor": 2
}
