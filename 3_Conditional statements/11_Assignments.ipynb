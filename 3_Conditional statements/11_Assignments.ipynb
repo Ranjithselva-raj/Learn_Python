{
 "cells": [
  {
   "cell_type": "markdown",
   "metadata": {},
   "source": [
    "Control flow assignments"
   ]
  },
  {
   "cell_type": "code",
   "execution_count": 6,
   "metadata": {},
   "outputs": [
    {
     "name": "stdout",
     "output_type": "stream",
     "text": [
      "The number 5 is positive\n"
     ]
    }
   ],
   "source": [
    "#1. write a program thats asks the user to input a number and prints whether the number is positive.\n",
    "\n",
    "a = int(input(\"Enter a number: \"))\n",
    "\n",
    "if a > 0:\n",
    "    print(f\"The number {a} is positive\")\n",
    "\n"
   ]
  },
  {
   "cell_type": "code",
   "execution_count": null,
   "metadata": {},
   "outputs": [],
   "source": [
    "#2.write a program that asks the user to input a number and prints whether the number is positive or negative.\n",
    "\n",
    "a = int(input(\"Enter a number: \"))\n",
    "\n",
    "if a > 0:\n",
    "    print(f\"The number {a} is positive\")\n",
    "else:\n",
    "    print(f\"The number {a} is negative\")"
   ]
  },
  {
   "cell_type": "code",
   "execution_count": 9,
   "metadata": {},
   "outputs": [
    {
     "name": "stdout",
     "output_type": "stream",
     "text": [
      "The number -1 is negative\n"
     ]
    }
   ],
   "source": [
    "#3. write a program that asks the user to input a number and prints whether the number is positive or negative or zero.\n",
    "\n",
    "a = int(input(\"Enter a number: \"))\n",
    "\n",
    "if a > 0:\n",
    "    print(f\"The number {a} is positive\")\n",
    "elif a < 0:\n",
    "    print(f\"The number {a} is negative\")\n",
    "else:\n",
    "    print(f\"The number {a} is zero\")"
   ]
  },
  {
   "cell_type": "code",
   "execution_count": 10,
   "metadata": {},
   "outputs": [
    {
     "name": "stdout",
     "output_type": "stream",
     "text": [
      "The number 3 is positive and odd\n"
     ]
    }
   ],
   "source": [
    "#4. write a program that asks the user to input a number and prints whether the number is positive and even, positive and odd or negative.\n",
    "\n",
    "a = int(input(\"Enter a number: \"))\n",
    "\n",
    "if a > 0:\n",
    "    if a % 2 == 0:\n",
    "        print(f\"The number {a} is positive and even\")\n",
    "    else:\n",
    "        print(f\"The number {a} is positive and odd\")\n",
    "elif a < 0:\n",
    "    print(f\"The number {a} is negative\")\n",
    "else:\n",
    "    print(f\"The number {a} is zero\")"
   ]
  },
  {
   "cell_type": "code",
   "execution_count": 12,
   "metadata": {},
   "outputs": [
    {
     "name": "stdout",
     "output_type": "stream",
     "text": [
      "1\n",
      "2\n",
      "3\n",
      "4\n",
      "5\n"
     ]
    }
   ],
   "source": [
    "#5.for loop\n",
    "#write a program that prints all the numbers from 1 to 10 using for loop.\n",
    "\n",
    "for i in range(1,11):\n",
    "    print(i)"
   ]
  },
  {
   "cell_type": "code",
   "execution_count": 14,
   "metadata": {},
   "outputs": [
    {
     "name": "stdout",
     "output_type": "stream",
     "text": [
      "1\n",
      "2\n",
      "3\n",
      "4\n",
      "5\n",
      "6\n",
      "7\n",
      "8\n",
      "9\n",
      "10\n"
     ]
    }
   ],
   "source": [
    "#6.while loop\n",
    "#write a program that prints all the numbers from 1 to 10 using while loop.\n",
    "\n",
    "i = 1\n",
    "while i <= 10:\n",
    "    print(i)\n",
    "    i += 1"
   ]
  },
  {
   "cell_type": "code",
   "execution_count": 17,
   "metadata": {},
   "outputs": [
    {
     "name": "stdout",
     "output_type": "stream",
     "text": [
      "* * * * * \n",
      "* * * * * \n",
      "* * * * * \n",
      "* * * * * \n",
      "* * * * * \n"
     ]
    }
   ],
   "source": [
    "#7. Nested loops\n",
    "# write a program that print 5*5 grid of astericks(*)using nested loops.\n",
    "\n",
    "for i in range(5):\n",
    "    for j in range(5):\n",
    "        print(\"*\", end=\" \")\n",
    "    print()"
   ]
  },
  {
   "cell_type": "code",
   "execution_count": 20,
   "metadata": {},
   "outputs": [
    {
     "name": "stdout",
     "output_type": "stream",
     "text": [
      "10\n"
     ]
    }
   ],
   "source": [
    "#8. write a program that asks the user to input numbers until they input 0. The program should print the sum of all the input numbers.\n",
    "\n",
    "sum = 0\n",
    "while True:\n",
    "    a = int(input(\"Enter a number: \"))\n",
    "    if a == 0:\n",
    "        break\n",
    "    sum += a\n",
    "print(sum)\n"
   ]
  },
  {
   "cell_type": "code",
   "execution_count": 21,
   "metadata": {},
   "outputs": [
    {
     "name": "stdout",
     "output_type": "stream",
     "text": [
      "1\n",
      "2\n",
      "3\n",
      "4\n",
      "6\n",
      "7\n",
      "8\n",
      "9\n",
      "10\n"
     ]
    }
   ],
   "source": [
    "#9. write a program that prints all the numbers from 1 to 10 except 5 using a for loop and continue statement.\n",
    "\n",
    "for i in range(1,11):\n",
    "    if i == 5:\n",
    "        continue\n",
    "    print(i)"
   ]
  },
  {
   "cell_type": "code",
   "execution_count": 33,
   "metadata": {},
   "outputs": [],
   "source": [
    "#10. pass statement\n",
    "#write a program that defines an empty function using the pass statement.\n",
    "def my_function():\n",
    "    pass\n",
    "\n",
    "my_function()"
   ]
  },
  {
   "cell_type": "code",
   "execution_count": 23,
   "metadata": {},
   "outputs": [
    {
     "name": "stdout",
     "output_type": "stream",
     "text": [
      "2\n",
      "4\n",
      "6\n",
      "8\n",
      "10\n"
     ]
    }
   ],
   "source": [
    "#11. combining loops and conditionals\n",
    "#write a program that asks the user to input a number and prints all the even numbers from 1 to that number using a for loop.\n",
    "\n",
    "a = int(input(\"Enter a number: \"))\n",
    "\n",
    "for i in range(1, a+1):\n",
    "    if i % 2 == 0:\n",
    "        print(i)"
   ]
  },
  {
   "cell_type": "code",
   "execution_count": 34,
   "metadata": {},
   "outputs": [
    {
     "name": "stdout",
     "output_type": "stream",
     "text": [
      " The factorial of 5 is 120\n"
     ]
    }
   ],
   "source": [
    "#12. Factorial calculation\n",
    "#write a program that calculates the factorial of a number input by user using a while loop.\n",
    "\n",
    "a = int(input(\"Enter a number: \"))\n",
    "\n",
    "fact = 1\n",
    "i = 1\n",
    "while i <= a:\n",
    "    fact *= i\n",
    "    i += 1\n",
    "print(f\" The factorial of {a} is {fact}\")\n"
   ]
  },
  {
   "cell_type": "code",
   "execution_count": 32,
   "metadata": {},
   "outputs": [
    {
     "data": {
      "text/plain": [
       "120"
      ]
     },
     "execution_count": 32,
     "metadata": {},
     "output_type": "execute_result"
    }
   ],
   "source": [
    "#factorial using recursion\n",
    "def fact(number):\n",
    "    if number == 1:\n",
    "        return 1\n",
    "    else:\n",
    "        return number*fact(number-1)\n",
    "    \n",
    "fact(5)\n",
    "#factorial works in python\n",
    "#fact(5) = return 5* fact(5-1 = 4)\n",
    "#fact(4) = return 4* fact(3)\n",
    "#fact(3) = return 3* fact(2)\n",
    "#fact(2) = return 2* fact(1)\n",
    "#fact(1) = return 1\n",
    " "
   ]
  },
  {
   "cell_type": "code",
   "execution_count": 38,
   "metadata": {},
   "outputs": [
    {
     "name": "stdout",
     "output_type": "stream",
     "text": [
      "5\n"
     ]
    }
   ],
   "source": [
    "#13. Sum of digits\n",
    "#write a program that calculates the sum of the digits of a number input by the user using a while loop.\n",
    "\n",
    "number = int(input(\"Enter a number: \"))\n",
    "sum_of_digits = 0\n",
    "while number > 0:\n",
    "    digit = number % 10\n",
    "    sum_of_digits += digit\n",
    "    number = number // 10\n",
    "print(sum_of_digits)\n",
    "\n",
    "\n"
   ]
  },
  {
   "cell_type": "code",
   "execution_count": 28,
   "metadata": {},
   "outputs": [
    {
     "name": "stdout",
     "output_type": "stream",
     "text": [
      "2 Prime number\n",
      "3 Prime number\n",
      " 4 Not a prime number\n",
      "5 Prime number\n",
      " 6 Not a prime number\n",
      "7 Prime number\n",
      " 8 Not a prime number\n",
      " 9 Not a prime number\n",
      " 10 Not a prime number\n"
     ]
    }
   ],
   "source": [
    "#14. Prime number check\n",
    "#write a program that checks if a number input by the user is a prime number using a for loop.\n",
    "\n",
    "n=int(input(\"Enter a number: \"))\n",
    "for a in range(1, n+1):\n",
    "    if a > 1:\n",
    "        for i in range(2, a):\n",
    "            if a % i == 0:\n",
    "                print(f\" {a} Not a prime number\")\n",
    "                break\n",
    "        else:\n",
    "            print(f\"{a} Prime number\")"
   ]
  },
  {
   "cell_type": "code",
   "execution_count": 29,
   "metadata": {},
   "outputs": [
    {
     "name": "stdout",
     "output_type": "stream",
     "text": [
      "0\n",
      "1\n",
      "1\n",
      "2\n",
      "3\n",
      "5\n",
      "8\n",
      "13\n",
      "21\n",
      "34\n"
     ]
    }
   ],
   "source": [
    "#15. fibonacci sequence\n",
    "\n",
    "#write a program that prints the fibonacci numbers, where n is the number input by the user.\n",
    "\n",
    "\n",
    "n = int(input(\"Enter a number: \"))\n",
    "a = 0\n",
    "b = 1\n",
    "i = 0\n",
    "while i < n:\n",
    "    print(a)\n",
    "    c = a + b\n",
    "    a = b\n",
    "    b = c\n",
    "    i += 1\n"
   ]
  }
 ],
 "metadata": {
  "kernelspec": {
   "display_name": "base",
   "language": "python",
   "name": "python3"
  },
  "language_info": {
   "codemirror_mode": {
    "name": "ipython",
    "version": 3
   },
   "file_extension": ".py",
   "mimetype": "text/x-python",
   "name": "python",
   "nbconvert_exporter": "python",
   "pygments_lexer": "ipython3",
   "version": "3.11.5"
  }
 },
 "nbformat": 4,
 "nbformat_minor": 2
}
