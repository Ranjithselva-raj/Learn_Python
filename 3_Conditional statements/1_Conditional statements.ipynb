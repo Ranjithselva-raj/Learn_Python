{
 "cells": [
  {
   "cell_type": "code",
   "execution_count": 3,
   "metadata": {},
   "outputs": [
    {
     "name": "stdout",
     "output_type": "stream",
     "text": [
      "You are 17 so you are not eligible to vote\n"
     ]
    }
   ],
   "source": [
    "#if elif else and nested if conditional statements \n",
    "\n",
    "#asking user age and checking if eligible to vote\n",
    "\n",
    "Person_age = int(input(\"Enter your age: \"))\n",
    "\n",
    "#set conditional statement if user is greater than or equal to 18\n",
    "if Person_age >= 18:\n",
    "    print(f\"You are {Person_age} so you are eligible to vote\")\n",
    "#set conditional statement if user is less than 18\n",
    "else:\n",
    "    print(f\"You are {Person_age} so you are not eligible to vote\")"
   ]
  },
  {
   "cell_type": "code",
   "execution_count": 9,
   "metadata": {},
   "outputs": [
    {
     "name": "stdout",
     "output_type": "stream",
     "text": [
      "your mark is 78 so grade is B\n"
     ]
    }
   ],
   "source": [
    "#Elif statement\n",
    "\n",
    "#asking user mark and checking grade of the student\n",
    "Student_mark = int(input(\"Enter your mark: \"))\n",
    "\n",
    "# set conditions based on the grade criteria\n",
    "if Student_mark >= 90:\n",
    "    print(f\"your mark is {Student_mark} so grade is A\")\n",
    "elif Student_mark >= 70:\n",
    "    print(f\"your mark is {Student_mark} so grade is B\")\n",
    "elif Student_mark >= 50:\n",
    "    print(f\"your mark is {Student_mark} so grade is C\")\n",
    "else:\n",
    "    print(\"your mark is less than 50 so grade is F\")"
   ]
  },
  {
   "cell_type": "code",
   "execution_count": 4,
   "metadata": {},
   "outputs": [
    {
     "name": "stdout",
     "output_type": "stream",
     "text": [
      "your age is less than 18 so you are not eligible to donate blood\n"
     ]
    }
   ],
   "source": [
    "#nested if statement\n",
    "\n",
    "#asking a student mark,age,height and weight and checking if he/she is eligible based on bmi to donate blood\n",
    "\n",
    "Students_mark = int(input(\"Enter your mark: \"))\n",
    "\n",
    "students_age = int(input(\"Enter your age: \"))\n",
    "students_height = float(input(\"Enter your height: \"))\n",
    "students_weight = float(input(\"Enter your weight: \"))\n",
    "BMI = students_weight/(students_height*students_height) #or BMI = weight/height**2\n",
    "\n",
    "#set conditions based on the grade criteria\n",
    "\n",
    "if Students_mark >=90:\n",
    "    if students_age >= 18:\n",
    "        if BMI >= 25:\n",
    "            print(f\"your score is {Students_mark} and your age is {students_age} and your BMI is {BMI} so you are eligible to donate blood\")\n",
    "        elif BMI < 25:\n",
    "            print(f\"your score is {Students_mark} and your age is {students_age} and your BMI is {BMI} so you are not eligible to donate blood\")\n",
    "    else:\n",
    "        print(\"your age is less than 18 so you are not eligible to donate blood\")\n",
    "elif Students_mark >= 70:\n",
    "    if students_age >= 18:\n",
    "        if BMI >= 25:\n",
    "            print(f\"your score is {Students_mark} and your age is {students_age} and your BMI is {BMI} so you are eligible to donate blood\")\n",
    "        elif BMI < 25:\n",
    "            print(f\"your score is {Students_mark} and your age is {students_age} and your BMI is {BMI} so you are not eligible to donate blood\")\n",
    "    else:\n",
    "        print(\"your age is less than 18 so you are not eligible to donate blood\")\n",
    "elif Students_mark >= 50:\n",
    "    if students_age >= 18:\n",
    "        if BMI >= 25:\n",
    "            print(f\"your score is {Students_mark} and your age is {students_age} and your BMI is {BMI} so you are eligible to donate blood\")\n",
    "        elif BMI < 25:\n",
    "            print(f\"your score is {Students_mark} and your age is {students_age} and your BMI is {BMI} so you are not eligible to donate blood\")\n",
    "    else:\n",
    "        print(\"your age is less than 18 so you are not eligible to donate blood\")\n",
    "else:\n",
    "    print(\"your mark is less than 50 so you are not eligible to donate blood\")\n",
    "    \n"
   ]
  },
  {
   "cell_type": "code",
   "execution_count": 10,
   "metadata": {},
   "outputs": [
    {
     "name": "stdout",
     "output_type": "stream",
     "text": [
      "your sales price is 20001. So you have discount of 3000.15. After discount your bill is 17000.85\n"
     ]
    }
   ],
   "source": [
    "sales_price = int(input(\"Enter the sales price: \"))\n",
    "\n",
    "if sales_price >= 20000:\n",
    "    discount = sales_price*0.15\n",
    "    after_discount = sales_price - discount\n",
    "    print(f\"your sales price is {sales_price}. So you have discount of {discount}. After discount your bill is {after_discount}\")\n",
    "elif sales_price >=14000:\n",
    "    discount = sales_price*0.10\n",
    "    after_discount = sales_price - discount\n",
    "    print(f\"your sales price is {sales_price}. So you have discount of {discount}. After discount your bill is {after_discount}\")\n",
    "elif sales_price >=7000:\n",
    "    discount = sales_price*0.05\n",
    "    after_discount = sales_price - discount\n",
    "    print(f\"your sales price is {sales_price}. So you have discount of {discount}. After discount your bill is {after_discount}\")\n",
    "else:\n",
    "    print(f\"Your sales price is {sales_price}.No discount sales price less than 7000 so you are not eligible to get discount\")    "
   ]
  },
  {
   "cell_type": "code",
   "execution_count": null,
   "metadata": {},
   "outputs": [],
   "source": []
  }
 ],
 "metadata": {
  "kernelspec": {
   "display_name": "base",
   "language": "python",
   "name": "python3"
  },
  "language_info": {
   "codemirror_mode": {
    "name": "ipython",
    "version": 3
   },
   "file_extension": ".py",
   "mimetype": "text/x-python",
   "name": "python",
   "nbconvert_exporter": "python",
   "pygments_lexer": "ipython3",
   "version": "3.11.5"
  }
 },
 "nbformat": 4,
 "nbformat_minor": 2
}
