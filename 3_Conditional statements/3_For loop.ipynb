{
 "cells": [
  {
   "cell_type": "code",
   "execution_count": 17,
   "metadata": {},
   "outputs": [
    {
     "name": "stdout",
     "output_type": "stream",
     "text": [
      "1 and index is 0\n",
      "2 and index is 1\n",
      "3 and index is 2\n",
      "4 and index is 3\n",
      "5 and index is 4\n",
      "6 and index is 5\n",
      "7 and index is 6\n",
      "8 and index is 7\n",
      "9 and index is 8\n",
      "10 and index is 9\n"
     ]
    }
   ],
   "source": [
    "#for loop statement\n",
    "numbers=list(range(1,11))\n",
    "for i in numbers:\n",
    "    print(f\"{i} and index is {numbers.index(i)}\")"
   ]
  },
  {
   "cell_type": "code",
   "execution_count": 1,
   "metadata": {},
   "outputs": [
    {
     "name": "stdout",
     "output_type": "stream",
     "text": [
      "apple and its index is 0\n",
      "banana and its index is 1\n",
      "cherry and its index is 2\n",
      "kiwi and its index is 3\n",
      "mango and its index is 4\n"
     ]
    }
   ],
   "source": [
    "fruits = [\"apple\", \"banana\", \"cherry\", \"kiwi\", \"mango\"]\n",
    "\n",
    "for i in fruits:\n",
    "    print(f\"{i} and its index is {fruits.index(i)}\")"
   ]
  },
  {
   "cell_type": "code",
   "execution_count": 22,
   "metadata": {},
   "outputs": [
    {
     "name": "stdout",
     "output_type": "stream",
     "text": [
      "a\n",
      "b\n",
      "c\n"
     ]
    }
   ],
   "source": [
    "#Looping through a dictionary\n",
    "\n",
    "d = {\"a\": 1, \"b\": 2, \"c\": 3}\n",
    "\n",
    "#to get the keys as output\n",
    "for i in d:\n",
    "    print(i)\n"
   ]
  },
  {
   "cell_type": "code",
   "execution_count": 23,
   "metadata": {},
   "outputs": [
    {
     "name": "stdout",
     "output_type": "stream",
     "text": [
      "1\n",
      "2\n",
      "3\n"
     ]
    }
   ],
   "source": [
    "#to get the values as output\n",
    "for i in d:\n",
    "    print(d[i])"
   ]
  },
  {
   "cell_type": "code",
   "execution_count": 8,
   "metadata": {},
   "outputs": [
    {
     "name": "stdout",
     "output_type": "stream",
     "text": [
      "i:0 and j:0 and k:0\n",
      "i:0 and j:0 and k:1\n",
      "i:0 and j:1 and k:0\n",
      "i:0 and j:1 and k:1\n",
      "i:0 and j:2 and k:0\n",
      "i:0 and j:2 and k:1\n",
      "i:1 and j:0 and k:0\n",
      "i:1 and j:0 and k:1\n",
      "i:1 and j:1 and k:0\n",
      "i:1 and j:1 and k:1\n",
      "i:1 and j:2 and k:0\n",
      "i:1 and j:2 and k:1\n",
      "i:2 and j:0 and k:0\n",
      "i:2 and j:0 and k:1\n",
      "i:2 and j:1 and k:0\n",
      "i:2 and j:1 and k:1\n",
      "i:2 and j:2 and k:0\n",
      "i:2 and j:2 and k:1\n",
      "i:3 and j:0 and k:0\n",
      "i:3 and j:0 and k:1\n",
      "i:3 and j:1 and k:0\n",
      "i:3 and j:1 and k:1\n",
      "i:3 and j:2 and k:0\n",
      "i:3 and j:2 and k:1\n"
     ]
    }
   ],
   "source": [
    "#nested for loops\n",
    "## a loop inside another loop\n",
    "\n",
    "for i in range(4):\n",
    "    for j in range(3):\n",
    "        for k in range(2):\n",
    "            print(f\"i:{i} and j:{j} and k:{k}\")"
   ]
  },
  {
   "cell_type": "code",
   "execution_count": 10,
   "metadata": {},
   "outputs": [
    {
     "name": "stdout",
     "output_type": "stream",
     "text": [
      "The sum of first 5 natural numbers is 15\n"
     ]
    }
   ],
   "source": [
    "## Examples -calculate the sum of first N natuaral numbers using for loop and while loop\n",
    "\n",
    "#using while loop\n",
    "\n",
    "\n",
    "n = int(input(\"Enter the number: \"))\n",
    "sum=0\n",
    "count=1\n",
    "\n",
    "while count<=n:\n",
    "    sum= sum+count\n",
    "    count=count+1\n",
    "\n",
    "print(f\"The sum of first {n} natural numbers is {sum}\")"
   ]
  },
  {
   "cell_type": "code",
   "execution_count": 11,
   "metadata": {},
   "outputs": [
    {
     "name": "stdout",
     "output_type": "stream",
     "text": [
      "The sum of first 5 natural numbers is 15\n"
     ]
    }
   ],
   "source": [
    "#using for loop\n",
    "n = int(input(\"Enter the number: \"))\n",
    "sum=0\n",
    "\n",
    "for i in range(1,n+1):\n",
    "    sum=sum+i\n",
    "\n",
    "print(f\"The sum of first {n} natural numbers is {sum}\")"
   ]
  }
 ],
 "metadata": {
  "kernelspec": {
   "display_name": "base",
   "language": "python",
   "name": "python3"
  },
  "language_info": {
   "codemirror_mode": {
    "name": "ipython",
    "version": 3
   },
   "file_extension": ".py",
   "mimetype": "text/x-python",
   "name": "python",
   "nbconvert_exporter": "python",
   "pygments_lexer": "ipython3",
   "version": "3.11.5"
  }
 },
 "nbformat": 4,
 "nbformat_minor": 2
}
