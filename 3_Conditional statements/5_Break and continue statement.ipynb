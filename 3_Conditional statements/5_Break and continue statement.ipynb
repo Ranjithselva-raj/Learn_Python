{
 "cells": [
  {
   "cell_type": "code",
   "execution_count": 1,
   "metadata": {},
   "outputs": [
    {
     "name": "stdout",
     "output_type": "stream",
     "text": [
      "0\n",
      "1\n",
      "2\n",
      "3\n",
      "4\n",
      "5\n"
     ]
    }
   ],
   "source": [
    "counter=0\n",
    "while counter<10:\n",
    "    print(counter)\n",
    "    if counter==5:\n",
    "        break\n",
    "    counter=counter+1\n"
   ]
  },
  {
   "cell_type": "code",
   "execution_count": 3,
   "metadata": {},
   "outputs": [
    {
     "name": "stdout",
     "output_type": "stream",
     "text": [
      "1\n",
      "2\n",
      "3\n",
      "4\n",
      "6\n",
      "7\n",
      "8\n",
      "9\n",
      "10\n"
     ]
    }
   ],
   "source": [
    "#continue option in while loop to skip any specific condition \n",
    "counter =0\n",
    "while counter<10:\n",
    "    counter=counter+1\n",
    "    if counter==5:\n",
    "        continue\n",
    "    print(counter)"
   ]
  },
  {
   "cell_type": "code",
   "execution_count": 4,
   "metadata": {},
   "outputs": [
    {
     "name": "stdout",
     "output_type": "stream",
     "text": [
      "Here is the list of products\n",
      "0: shoes : £1000: sneakers\n",
      "1: t-shirt : £500: casual\n",
      "2: jeans : £2000: casual\n",
      "3: sunglasses : £500: fashion\n",
      "4: Monitor : £1000: LED\n",
      "Here is the list of products\n",
      "0: shoes : £1000: sneakers\n",
      "1: t-shirt : £500: casual\n",
      "2: jeans : £2000: casual\n",
      "3: sunglasses : £500: fashion\n",
      "4: Monitor : £1000: LED\n"
     ]
    }
   ],
   "source": [
    "products_list = [{\"product\":\"shoes\", \"price\": 1000,\"description\": \"sneakers\"}, \n",
    "                 {\"product\":\"t-shirt\", \"price\": 500,\"description\": \"casual\"},\n",
    "                   {\"product\":\"jeans\", \"price\": 2000,\"description\": \"casual\"},\n",
    "                   {\"product\":\"sunglasses\", \"price\": 500,\"description\": \"fashion\"},\n",
    "                   {\"product\":\"Monitor\", \"price\": 1000,\"description\": \"LED\"}]\n",
    "\n",
    "\n",
    "cart =[]\n",
    "\n",
    "while True:\n",
    "    choice = input(\"Do you want to add an item to the cart? (y/n): \")\n",
    "    if choice.lower() == \"y\":\n",
    "        print(\"Here is the list of products\")\n",
    "        for index, product in enumerate(products_list):\n",
    "            print(f\"{index}: {product['product']} : £{product['price']}: {product['description']}\")"
   ]
  },
  {
   "cell_type": "code",
   "execution_count": null,
   "metadata": {},
   "outputs": [],
   "source": []
  }
 ],
 "metadata": {
  "kernelspec": {
   "display_name": "base",
   "language": "python",
   "name": "python3"
  },
  "language_info": {
   "codemirror_mode": {
    "name": "ipython",
    "version": 3
   },
   "file_extension": ".py",
   "mimetype": "text/x-python",
   "name": "python",
   "nbconvert_exporter": "python",
   "pygments_lexer": "ipython3",
   "version": "3.11.5"
  }
 },
 "nbformat": 4,
 "nbformat_minor": 2
}
