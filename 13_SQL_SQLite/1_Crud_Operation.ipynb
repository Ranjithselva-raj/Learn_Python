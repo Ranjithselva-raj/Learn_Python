{
 "cells": [
  {
   "cell_type": "markdown",
   "metadata": {},
   "source": [
    "SQL and SQLite\n",
    "\n",
    "SQL(Structured query language) is a standard languages for managing and manipulating relational databases. SQLite is a self-contained, serverless,\n",
    "and zero-configuration database engine that is widely used for embedded database systems. In this lesson, we will cover the basics of SQL and SQLite, including creating databases, tables, and performing various SQL operations."
   ]
  },
  {
   "cell_type": "code",
   "execution_count": 1,
   "metadata": {},
   "outputs": [],
   "source": [
    "import sqlite3"
   ]
  },
  {
   "cell_type": "code",
   "execution_count": 2,
   "metadata": {},
   "outputs": [],
   "source": [
    "## connect to an sqlite database\n",
    "connection = sqlite3.connect('test.db')"
   ]
  },
  {
   "cell_type": "code",
   "execution_count": 3,
   "metadata": {},
   "outputs": [],
   "source": [
    "cursor = connection.cursor()"
   ]
  },
  {
   "cell_type": "code",
   "execution_count": 4,
   "metadata": {},
   "outputs": [],
   "source": [
    "cursor.execute('''\n",
    "    Create Table If not Exists Employees(\n",
    "               id integer primary key,\n",
    "               name Text Not Null,\n",
    "               age integer,\n",
    "               department Text  \n",
    "    )\n",
    "''')\n",
    "\n",
    "connection.commit()"
   ]
  },
  {
   "cell_type": "code",
   "execution_count": 5,
   "metadata": {},
   "outputs": [
    {
     "data": {
      "text/plain": [
       "<sqlite3.Cursor at 0x2b5aff6bdc0>"
      ]
     },
     "execution_count": 5,
     "metadata": {},
     "output_type": "execute_result"
    }
   ],
   "source": [
    "cursor.execute('''\n",
    "select * from Employees\n",
    "''')"
   ]
  },
  {
   "cell_type": "code",
   "execution_count": 6,
   "metadata": {},
   "outputs": [],
   "source": [
    "#insert the data in Sqlite table Employees\n",
    "\n",
    "cursor.execute('''\n",
    "insert into Employees(id,name,age,department) \n",
    "               values(1,'John',25,'HR')''')\n",
    "\n",
    "cursor.execute('''\n",
    "insert into Employees(id,name,age,department) \n",
    "               values(2,'Ranjith',34,'ENG')\n",
    "               ''')\n",
    "\n",
    "cursor.execute('''\n",
    "insert into Employees(id,name,age,department) \n",
    "               values(3,'bob',25,'finance')''')\n",
    "\n",
    "cursor.execute('''\n",
    "insert into Employees(id,name,age,department) \n",
    "               values(4,'clirk',34,'maintenance')\n",
    "               ''')\n",
    "#commit the changes\n",
    "connection.commit()"
   ]
  },
  {
   "cell_type": "code",
   "execution_count": 9,
   "metadata": {},
   "outputs": [
    {
     "name": "stdout",
     "output_type": "stream",
     "text": [
      "(1, 'John', 25, 'HR')\n",
      "(2, 'Ranjith', 34, 'ENG')\n",
      "(3, 'bob', 25, 'finance')\n",
      "(4, 'clirk', 34, 'maintenance')\n"
     ]
    }
   ],
   "source": [
    "##query the data from Sqlite table Employees\n",
    "\n",
    "cursor.execute('''select * from Employees''')\n",
    "rows = cursor.fetchall()\n",
    "rows\n",
    "for row in rows:\n",
    "    print(row)"
   ]
  },
  {
   "cell_type": "code",
   "execution_count": 10,
   "metadata": {},
   "outputs": [],
   "source": [
    "##update the data in Sqlite table Employees\n",
    "\n",
    "cursor.execute('update Employees set name = \"Johnny\" where id = 1')\n",
    "connection.commit()"
   ]
  },
  {
   "cell_type": "code",
   "execution_count": 11,
   "metadata": {},
   "outputs": [
    {
     "name": "stdout",
     "output_type": "stream",
     "text": [
      "(1, 'Johnny', 25, 'HR')\n",
      "(2, 'Ranjith', 34, 'ENG')\n",
      "(3, 'bob', 25, 'finance')\n",
      "(4, 'clirk', 34, 'maintenance')\n"
     ]
    }
   ],
   "source": [
    "##query the data from Sqlite table Employees\n",
    "\n",
    "cursor.execute('''select * from Employees''')\n",
    "rows = cursor.fetchall()\n",
    "rows\n",
    "for row in rows:\n",
    "    print(row)"
   ]
  },
  {
   "cell_type": "code",
   "execution_count": 12,
   "metadata": {},
   "outputs": [],
   "source": [
    "#delete the data in Sqlite table Employees\n",
    "\n",
    "cursor.execute('delete from Employees where id = 1')\n",
    "connection.commit()"
   ]
  },
  {
   "cell_type": "code",
   "execution_count": 13,
   "metadata": {},
   "outputs": [
    {
     "name": "stdout",
     "output_type": "stream",
     "text": [
      "(2, 'Ranjith', 34, 'ENG')\n",
      "(3, 'bob', 25, 'finance')\n",
      "(4, 'clirk', 34, 'maintenance')\n"
     ]
    }
   ],
   "source": [
    "##query the data from Sqlite table Employees\n",
    "\n",
    "cursor.execute('''select * from Employees''')\n",
    "rows = cursor.fetchall()\n",
    "rows\n",
    "for row in rows:\n",
    "    print(row)"
   ]
  },
  {
   "cell_type": "code",
   "execution_count": 14,
   "metadata": {},
   "outputs": [],
   "source": [
    "##working with sales data\n",
    "\n",
    "#connect to an sqlite database\n",
    "connection = sqlite3.connect('sales.db')\n",
    "cursor = connection.cursor()\n"
   ]
  },
  {
   "cell_type": "code",
   "execution_count": 15,
   "metadata": {},
   "outputs": [
    {
     "data": {
      "text/plain": [
       "<sqlite3.Cursor at 0x2b5b0113f40>"
      ]
     },
     "execution_count": 15,
     "metadata": {},
     "output_type": "execute_result"
    }
   ],
   "source": [
    "#create table sales\n",
    "cursor.execute('''\n",
    "Create Table If not Exists sales(\n",
    "               id integer primary key,\n",
    "               date Text Not Null,\n",
    "               sales integer,\n",
    "               region Text  \n",
    "    )\n",
    "''')"
   ]
  },
  {
   "cell_type": "code",
   "execution_count": 16,
   "metadata": {},
   "outputs": [],
   "source": [
    "sales_data = [\n",
    "    (1, '2020-01-01', 100, 'East'),\n",
    "    (2, '2020-01-02', 200, 'East'),\n",
    "    (3, '2020-01-03', 300, 'West'),\n",
    "    (4, '2020-01-04', 400, 'West'),\n",
    "    (5, '2020-01-05', 500, 'East'),\n",
    "    (6, '2020-01-06', 600, 'West'),\n",
    "    (7, '2020-01-07', 700, 'East'),\n",
    "]"
   ]
  },
  {
   "cell_type": "code",
   "execution_count": 18,
   "metadata": {},
   "outputs": [],
   "source": [
    "#insert the data in Sqlite table sales\n",
    "cursor.executemany('''\n",
    "insert into sales(id,date,sales,region) \n",
    "               values(?,?,?,?)''', sales_data)\n",
    "connection.commit()"
   ]
  },
  {
   "cell_type": "code",
   "execution_count": 21,
   "metadata": {},
   "outputs": [
    {
     "name": "stdout",
     "output_type": "stream",
     "text": [
      "(1, '2020-01-01', 100, 'East')\n",
      "1 2020-01-01 100 East\n",
      "(2, '2020-01-02', 200, 'East')\n",
      "2 2020-01-02 200 East\n",
      "(3, '2020-01-03', 300, 'West')\n",
      "3 2020-01-03 300 West\n",
      "(4, '2020-01-04', 400, 'West')\n",
      "4 2020-01-04 400 West\n",
      "(5, '2020-01-05', 500, 'East')\n",
      "5 2020-01-05 500 East\n",
      "(6, '2020-01-06', 600, 'West')\n",
      "6 2020-01-06 600 West\n",
      "(7, '2020-01-07', 700, 'East')\n",
      "7 2020-01-07 700 East\n"
     ]
    }
   ],
   "source": [
    "#query the data from Sqlite table sales\n",
    "cursor.execute('''select * from sales''')\n",
    "rows = cursor.fetchall()\n",
    "rows\n",
    "for row in rows:\n",
    "    print(row)\n",
    "    print(row[0],row[1],row[2],row[3])"
   ]
  },
  {
   "cell_type": "code",
   "execution_count": 22,
   "metadata": {},
   "outputs": [],
   "source": [
    "##close the connection\n",
    "connection.close()"
   ]
  }
 ],
 "metadata": {
  "kernelspec": {
   "display_name": "Python 3",
   "language": "python",
   "name": "python3"
  },
  "language_info": {
   "codemirror_mode": {
    "name": "ipython",
    "version": 3
   },
   "file_extension": ".py",
   "mimetype": "text/x-python",
   "name": "python",
   "nbconvert_exporter": "python",
   "pygments_lexer": "ipython3",
   "version": "3.10.0"
  }
 },
 "nbformat": 4,
 "nbformat_minor": 2
}
