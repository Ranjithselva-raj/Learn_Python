{
 "cells": [
  {
   "cell_type": "markdown",
   "metadata": {},
   "source": [
    "### Multi Threading and Processing\n",
    "\n",
    "Program -> A program is a sequence of instruments written in programming language[eg:python,c++]\n",
    "\n",
    "## Process\n",
    "\n",
    "Process -> A process is simply an instance of a program that is being executed [`eg:Browser`]. Process is working along with OS and it will be requiring alot of computer resources. Now those resources  shared with in process. \n",
    "\n",
    "# Whenever we run the process that will have a separate memory space\n",
    "\n",
    "1st resuorce is Code segment -> Basically this resource is the code that needs to run the instance of process\n",
    "\n",
    "2nd Data Segment -> It has all the global and static variables\n",
    "\n",
    "3rd Heap Memory -> Dynamic allocation of memory will happen \n",
    "\n",
    "4th Stack and Registers ->  Stack will Make sure it has acces to all the local variables and function calls. Registers is small memory so whenever to store some variables and logics temporarily requires in process this will be used.\n",
    "\n",
    "# Spearate Memory Space\n",
    "\n",
    "* One process cannot corrupt another process\n",
    "* I/O requirements [Resources]\n",
    "    1. Disadvantage of separate memory allocation this will increase the execution time to switch between processes. `Eg: Brower, Excel, word or APP`\n",
    "    \n",
    "\n"
   ]
  },
  {
   "cell_type": "markdown",
   "metadata": {},
   "source": [
    "### Threads \n",
    "\n",
    "A thread is a unit of execution within the process.\n",
    "\n",
    "## Single threaded process:\n",
    "\n",
    "There will be a single thread this will have its own stack and register but this will share the code,data and Heap segments from process itself.\n",
    "\n",
    "`MS paint` \n",
    "1. opening the app is a  process\n",
    "\n",
    " Threads getting created within the process\n",
    "\n",
    "2. when you click cursor new thread has been created to draw shape. And to create another thread to create another shape.\n",
    "\n",
    "\n",
    "## Multi threaded process\n",
    "\n",
    "Everything is same as Single threaded process but this will have multi thread.\n",
    "\n"
   ]
  },
  {
   "cell_type": "code",
   "execution_count": null,
   "metadata": {},
   "outputs": [],
   "source": []
  }
 ],
 "metadata": {
  "language_info": {
   "name": "python"
  }
 },
 "nbformat": 4,
 "nbformat_minor": 2
}
