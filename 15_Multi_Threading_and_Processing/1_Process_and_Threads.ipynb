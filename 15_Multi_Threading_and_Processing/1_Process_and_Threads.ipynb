{
 "cells": [
  {
   "cell_type": "markdown",
   "metadata": {},
   "source": [
    "### Multi Threading and Processing\n",
    "\n",
    "Program -> A program is a sequence of instruments written in programming language[eg:python,c++]\n",
    "\n",
    "Process -> A process is simply an instance of a program that is being executed [`eg:Browser`]. Process is working along with OS and it will be requiring alot of computer resources. Now those resources  shared with in process. \n",
    "\n",
    "\n",
    "1st resuorce is Code segment -> Basically this resource is the code that needs to run the instance of process\n",
    "\n",
    "2nd Data Segment -> It has all the global and static variables\n",
    "\n",
    "3rd Heap Memory -> Dynamic allocation of memory will happen \n",
    "\n",
    "4th Stack and Registers ->  Stack will Make sure it has acces to all the local variables and function calls. Registers is small memory so whenever to store some variables and logics temporarily requires in process this will be used.\n",
    "\n"
   ]
  },
  {
   "cell_type": "code",
   "execution_count": null,
   "metadata": {},
   "outputs": [],
   "source": []
  }
 ],
 "metadata": {
  "language_info": {
   "name": "python"
  }
 },
 "nbformat": 4,
 "nbformat_minor": 2
}
